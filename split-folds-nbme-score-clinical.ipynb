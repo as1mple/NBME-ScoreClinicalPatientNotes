{
 "cells": [
  {
   "cell_type": "markdown",
   "id": "9fec668c",
   "metadata": {
    "_cell_guid": "b1076dfc-b9ad-4769-8c92-a6c4dae69d19",
    "_uuid": "8f2839f25d086af736a60e9eeb907d3b93b6e0e5",
    "papermill": {
     "duration": 0.020243,
     "end_time": "2022-03-23T12:55:34.746794",
     "exception": false,
     "start_time": "2022-03-23T12:55:34.726551",
     "status": "completed"
    },
    "tags": []
   },
   "source": [
    "# Lib"
   ]
  },
  {
   "cell_type": "code",
   "execution_count": 1,
   "id": "1eb71b7b",
   "metadata": {
    "execution": {
     "iopub.execute_input": "2022-03-23T12:55:34.785793Z",
     "iopub.status.busy": "2022-03-23T12:55:34.784204Z",
     "iopub.status.idle": "2022-03-23T12:55:35.722231Z",
     "shell.execute_reply": "2022-03-23T12:55:35.722803Z",
     "shell.execute_reply.started": "2022-03-08T15:11:10.310746Z"
    },
    "papermill": {
     "duration": 0.96079,
     "end_time": "2022-03-23T12:55:35.723068",
     "exception": false,
     "start_time": "2022-03-23T12:55:34.762278",
     "status": "completed"
    },
    "tags": []
   },
   "outputs": [],
   "source": [
    "import pandas as pd\n",
    "from ast import literal_eval\n",
    "from sklearn.model_selection import GroupKFold"
   ]
  },
  {
   "cell_type": "markdown",
   "id": "daf83540",
   "metadata": {
    "papermill": {
     "duration": 0.010862,
     "end_time": "2022-03-23T12:55:35.743720",
     "exception": false,
     "start_time": "2022-03-23T12:55:35.732858",
     "status": "completed"
    },
    "tags": []
   },
   "source": [
    "# Config"
   ]
  },
  {
   "cell_type": "code",
   "execution_count": 2,
   "id": "7454636a",
   "metadata": {
    "execution": {
     "iopub.execute_input": "2022-03-23T12:55:35.770561Z",
     "iopub.status.busy": "2022-03-23T12:55:35.769424Z",
     "iopub.status.idle": "2022-03-23T12:55:35.773554Z",
     "shell.execute_reply": "2022-03-23T12:55:35.773109Z",
     "shell.execute_reply.started": "2022-03-08T15:11:11.653331Z"
    },
    "papermill": {
     "duration": 0.020483,
     "end_time": "2022-03-23T12:55:35.773666",
     "exception": false,
     "start_time": "2022-03-23T12:55:35.753183",
     "status": "completed"
    },
    "tags": []
   },
   "outputs": [
    {
     "data": {
      "text/plain": [
       "{'n_splits': 5}"
      ]
     },
     "execution_count": 2,
     "metadata": {},
     "output_type": "execute_result"
    }
   ],
   "source": [
    "CFG = dict(n_splits=5)\n",
    "CFG"
   ]
  },
  {
   "cell_type": "markdown",
   "id": "230bbd30",
   "metadata": {
    "papermill": {
     "duration": 0.009649,
     "end_time": "2022-03-23T12:55:35.793343",
     "exception": false,
     "start_time": "2022-03-23T12:55:35.783694",
     "status": "completed"
    },
    "tags": []
   },
   "source": [
    "# Data loading"
   ]
  },
  {
   "cell_type": "code",
   "execution_count": 3,
   "id": "89195cff",
   "metadata": {
    "execution": {
     "iopub.execute_input": "2022-03-23T12:55:35.817549Z",
     "iopub.status.busy": "2022-03-23T12:55:35.816974Z",
     "iopub.status.idle": "2022-03-23T12:55:36.502639Z",
     "shell.execute_reply": "2022-03-23T12:55:36.502113Z",
     "shell.execute_reply.started": "2022-03-08T15:11:11.662855Z"
    },
    "papermill": {
     "duration": 0.699666,
     "end_time": "2022-03-23T12:55:36.502772",
     "exception": false,
     "start_time": "2022-03-23T12:55:35.803106",
     "status": "completed"
    },
    "tags": []
   },
   "outputs": [],
   "source": [
    "base_path = \"../input/nbme-score-clinical-patient-notes\"\n",
    "\n",
    "patient_notes = pd.read_csv(f\"{base_path}/patient_notes.csv\")\n",
    "features = pd.read_csv(f\"{base_path}/features.csv\")\n",
    "train_data = pd.read_csv(f\"{base_path}/train.csv\")"
   ]
  },
  {
   "cell_type": "markdown",
   "id": "fdf141b7",
   "metadata": {
    "papermill": {
     "duration": 0.009652,
     "end_time": "2022-03-23T12:55:36.522631",
     "exception": false,
     "start_time": "2022-03-23T12:55:36.512979",
     "status": "completed"
    },
    "tags": []
   },
   "source": [
    "# Preprocessing"
   ]
  },
  {
   "cell_type": "code",
   "execution_count": 4,
   "id": "91af3318",
   "metadata": {
    "execution": {
     "iopub.execute_input": "2022-03-23T12:55:36.565070Z",
     "iopub.status.busy": "2022-03-23T12:55:36.564256Z",
     "iopub.status.idle": "2022-03-23T12:55:36.646417Z",
     "shell.execute_reply": "2022-03-23T12:55:36.647319Z",
     "shell.execute_reply.started": "2022-03-08T15:11:12.566902Z"
    },
    "papermill": {
     "duration": 0.108549,
     "end_time": "2022-03-23T12:55:36.647652",
     "exception": false,
     "start_time": "2022-03-23T12:55:36.539103",
     "status": "completed"
    },
    "tags": []
   },
   "outputs": [
    {
     "name": "stdout",
     "output_type": "stream",
     "text": [
      "Shape train_merge = (14300, 8)\n"
     ]
    },
    {
     "data": {
      "text/html": [
       "<div>\n",
       "<style scoped>\n",
       "    .dataframe tbody tr th:only-of-type {\n",
       "        vertical-align: middle;\n",
       "    }\n",
       "\n",
       "    .dataframe tbody tr th {\n",
       "        vertical-align: top;\n",
       "    }\n",
       "\n",
       "    .dataframe thead th {\n",
       "        text-align: right;\n",
       "    }\n",
       "</style>\n",
       "<table border=\"1\" class=\"dataframe\">\n",
       "  <thead>\n",
       "    <tr style=\"text-align: right;\">\n",
       "      <th></th>\n",
       "      <th>id</th>\n",
       "      <th>case_num</th>\n",
       "      <th>pn_num</th>\n",
       "      <th>feature_num</th>\n",
       "      <th>annotation</th>\n",
       "      <th>location</th>\n",
       "      <th>pn_history</th>\n",
       "      <th>feature_text</th>\n",
       "    </tr>\n",
       "  </thead>\n",
       "  <tbody>\n",
       "    <tr>\n",
       "      <th>12799</th>\n",
       "      <td>90766_912</td>\n",
       "      <td>9</td>\n",
       "      <td>90766</td>\n",
       "      <td>912</td>\n",
       "      <td>['mom: migraines', 'FH migraines']</td>\n",
       "      <td>['587 601', '560 562;592 601']</td>\n",
       "      <td>20YO female \\r\\nCC: Headache\\r\\nHPI: pt report...</td>\n",
       "      <td>Family-history-of-migraines</td>\n",
       "    </tr>\n",
       "    <tr>\n",
       "      <th>14244</th>\n",
       "      <td>95228_912</td>\n",
       "      <td>9</td>\n",
       "      <td>95228</td>\n",
       "      <td>912</td>\n",
       "      <td>[]</td>\n",
       "      <td>[]</td>\n",
       "      <td>20 F no PMH, lives w/ roommate in apartment ha...</td>\n",
       "      <td>Family-history-of-migraines</td>\n",
       "    </tr>\n",
       "    <tr>\n",
       "      <th>4201</th>\n",
       "      <td>22081_203</td>\n",
       "      <td>2</td>\n",
       "      <td>22081</td>\n",
       "      <td>203</td>\n",
       "      <td>['Sexually monogamous']</td>\n",
       "      <td>['693 712']</td>\n",
       "      <td>CC: Irregular peroids\\r\\n\\r\\nHPI: 44 year olf ...</td>\n",
       "      <td>Sexually-active</td>\n",
       "    </tr>\n",
       "  </tbody>\n",
       "</table>\n",
       "</div>"
      ],
      "text/plain": [
       "              id  case_num  pn_num  feature_num  \\\n",
       "12799  90766_912         9   90766          912   \n",
       "14244  95228_912         9   95228          912   \n",
       "4201   22081_203         2   22081          203   \n",
       "\n",
       "                               annotation                        location  \\\n",
       "12799  ['mom: migraines', 'FH migraines']  ['587 601', '560 562;592 601']   \n",
       "14244                                  []                              []   \n",
       "4201              ['Sexually monogamous']                     ['693 712']   \n",
       "\n",
       "                                              pn_history  \\\n",
       "12799  20YO female \\r\\nCC: Headache\\r\\nHPI: pt report...   \n",
       "14244  20 F no PMH, lives w/ roommate in apartment ha...   \n",
       "4201   CC: Irregular peroids\\r\\n\\r\\nHPI: 44 year olf ...   \n",
       "\n",
       "                      feature_text  \n",
       "12799  Family-history-of-migraines  \n",
       "14244  Family-history-of-migraines  \n",
       "4201               Sexually-active  "
      ]
     },
     "execution_count": 4,
     "metadata": {},
     "output_type": "execute_result"
    }
   ],
   "source": [
    "train_merge = pd.merge(train_data.merge(patient_notes, on=['case_num', 'pn_num'], how='left'),\n",
    "                                        features,\n",
    "                                        on=['feature_num', 'case_num'], how='left'\n",
    "                                        )\n",
    "assert train_merge.shape[0] == train_data.shape[0]\n",
    "\n",
    "print(f\"Shape train_merge = {train_merge.shape}\")\n",
    "train_merge.sample(3)"
   ]
  },
  {
   "cell_type": "markdown",
   "id": "1b434d14",
   "metadata": {
    "papermill": {
     "duration": 0.018763,
     "end_time": "2022-03-23T12:55:36.690156",
     "exception": false,
     "start_time": "2022-03-23T12:55:36.671393",
     "status": "completed"
    },
    "tags": []
   },
   "source": [
    "# Split data"
   ]
  },
  {
   "cell_type": "code",
   "execution_count": 5,
   "id": "733eeae6",
   "metadata": {
    "execution": {
     "iopub.execute_input": "2022-03-23T12:55:36.737854Z",
     "iopub.status.busy": "2022-03-23T12:55:36.737096Z",
     "iopub.status.idle": "2022-03-23T12:55:36.750638Z",
     "shell.execute_reply": "2022-03-23T12:55:36.751649Z",
     "shell.execute_reply.started": "2022-02-23T13:36:18.70143Z"
    },
    "papermill": {
     "duration": 0.044423,
     "end_time": "2022-03-23T12:55:36.751828",
     "exception": false,
     "start_time": "2022-03-23T12:55:36.707405",
     "status": "completed"
    },
    "tags": []
   },
   "outputs": [],
   "source": [
    "train_merge[\"fold\"] = -1\n",
    "\n",
    "skf = GroupKFold(CFG['n_splits'])\n",
    "groups = train_merge['pn_num'].values\n",
    "for fold, (_, valid_idx) in enumerate(skf.split(train_merge[\"id\"], train_merge[\"location\"], groups)):\n",
    "    train_merge.loc[valid_idx, \"fold\"] = fold"
   ]
  },
  {
   "cell_type": "code",
   "execution_count": 6,
   "id": "cd3da3b9",
   "metadata": {
    "execution": {
     "iopub.execute_input": "2022-03-23T12:55:36.804601Z",
     "iopub.status.busy": "2022-03-23T12:55:36.802453Z",
     "iopub.status.idle": "2022-03-23T12:55:36.814659Z",
     "shell.execute_reply": "2022-03-23T12:55:36.815618Z",
     "shell.execute_reply.started": "2022-02-23T13:36:19.222862Z"
    },
    "papermill": {
     "duration": 0.042643,
     "end_time": "2022-03-23T12:55:36.815906",
     "exception": false,
     "start_time": "2022-03-23T12:55:36.773263",
     "status": "completed"
    },
    "tags": []
   },
   "outputs": [
    {
     "data": {
      "text/html": [
       "<div>\n",
       "<style scoped>\n",
       "    .dataframe tbody tr th:only-of-type {\n",
       "        vertical-align: middle;\n",
       "    }\n",
       "\n",
       "    .dataframe tbody tr th {\n",
       "        vertical-align: top;\n",
       "    }\n",
       "\n",
       "    .dataframe thead th {\n",
       "        text-align: right;\n",
       "    }\n",
       "</style>\n",
       "<table border=\"1\" class=\"dataframe\">\n",
       "  <thead>\n",
       "    <tr style=\"text-align: right;\">\n",
       "      <th></th>\n",
       "      <th>fold</th>\n",
       "      <th>size</th>\n",
       "    </tr>\n",
       "  </thead>\n",
       "  <tbody>\n",
       "    <tr>\n",
       "      <th>0</th>\n",
       "      <td>0</td>\n",
       "      <td>2860</td>\n",
       "    </tr>\n",
       "    <tr>\n",
       "      <th>1</th>\n",
       "      <td>1</td>\n",
       "      <td>2860</td>\n",
       "    </tr>\n",
       "    <tr>\n",
       "      <th>2</th>\n",
       "      <td>2</td>\n",
       "      <td>2860</td>\n",
       "    </tr>\n",
       "    <tr>\n",
       "      <th>3</th>\n",
       "      <td>3</td>\n",
       "      <td>2860</td>\n",
       "    </tr>\n",
       "    <tr>\n",
       "      <th>4</th>\n",
       "      <td>4</td>\n",
       "      <td>2860</td>\n",
       "    </tr>\n",
       "  </tbody>\n",
       "</table>\n",
       "</div>"
      ],
      "text/plain": [
       "   fold  size\n",
       "0     0  2860\n",
       "1     1  2860\n",
       "2     2  2860\n",
       "3     3  2860\n",
       "4     4  2860"
      ]
     },
     "execution_count": 6,
     "metadata": {},
     "output_type": "execute_result"
    }
   ],
   "source": [
    "assert train_merge.groupby('fold', as_index=False).size()['size'].sum() == train_merge.shape[0]\n",
    "train_merge.groupby('fold', as_index=False).size()"
   ]
  },
  {
   "cell_type": "markdown",
   "id": "d4ee598b",
   "metadata": {
    "papermill": {
     "duration": 0.019577,
     "end_time": "2022-03-23T12:55:36.855973",
     "exception": false,
     "start_time": "2022-03-23T12:55:36.836396",
     "status": "completed"
    },
    "tags": []
   },
   "source": [
    "# Save"
   ]
  },
  {
   "cell_type": "code",
   "execution_count": 7,
   "id": "761548c6",
   "metadata": {
    "execution": {
     "iopub.execute_input": "2022-03-23T12:55:36.900809Z",
     "iopub.status.busy": "2022-03-23T12:55:36.899984Z",
     "iopub.status.idle": "2022-03-23T12:55:37.431444Z",
     "shell.execute_reply": "2022-03-23T12:55:37.430885Z",
     "shell.execute_reply.started": "2022-02-23T13:36:22.275025Z"
    },
    "papermill": {
     "duration": 0.555839,
     "end_time": "2022-03-23T12:55:37.431575",
     "exception": false,
     "start_time": "2022-03-23T12:55:36.875736",
     "status": "completed"
    },
    "tags": []
   },
   "outputs": [],
   "source": [
    "train_merge.to_csv(f'{CFG[\"n_splits\"]}_folds_data.csv', index=False)"
   ]
  }
 ],
 "metadata": {
  "kernelspec": {
   "display_name": "Python 3",
   "language": "python",
   "name": "python3"
  },
  "language_info": {
   "codemirror_mode": {
    "name": "ipython",
    "version": 3
   },
   "file_extension": ".py",
   "mimetype": "text/x-python",
   "name": "python",
   "nbconvert_exporter": "python",
   "pygments_lexer": "ipython3",
   "version": "3.7.12"
  },
  "papermill": {
   "default_parameters": {},
   "duration": 11.305046,
   "end_time": "2022-03-23T12:55:37.952379",
   "environment_variables": {},
   "exception": null,
   "input_path": "__notebook__.ipynb",
   "output_path": "__notebook__.ipynb",
   "parameters": {},
   "start_time": "2022-03-23T12:55:26.647333",
   "version": "2.3.3"
  }
 },
 "nbformat": 4,
 "nbformat_minor": 5
}
