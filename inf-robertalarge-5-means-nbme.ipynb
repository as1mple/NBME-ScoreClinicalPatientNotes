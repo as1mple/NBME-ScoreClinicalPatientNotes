{
 "cells": [
  {
   "cell_type": "markdown",
   "id": "56a8f40d",
   "metadata": {
    "papermill": {
     "duration": 0.021087,
     "end_time": "2022-03-25T14:26:05.790072",
     "exception": false,
     "start_time": "2022-03-25T14:26:05.768985",
     "status": "completed"
    },
    "tags": []
   },
   "source": [
    "# Lib"
   ]
  },
  {
   "cell_type": "code",
   "execution_count": 1,
   "id": "1f2eb57f",
   "metadata": {
    "execution": {
     "iopub.execute_input": "2022-03-25T14:26:05.840907Z",
     "iopub.status.busy": "2022-03-25T14:26:05.840084Z",
     "iopub.status.idle": "2022-03-25T14:26:07.847765Z",
     "shell.execute_reply": "2022-03-25T14:26:07.846732Z",
     "shell.execute_reply.started": "2022-03-24T18:15:40.176322Z"
    },
    "papermill": {
     "duration": 2.037458,
     "end_time": "2022-03-25T14:26:07.847929",
     "exception": false,
     "start_time": "2022-03-25T14:26:05.810471",
     "status": "completed"
    },
    "tags": []
   },
   "outputs": [],
   "source": [
    "import re\n",
    "import itertools\n",
    "\n",
    "import torch\n",
    "import numpy as np\n",
    "import pandas as pd\n",
    "from torch import nn\n",
    "from tqdm import tqdm\n",
    "from torch.nn import *\n",
    "from torch.utils.data import Dataset, DataLoader\n",
    "from transformers import AutoTokenizer, AutoModel, AutoConfig"
   ]
  },
  {
   "cell_type": "markdown",
   "id": "e2c6ed1a",
   "metadata": {
    "papermill": {
     "duration": 0.02034,
     "end_time": "2022-03-25T14:26:07.888413",
     "exception": false,
     "start_time": "2022-03-25T14:26:07.868073",
     "status": "completed"
    },
    "tags": []
   },
   "source": [
    "# Config"
   ]
  },
  {
   "cell_type": "code",
   "execution_count": 2,
   "id": "038b9210",
   "metadata": {
    "execution": {
     "iopub.execute_input": "2022-03-25T14:26:07.939348Z",
     "iopub.status.busy": "2022-03-25T14:26:07.937745Z",
     "iopub.status.idle": "2022-03-25T14:26:07.942165Z",
     "shell.execute_reply": "2022-03-25T14:26:07.941721Z",
     "shell.execute_reply.started": "2022-03-24T18:34:16.537208Z"
    },
    "papermill": {
     "duration": 0.033719,
     "end_time": "2022-03-25T14:26:07.942279",
     "exception": false,
     "start_time": "2022-03-25T14:26:07.908560",
     "status": "completed"
    },
    "tags": []
   },
   "outputs": [
    {
     "data": {
      "text/plain": [
       "{'dropout': 0.2,\n",
       " 'batch_size': 8,\n",
       " 'max_length': 310,\n",
       " 'model_name': '../input/robertalarge',\n",
       " 'tokenizer': '../input/nbme-roberta-large/roberta-large/tokenizers',\n",
       " 'models_states': ['../input/train-robertalarge-0-5-fold-nbme/model.pth',\n",
       "  '../input/train-robertalarge-1-5-fold-nbme/model.pth',\n",
       "  '../input/train-robertalarge-2-5-fold-nbme/model.pth',\n",
       "  '../input/train-robertalarge-3-5-fold-nbme/model.pth',\n",
       "  '../input/train-robertalarge-4-5-fold-nbme/model.pth']}"
      ]
     },
     "execution_count": 2,
     "metadata": {},
     "output_type": "execute_result"
    }
   ],
   "source": [
    "CFG = dict(dropout=.20,\n",
    "           batch_size=8,\n",
    "           max_length=310,\n",
    "           model_name=\"../input/robertalarge\",\n",
    "           tokenizer='../input/nbme-roberta-large/roberta-large/tokenizers',\n",
    "           models_states=['../input/train-robertalarge-0-5-fold-nbme/model.pth',\n",
    "                          '../input/train-robertalarge-1-5-fold-nbme/model.pth',\n",
    "                          '../input/train-robertalarge-2-5-fold-nbme/model.pth',\n",
    "                          '../input/train-robertalarge-3-5-fold-nbme/model.pth',\n",
    "                          '../input/train-robertalarge-4-5-fold-nbme/model.pth']\n",
    ")\n",
    "CFG"
   ]
  },
  {
   "cell_type": "markdown",
   "id": "13ec7a45",
   "metadata": {
    "papermill": {
     "duration": 0.02009,
     "end_time": "2022-03-25T14:26:07.982838",
     "exception": false,
     "start_time": "2022-03-25T14:26:07.962748",
     "status": "completed"
    },
    "tags": []
   },
   "source": [
    "# Data loading"
   ]
  },
  {
   "cell_type": "code",
   "execution_count": 3,
   "id": "92c3c84e",
   "metadata": {
    "execution": {
     "iopub.execute_input": "2022-03-25T14:26:08.028580Z",
     "iopub.status.busy": "2022-03-25T14:26:08.027947Z",
     "iopub.status.idle": "2022-03-25T14:26:08.656265Z",
     "shell.execute_reply": "2022-03-25T14:26:08.655574Z",
     "shell.execute_reply.started": "2022-03-24T18:15:20.174537Z"
    },
    "papermill": {
     "duration": 0.653408,
     "end_time": "2022-03-25T14:26:08.656404",
     "exception": false,
     "start_time": "2022-03-25T14:26:08.002996",
     "status": "completed"
    },
    "tags": []
   },
   "outputs": [],
   "source": [
    "base_path = \"../input/nbme-score-clinical-patient-notes\"\n",
    "\n",
    "patient_notes = pd.read_csv(f\"{base_path}/patient_notes.csv\")\n",
    "features = pd.read_csv(f\"{base_path}/features.csv\")\n",
    "test_data = pd.read_csv(f\"{base_path}/test.csv\")"
   ]
  },
  {
   "cell_type": "markdown",
   "id": "c79733a3",
   "metadata": {
    "papermill": {
     "duration": 0.020156,
     "end_time": "2022-03-25T14:26:08.699135",
     "exception": false,
     "start_time": "2022-03-25T14:26:08.678979",
     "status": "completed"
    },
    "tags": []
   },
   "source": [
    "# Preprocessing"
   ]
  },
  {
   "cell_type": "code",
   "execution_count": 4,
   "id": "0f365a4b",
   "metadata": {
    "execution": {
     "iopub.execute_input": "2022-03-25T14:26:08.751935Z",
     "iopub.status.busy": "2022-03-25T14:26:08.751164Z",
     "iopub.status.idle": "2022-03-25T14:26:08.786387Z",
     "shell.execute_reply": "2022-03-25T14:26:08.786815Z",
     "shell.execute_reply.started": "2022-03-24T18:15:22.84059Z"
    },
    "papermill": {
     "duration": 0.067256,
     "end_time": "2022-03-25T14:26:08.786967",
     "exception": false,
     "start_time": "2022-03-25T14:26:08.719711",
     "status": "completed"
    },
    "tags": []
   },
   "outputs": [
    {
     "name": "stdout",
     "output_type": "stream",
     "text": [
      "Shape test_merge = (5, 6)\n"
     ]
    },
    {
     "data": {
      "text/html": [
       "<div>\n",
       "<style scoped>\n",
       "    .dataframe tbody tr th:only-of-type {\n",
       "        vertical-align: middle;\n",
       "    }\n",
       "\n",
       "    .dataframe tbody tr th {\n",
       "        vertical-align: top;\n",
       "    }\n",
       "\n",
       "    .dataframe thead th {\n",
       "        text-align: right;\n",
       "    }\n",
       "</style>\n",
       "<table border=\"1\" class=\"dataframe\">\n",
       "  <thead>\n",
       "    <tr style=\"text-align: right;\">\n",
       "      <th></th>\n",
       "      <th>id</th>\n",
       "      <th>case_num</th>\n",
       "      <th>pn_num</th>\n",
       "      <th>feature_num</th>\n",
       "      <th>pn_history</th>\n",
       "      <th>feature_text</th>\n",
       "    </tr>\n",
       "  </thead>\n",
       "  <tbody>\n",
       "    <tr>\n",
       "      <th>2</th>\n",
       "      <td>00016_002</td>\n",
       "      <td>0</td>\n",
       "      <td>16</td>\n",
       "      <td>2</td>\n",
       "      <td>HPI: 17yo M presents with palpitations. Patien...</td>\n",
       "      <td>Chest-pressure</td>\n",
       "    </tr>\n",
       "    <tr>\n",
       "      <th>1</th>\n",
       "      <td>00016_001</td>\n",
       "      <td>0</td>\n",
       "      <td>16</td>\n",
       "      <td>1</td>\n",
       "      <td>HPI: 17yo M presents with palpitations. Patien...</td>\n",
       "      <td>Family-history-of-thyroid-disorder</td>\n",
       "    </tr>\n",
       "    <tr>\n",
       "      <th>0</th>\n",
       "      <td>00016_000</td>\n",
       "      <td>0</td>\n",
       "      <td>16</td>\n",
       "      <td>0</td>\n",
       "      <td>HPI: 17yo M presents with palpitations. Patien...</td>\n",
       "      <td>Family-history-of-MI-OR-Family-history-of-myoc...</td>\n",
       "    </tr>\n",
       "  </tbody>\n",
       "</table>\n",
       "</div>"
      ],
      "text/plain": [
       "          id  case_num  pn_num  feature_num  \\\n",
       "2  00016_002         0      16            2   \n",
       "1  00016_001         0      16            1   \n",
       "0  00016_000         0      16            0   \n",
       "\n",
       "                                          pn_history  \\\n",
       "2  HPI: 17yo M presents with palpitations. Patien...   \n",
       "1  HPI: 17yo M presents with palpitations. Patien...   \n",
       "0  HPI: 17yo M presents with palpitations. Patien...   \n",
       "\n",
       "                                        feature_text  \n",
       "2                                     Chest-pressure  \n",
       "1                 Family-history-of-thyroid-disorder  \n",
       "0  Family-history-of-MI-OR-Family-history-of-myoc...  "
      ]
     },
     "execution_count": 4,
     "metadata": {},
     "output_type": "execute_result"
    }
   ],
   "source": [
    "test_merge = pd.merge(test_data.merge(patient_notes, on=['case_num', 'pn_num'], how='left'),\n",
    "                                        features,\n",
    "                                        on=['feature_num', 'case_num'], how='left'\n",
    "                                        )\n",
    "\n",
    "assert test_merge.shape[0] == test_data.shape[0]\n",
    "\n",
    "print(f\"Shape test_merge = {test_merge.shape}\")\n",
    "test_merge.sample(3)"
   ]
  },
  {
   "cell_type": "code",
   "execution_count": 5,
   "id": "48081f8d",
   "metadata": {
    "execution": {
     "iopub.execute_input": "2022-03-25T14:26:08.837155Z",
     "iopub.status.busy": "2022-03-25T14:26:08.835586Z",
     "iopub.status.idle": "2022-03-25T14:26:08.837801Z",
     "shell.execute_reply": "2022-03-25T14:26:08.838266Z",
     "shell.execute_reply.started": "2022-03-24T18:15:23.438955Z"
    },
    "papermill": {
     "duration": 0.02995,
     "end_time": "2022-03-25T14:26:08.838404",
     "exception": false,
     "start_time": "2022-03-25T14:26:08.808454",
     "status": "completed"
    },
    "tags": []
   },
   "outputs": [],
   "source": [
    "def process_feature_text(text):\n",
    "    text = re.sub('I-year', '1-year', text)\n",
    "    text = re.sub('-OR-', \" or \", text)\n",
    "    text = re.sub('-', ' ', text)\n",
    "    return text\n",
    "\n",
    "def clean_spaces(text):\n",
    "    text = re.sub('\\n', ' ', text)\n",
    "    text = re.sub('\\t', ' ', text)\n",
    "    text = re.sub('\\r', ' ', text)\n",
    "    return text"
   ]
  },
  {
   "cell_type": "code",
   "execution_count": 6,
   "id": "f22d3617",
   "metadata": {
    "execution": {
     "iopub.execute_input": "2022-03-25T14:26:08.890134Z",
     "iopub.status.busy": "2022-03-25T14:26:08.884595Z",
     "iopub.status.idle": "2022-03-25T14:26:08.892478Z",
     "shell.execute_reply": "2022-03-25T14:26:08.892034Z",
     "shell.execute_reply.started": "2022-03-24T18:15:44.907996Z"
    },
    "papermill": {
     "duration": 0.032974,
     "end_time": "2022-03-25T14:26:08.892589",
     "exception": false,
     "start_time": "2022-03-25T14:26:08.859615",
     "status": "completed"
    },
    "tags": []
   },
   "outputs": [],
   "source": [
    "test_merge[\"pn_history\"] = test_merge[\"pn_history\"].apply(lambda x: x.strip())\n",
    "test_merge[\"feature_text\"] = test_merge[\"feature_text\"].apply(process_feature_text)\n",
    "test_merge[\"feature_text\"] = test_merge[\"feature_text\"].apply(clean_spaces)\n",
    "test_merge[\"pn_history\"] = test_merge[\"pn_history\"].apply(clean_spaces)\n",
    "\n",
    "test_merge[\"feature_text\"] = test_merge[\"feature_text\"].apply(lambda x: x.lower())\n",
    "test_merge[\"pn_history\"] = test_merge[\"pn_history\"].apply(lambda x: x.lower())"
   ]
  },
  {
   "cell_type": "markdown",
   "id": "81619dee",
   "metadata": {
    "papermill": {
     "duration": 0.020873,
     "end_time": "2022-03-25T14:26:08.934753",
     "exception": false,
     "start_time": "2022-03-25T14:26:08.913880",
     "status": "completed"
    },
    "tags": []
   },
   "source": [
    "# Data Generator"
   ]
  },
  {
   "cell_type": "code",
   "execution_count": 7,
   "id": "793c8dc1",
   "metadata": {
    "execution": {
     "iopub.execute_input": "2022-03-25T14:26:08.986305Z",
     "iopub.status.busy": "2022-03-25T14:26:08.985441Z",
     "iopub.status.idle": "2022-03-25T14:26:08.987337Z",
     "shell.execute_reply": "2022-03-25T14:26:08.987758Z",
     "shell.execute_reply.started": "2022-03-24T18:35:46.808498Z"
    },
    "papermill": {
     "duration": 0.032018,
     "end_time": "2022-03-25T14:26:08.987898",
     "exception": false,
     "start_time": "2022-03-25T14:26:08.955880",
     "status": "completed"
    },
    "tags": []
   },
   "outputs": [],
   "source": [
    "class Data_gen(Dataset):\n",
    "    def __init__(self, df, transforms_input, tokenizer):\n",
    "        self.pn_historys = df['pn_history']\n",
    "        self.feature_text = df['feature_text']\n",
    "\n",
    "        \n",
    "        self.transforms_input = transforms_input        \n",
    "        self.tokenizer = tokenizer\n",
    "    \n",
    "        \n",
    "    def __len__(self):\n",
    "        return len(self.pn_historys)\n",
    "\n",
    "    def __getitem__(self, index):\n",
    "                \n",
    "        tokens = self.transforms_input(self.tokenizer,\n",
    "                                  self.pn_historys[index],\n",
    "                                  self.feature_text[index])\n",
    "        \n",
    "        input_ids = np.array(tokens[\"input_ids\"])\n",
    "        attention_mask = np.array(tokens[\"attention_mask\"])\n",
    "        token_type_ids = np.array(tokens[\"token_type_ids\"])\n",
    "\n",
    "        offset_mapping = np.array(tokens['offset_mapping'])\n",
    "        sequence_ids = np.array(tokens.sequence_ids()).astype(\"float16\")\n",
    "        \n",
    "        \n",
    "        return {'X': {'input_ids': input_ids,\n",
    "                      'attention_mask': attention_mask,\n",
    "                      'token_type_ids': token_type_ids,\n",
    "                      'offset_mapping': offset_mapping,\n",
    "                      'sequence_ids': sequence_ids},\n",
    "                }"
   ]
  },
  {
   "cell_type": "markdown",
   "id": "cf7404d4",
   "metadata": {
    "papermill": {
     "duration": 0.020832,
     "end_time": "2022-03-25T14:26:09.030042",
     "exception": false,
     "start_time": "2022-03-25T14:26:09.009210",
     "status": "completed"
    },
    "tags": []
   },
   "source": [
    "# Score"
   ]
  },
  {
   "cell_type": "code",
   "execution_count": 8,
   "id": "cb57fb28",
   "metadata": {
    "execution": {
     "iopub.execute_input": "2022-03-25T14:26:09.081248Z",
     "iopub.status.busy": "2022-03-25T14:26:09.080398Z",
     "iopub.status.idle": "2022-03-25T14:26:09.082319Z",
     "shell.execute_reply": "2022-03-25T14:26:09.082781Z",
     "shell.execute_reply.started": "2022-03-24T18:18:15.783259Z"
    },
    "papermill": {
     "duration": 0.031594,
     "end_time": "2022-03-25T14:26:09.082921",
     "exception": false,
     "start_time": "2022-03-25T14:26:09.051327",
     "status": "completed"
    },
    "tags": []
   },
   "outputs": [],
   "source": [
    "def get_location_predictions(preds, offset_mapping, sequence_ids, test=False):\n",
    "    all_predictions = []\n",
    "    for pred, offsets, seq_ids in zip(preds, offset_mapping, sequence_ids):\n",
    "        pred = 1 / (1 + np.exp(-pred))\n",
    "        start_idx = None\n",
    "        end_idx = None\n",
    "        current_preds = []\n",
    "        for pred, offset, seq_id in zip(pred, offsets, seq_ids):\n",
    "            if seq_id is None or seq_id == 0:\n",
    "                continue\n",
    "\n",
    "            if pred > 0.5:\n",
    "                if start_idx is None:\n",
    "                    start_idx = offset[0]\n",
    "                end_idx = offset[1]\n",
    "            elif start_idx is not None:\n",
    "                if test:\n",
    "                    current_preds.append(f\"{start_idx} {end_idx}\")\n",
    "                else:\n",
    "                    current_preds.append((start_idx, end_idx))\n",
    "                start_idx = None\n",
    "        if test:\n",
    "            all_predictions.append(\"; \".join(current_preds))\n",
    "        else:\n",
    "            all_predictions.append(current_preds)\n",
    "            \n",
    "    return all_predictions"
   ]
  },
  {
   "cell_type": "markdown",
   "id": "5963c12b",
   "metadata": {
    "papermill": {
     "duration": 0.02066,
     "end_time": "2022-03-25T14:26:09.124841",
     "exception": false,
     "start_time": "2022-03-25T14:26:09.104181",
     "status": "completed"
    },
    "tags": []
   },
   "source": [
    "# Transform"
   ]
  },
  {
   "cell_type": "code",
   "execution_count": 9,
   "id": "0ed9b9ee",
   "metadata": {
    "execution": {
     "iopub.execute_input": "2022-03-25T14:26:09.172550Z",
     "iopub.status.busy": "2022-03-25T14:26:09.172032Z",
     "iopub.status.idle": "2022-03-25T14:26:09.175723Z",
     "shell.execute_reply": "2022-03-25T14:26:09.175272Z",
     "shell.execute_reply.started": "2022-03-24T18:18:16.649453Z"
    },
    "papermill": {
     "duration": 0.03012,
     "end_time": "2022-03-25T14:26:09.175832",
     "exception": false,
     "start_time": "2022-03-25T14:26:09.145712",
     "status": "completed"
    },
    "tags": []
   },
   "outputs": [],
   "source": [
    "def transform(tokenizer, pn_historys, feature_text):\n",
    "    out = tokenizer(\n",
    "        feature_text,\n",
    "        pn_historys,\n",
    "        truncation='only_second',\n",
    "        max_length=CFG['max_length'],\n",
    "        padding='max_length',\n",
    "        return_offsets_mapping=True,\n",
    "        return_token_type_ids=True\n",
    "    )\n",
    "    \n",
    "    out[\"sequence_ids\"] = out.sequence_ids()\n",
    "    \n",
    "    return out"
   ]
  },
  {
   "cell_type": "markdown",
   "id": "b991dee7",
   "metadata": {
    "papermill": {
     "duration": 0.021613,
     "end_time": "2022-03-25T14:26:09.218296",
     "exception": false,
     "start_time": "2022-03-25T14:26:09.196683",
     "status": "completed"
    },
    "tags": []
   },
   "source": [
    "# Tokenizer"
   ]
  },
  {
   "cell_type": "code",
   "execution_count": 10,
   "id": "13c0aff5",
   "metadata": {
    "execution": {
     "iopub.execute_input": "2022-03-25T14:26:09.264302Z",
     "iopub.status.busy": "2022-03-25T14:26:09.263560Z",
     "iopub.status.idle": "2022-03-25T14:26:09.420466Z",
     "shell.execute_reply": "2022-03-25T14:26:09.419574Z",
     "shell.execute_reply.started": "2022-03-24T18:18:17.570962Z"
    },
    "papermill": {
     "duration": 0.18143,
     "end_time": "2022-03-25T14:26:09.420608",
     "exception": false,
     "start_time": "2022-03-25T14:26:09.239178",
     "status": "completed"
    },
    "tags": []
   },
   "outputs": [],
   "source": [
    "tokenizer = AutoTokenizer.from_pretrained(CFG['tokenizer'])"
   ]
  },
  {
   "cell_type": "markdown",
   "id": "0a812be4",
   "metadata": {
    "papermill": {
     "duration": 0.020957,
     "end_time": "2022-03-25T14:26:09.462882",
     "exception": false,
     "start_time": "2022-03-25T14:26:09.441925",
     "status": "completed"
    },
    "tags": []
   },
   "source": [
    "# DataLoader"
   ]
  },
  {
   "cell_type": "code",
   "execution_count": 11,
   "id": "3c5b3d20",
   "metadata": {
    "execution": {
     "iopub.execute_input": "2022-03-25T14:26:09.511388Z",
     "iopub.status.busy": "2022-03-25T14:26:09.509826Z",
     "iopub.status.idle": "2022-03-25T14:26:09.511983Z",
     "shell.execute_reply": "2022-03-25T14:26:09.512385Z",
     "shell.execute_reply.started": "2022-03-24T18:36:13.891703Z"
    },
    "papermill": {
     "duration": 0.028538,
     "end_time": "2022-03-25T14:26:09.512522",
     "exception": false,
     "start_time": "2022-03-25T14:26:09.483984",
     "status": "completed"
    },
    "tags": []
   },
   "outputs": [],
   "source": [
    "test_set = Data_gen(test_merge, transform, tokenizer)\n",
    "test_loader = DataLoader(test_set, batch_size=CFG['batch_size'], shuffle=False)"
   ]
  },
  {
   "cell_type": "markdown",
   "id": "a3f07780",
   "metadata": {
    "papermill": {
     "duration": 0.021085,
     "end_time": "2022-03-25T14:26:09.554518",
     "exception": false,
     "start_time": "2022-03-25T14:26:09.533433",
     "status": "completed"
    },
    "tags": []
   },
   "source": [
    "# Change device"
   ]
  },
  {
   "cell_type": "code",
   "execution_count": 12,
   "id": "df81bdee",
   "metadata": {
    "execution": {
     "iopub.execute_input": "2022-03-25T14:26:09.661226Z",
     "iopub.status.busy": "2022-03-25T14:26:09.660528Z",
     "iopub.status.idle": "2022-03-25T14:26:09.663517Z",
     "shell.execute_reply": "2022-03-25T14:26:09.663959Z",
     "shell.execute_reply.started": "2022-03-24T18:18:23.45895Z"
    },
    "papermill": {
     "duration": 0.088439,
     "end_time": "2022-03-25T14:26:09.664112",
     "exception": false,
     "start_time": "2022-03-25T14:26:09.575673",
     "status": "completed"
    },
    "tags": []
   },
   "outputs": [
    {
     "data": {
      "text/plain": [
       "device(type='cuda', index=0)"
      ]
     },
     "execution_count": 12,
     "metadata": {},
     "output_type": "execute_result"
    }
   ],
   "source": [
    "device = torch.device(\"cuda:0\" if torch.cuda.is_available() else \"cpu\")\n",
    "device"
   ]
  },
  {
   "cell_type": "markdown",
   "id": "86035c8f",
   "metadata": {
    "papermill": {
     "duration": 0.021055,
     "end_time": "2022-03-25T14:26:09.706408",
     "exception": false,
     "start_time": "2022-03-25T14:26:09.685353",
     "status": "completed"
    },
    "tags": []
   },
   "source": [
    "# Model"
   ]
  },
  {
   "cell_type": "code",
   "execution_count": 13,
   "id": "0c3a9a1c",
   "metadata": {
    "execution": {
     "iopub.execute_input": "2022-03-25T14:26:09.755881Z",
     "iopub.status.busy": "2022-03-25T14:26:09.755146Z",
     "iopub.status.idle": "2022-03-25T14:26:09.757346Z",
     "shell.execute_reply": "2022-03-25T14:26:09.757751Z",
     "shell.execute_reply.started": "2022-03-24T18:38:45.939663Z"
    },
    "papermill": {
     "duration": 0.029914,
     "end_time": "2022-03-25T14:26:09.757886",
     "exception": false,
     "start_time": "2022-03-25T14:26:09.727972",
     "status": "completed"
    },
    "tags": []
   },
   "outputs": [],
   "source": [
    "class CustomModel(nn.Module):\n",
    "    def __init__(self):\n",
    "        super().__init__()\n",
    "        \n",
    "        self.bert = AutoModel.from_pretrained(CFG['model_name']) \n",
    "        \n",
    "        self.dropout = nn.Dropout(p=CFG['dropout'])\n",
    "        \n",
    "        self.fc1 = nn.Linear(1024, 1)\n",
    "\n",
    "        \n",
    "    def forward(self, input_ids, attention_mask, token_type_ids):\n",
    "        outputs = self.bert(input_ids=input_ids, attention_mask=attention_mask, token_type_ids=token_type_ids)\n",
    "        \n",
    "        logits = self.fc1(self.dropout(outputs[0])).squeeze(-1)\n",
    "        \n",
    "        return logits"
   ]
  },
  {
   "cell_type": "code",
   "execution_count": 14,
   "id": "729b3772",
   "metadata": {
    "execution": {
     "iopub.execute_input": "2022-03-25T14:26:09.806420Z",
     "iopub.status.busy": "2022-03-25T14:26:09.805881Z",
     "iopub.status.idle": "2022-03-25T14:29:43.840541Z",
     "shell.execute_reply": "2022-03-25T14:29:43.840044Z",
     "shell.execute_reply.started": "2022-03-24T18:38:49.440176Z"
    },
    "papermill": {
     "duration": 214.060581,
     "end_time": "2022-03-25T14:29:43.840709",
     "exception": false,
     "start_time": "2022-03-25T14:26:09.780128",
     "status": "completed"
    },
    "tags": []
   },
   "outputs": [
    {
     "name": "stderr",
     "output_type": "stream",
     "text": [
      "Some weights of the model checkpoint at ../input/robertalarge were not used when initializing RobertaModel: ['lm_head.dense.bias', 'lm_head.decoder.weight', 'lm_head.layer_norm.bias', 'lm_head.dense.weight', 'lm_head.layer_norm.weight', 'lm_head.bias']\n",
      "- This IS expected if you are initializing RobertaModel from the checkpoint of a model trained on another task or with another architecture (e.g. initializing a BertForSequenceClassification model from a BertForPreTraining model).\n",
      "- This IS NOT expected if you are initializing RobertaModel from the checkpoint of a model that you expect to be exactly identical (initializing a BertForSequenceClassification model from a BertForSequenceClassification model).\n",
      "Some weights of the model checkpoint at ../input/robertalarge were not used when initializing RobertaModel: ['lm_head.dense.bias', 'lm_head.decoder.weight', 'lm_head.layer_norm.bias', 'lm_head.dense.weight', 'lm_head.layer_norm.weight', 'lm_head.bias']\n",
      "- This IS expected if you are initializing RobertaModel from the checkpoint of a model trained on another task or with another architecture (e.g. initializing a BertForSequenceClassification model from a BertForPreTraining model).\n",
      "- This IS NOT expected if you are initializing RobertaModel from the checkpoint of a model that you expect to be exactly identical (initializing a BertForSequenceClassification model from a BertForSequenceClassification model).\n",
      "Some weights of the model checkpoint at ../input/robertalarge were not used when initializing RobertaModel: ['lm_head.dense.bias', 'lm_head.decoder.weight', 'lm_head.layer_norm.bias', 'lm_head.dense.weight', 'lm_head.layer_norm.weight', 'lm_head.bias']\n",
      "- This IS expected if you are initializing RobertaModel from the checkpoint of a model trained on another task or with another architecture (e.g. initializing a BertForSequenceClassification model from a BertForPreTraining model).\n",
      "- This IS NOT expected if you are initializing RobertaModel from the checkpoint of a model that you expect to be exactly identical (initializing a BertForSequenceClassification model from a BertForSequenceClassification model).\n",
      "Some weights of the model checkpoint at ../input/robertalarge were not used when initializing RobertaModel: ['lm_head.dense.bias', 'lm_head.decoder.weight', 'lm_head.layer_norm.bias', 'lm_head.dense.weight', 'lm_head.layer_norm.weight', 'lm_head.bias']\n",
      "- This IS expected if you are initializing RobertaModel from the checkpoint of a model trained on another task or with another architecture (e.g. initializing a BertForSequenceClassification model from a BertForPreTraining model).\n",
      "- This IS NOT expected if you are initializing RobertaModel from the checkpoint of a model that you expect to be exactly identical (initializing a BertForSequenceClassification model from a BertForSequenceClassification model).\n",
      "Some weights of the model checkpoint at ../input/robertalarge were not used when initializing RobertaModel: ['lm_head.dense.bias', 'lm_head.decoder.weight', 'lm_head.layer_norm.bias', 'lm_head.dense.weight', 'lm_head.layer_norm.weight', 'lm_head.bias']\n",
      "- This IS expected if you are initializing RobertaModel from the checkpoint of a model trained on another task or with another architecture (e.g. initializing a BertForSequenceClassification model from a BertForPreTraining model).\n",
      "- This IS NOT expected if you are initializing RobertaModel from the checkpoint of a model that you expect to be exactly identical (initializing a BertForSequenceClassification model from a BertForSequenceClassification model).\n"
     ]
    }
   ],
   "source": [
    "models = []\n",
    "for m in CFG[\"models_states\"]:\n",
    "    \n",
    "    model = CustomModel()\n",
    "    model.load_state_dict(torch.load(m, map_location=device)['model_state_dict'])\n",
    "    model.eval();\n",
    "\n",
    "    models.append(model)"
   ]
  },
  {
   "cell_type": "markdown",
   "id": "064b66e6",
   "metadata": {
    "papermill": {
     "duration": 0.022656,
     "end_time": "2022-03-25T14:29:43.886974",
     "exception": false,
     "start_time": "2022-03-25T14:29:43.864318",
     "status": "completed"
    },
    "tags": []
   },
   "source": [
    "# Get predicts"
   ]
  },
  {
   "cell_type": "code",
   "execution_count": 15,
   "id": "11497feb",
   "metadata": {
    "execution": {
     "iopub.execute_input": "2022-03-25T14:29:43.943684Z",
     "iopub.status.busy": "2022-03-25T14:29:43.942766Z",
     "iopub.status.idle": "2022-03-25T14:29:43.944581Z",
     "shell.execute_reply": "2022-03-25T14:29:43.945016Z",
     "shell.execute_reply.started": "2022-03-24T18:37:50.226274Z"
    },
    "papermill": {
     "duration": 0.035429,
     "end_time": "2022-03-25T14:29:43.945148",
     "exception": false,
     "start_time": "2022-03-25T14:29:43.909719",
     "status": "completed"
    },
    "tags": []
   },
   "outputs": [],
   "source": [
    "def inference(models, test_loader, device):\n",
    "    preds = []\n",
    "    offsets = []\n",
    "    seq_ids = []\n",
    "        \n",
    "    for batch in tqdm(test_loader):\n",
    "\n",
    "        input_ids = batch['X']['input_ids'].to(device)\n",
    "        attention_mask = batch['X']['attention_mask'].to(device)\n",
    "        token_type_ids = batch['X']['token_type_ids'].to(device)\n",
    "\n",
    "        offset_mapping = batch['X']['offset_mapping'].to(device)\n",
    "        sequence_ids = batch['X']['sequence_ids'].to(device)\n",
    "\n",
    "        offsets.append(offset_mapping.cpu().numpy())\n",
    "        seq_ids.append(sequence_ids.cpu().numpy())\n",
    "        \n",
    "        buffer_preds = []\n",
    "\n",
    "        for model in models:\n",
    "            \n",
    "            model.to(device)\n",
    "            logits = model(input_ids=input_ids, attention_mask=attention_mask, token_type_ids=token_type_ids)\n",
    "            logits = logits.detach().cpu().numpy()\n",
    "\n",
    "            buffer_preds.append(logits)\n",
    "        \n",
    "        preds_mean = np.mean(buffer_preds, axis=0)\n",
    "        preds.append(preds_mean)\n",
    "\n",
    "\n",
    "    preds = np.concatenate(preds, axis=0)\n",
    "    offsets = np.concatenate(offsets, axis=0)\n",
    "    seq_ids = np.concatenate(seq_ids, axis=0)\n",
    "    \n",
    "    return preds, offsets, seq_ids"
   ]
  },
  {
   "cell_type": "code",
   "execution_count": 16,
   "id": "4a7e654e",
   "metadata": {
    "execution": {
     "iopub.execute_input": "2022-03-25T14:29:43.996285Z",
     "iopub.status.busy": "2022-03-25T14:29:43.995597Z",
     "iopub.status.idle": "2022-03-25T14:29:47.725000Z",
     "shell.execute_reply": "2022-03-25T14:29:47.724543Z",
     "shell.execute_reply.started": "2022-03-24T18:39:25.519971Z"
    },
    "papermill": {
     "duration": 3.757174,
     "end_time": "2022-03-25T14:29:47.725125",
     "exception": false,
     "start_time": "2022-03-25T14:29:43.967951",
     "status": "completed"
    },
    "tags": []
   },
   "outputs": [
    {
     "name": "stderr",
     "output_type": "stream",
     "text": [
      "100%|██████████| 1/1 [00:03<00:00,  3.68s/it]\n"
     ]
    },
    {
     "data": {
      "text/html": [
       "<div>\n",
       "<style scoped>\n",
       "    .dataframe tbody tr th:only-of-type {\n",
       "        vertical-align: middle;\n",
       "    }\n",
       "\n",
       "    .dataframe tbody tr th {\n",
       "        vertical-align: top;\n",
       "    }\n",
       "\n",
       "    .dataframe thead th {\n",
       "        text-align: right;\n",
       "    }\n",
       "</style>\n",
       "<table border=\"1\" class=\"dataframe\">\n",
       "  <thead>\n",
       "    <tr style=\"text-align: right;\">\n",
       "      <th></th>\n",
       "      <th>id</th>\n",
       "      <th>location</th>\n",
       "    </tr>\n",
       "  </thead>\n",
       "  <tbody>\n",
       "    <tr>\n",
       "      <th>0</th>\n",
       "      <td>00016_000</td>\n",
       "      <td>696 724</td>\n",
       "    </tr>\n",
       "    <tr>\n",
       "      <th>1</th>\n",
       "      <td>00016_001</td>\n",
       "      <td>668 693</td>\n",
       "    </tr>\n",
       "    <tr>\n",
       "      <th>2</th>\n",
       "      <td>00016_002</td>\n",
       "      <td>203 217</td>\n",
       "    </tr>\n",
       "    <tr>\n",
       "      <th>3</th>\n",
       "      <td>00016_003</td>\n",
       "      <td>70 91; 176 183</td>\n",
       "    </tr>\n",
       "    <tr>\n",
       "      <th>4</th>\n",
       "      <td>00016_004</td>\n",
       "      <td>222 258</td>\n",
       "    </tr>\n",
       "  </tbody>\n",
       "</table>\n",
       "</div>"
      ],
      "text/plain": [
       "          id        location\n",
       "0  00016_000         696 724\n",
       "1  00016_001         668 693\n",
       "2  00016_002         203 217\n",
       "3  00016_003  70 91; 176 183\n",
       "4  00016_004         222 258"
      ]
     },
     "execution_count": 16,
     "metadata": {},
     "output_type": "execute_result"
    }
   ],
   "source": [
    "predict = inference(models, test_loader, device)\n",
    "\n",
    "test_data[\"location\"] = get_location_predictions(predict[0], predict[1], predict[2], test=True)\n",
    "test_data[[\"id\", \"location\"]].to_csv(\"submission.csv\", index=False)\n",
    "\n",
    "pd.read_csv(\"submission.csv\").head()"
   ]
  }
 ],
 "metadata": {
  "kernelspec": {
   "display_name": "Python 3",
   "language": "python",
   "name": "python3"
  },
  "language_info": {
   "codemirror_mode": {
    "name": "ipython",
    "version": 3
   },
   "file_extension": ".py",
   "mimetype": "text/x-python",
   "name": "python",
   "nbconvert_exporter": "python",
   "pygments_lexer": "ipython3",
   "version": "3.7.12"
  },
  "papermill": {
   "default_parameters": {},
   "duration": 233.486493,
   "end_time": "2022-03-25T14:29:50.993785",
   "environment_variables": {},
   "exception": null,
   "input_path": "__notebook__.ipynb",
   "output_path": "__notebook__.ipynb",
   "parameters": {},
   "start_time": "2022-03-25T14:25:57.507292",
   "version": "2.3.3"
  }
 },
 "nbformat": 4,
 "nbformat_minor": 5
}
