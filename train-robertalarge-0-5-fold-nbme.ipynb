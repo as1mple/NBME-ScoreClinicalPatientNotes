{
 "cells": [
  {
   "cell_type": "markdown",
   "id": "797be873",
   "metadata": {
    "papermill": {
     "duration": 0.028687,
     "end_time": "2022-03-24T17:28:31.846221",
     "exception": false,
     "start_time": "2022-03-24T17:28:31.817534",
     "status": "completed"
    },
    "tags": []
   },
   "source": [
    "# Lib"
   ]
  },
  {
   "cell_type": "code",
   "execution_count": 1,
   "id": "266f4bbf",
   "metadata": {
    "execution": {
     "iopub.execute_input": "2022-03-24T17:28:31.914980Z",
     "iopub.status.busy": "2022-03-24T17:28:31.914163Z",
     "iopub.status.idle": "2022-03-24T17:28:49.753192Z",
     "shell.execute_reply": "2022-03-24T17:28:49.752151Z",
     "shell.execute_reply.started": "2022-03-24T16:09:07.193623Z"
    },
    "papermill": {
     "duration": 17.879609,
     "end_time": "2022-03-24T17:28:49.753338",
     "exception": false,
     "start_time": "2022-03-24T17:28:31.873729",
     "status": "completed"
    },
    "tags": []
   },
   "outputs": [
    {
     "name": "stdout",
     "output_type": "stream",
     "text": [
      "Collecting neptune-client\r\n",
      "  Downloading neptune-client-0.15.2.tar.gz (315 kB)\r\n",
      "     |████████████████████████████████| 315 kB 805 kB/s            \r\n",
      "\u001b[?25h  Preparing metadata (setup.py) ... \u001b[?25l-\b \bdone\r\n",
      "\u001b[?25hCollecting bravado\r\n",
      "  Downloading bravado-11.0.3-py2.py3-none-any.whl (38 kB)\r\n",
      "Requirement already satisfied: click>=7.0 in /opt/conda/lib/python3.7/site-packages (from neptune-client) (8.0.3)\r\n",
      "Requirement already satisfied: future>=0.17.1 in /opt/conda/lib/python3.7/site-packages (from neptune-client) (0.18.2)\r\n",
      "Requirement already satisfied: oauthlib>=2.1.0 in /opt/conda/lib/python3.7/site-packages (from neptune-client) (3.1.1)\r\n",
      "Requirement already satisfied: pandas in /opt/conda/lib/python3.7/site-packages (from neptune-client) (1.3.5)\r\n",
      "Requirement already satisfied: Pillow>=1.1.6 in /opt/conda/lib/python3.7/site-packages (from neptune-client) (8.2.0)\r\n",
      "Requirement already satisfied: PyJWT in /opt/conda/lib/python3.7/site-packages (from neptune-client) (2.3.0)\r\n",
      "Requirement already satisfied: requests>=2.20.0 in /opt/conda/lib/python3.7/site-packages (from neptune-client) (2.26.0)\r\n",
      "Requirement already satisfied: requests-oauthlib>=1.0.0 in /opt/conda/lib/python3.7/site-packages (from neptune-client) (1.3.0)\r\n",
      "Requirement already satisfied: six>=1.12.0 in /opt/conda/lib/python3.7/site-packages (from neptune-client) (1.16.0)\r\n",
      "Requirement already satisfied: websocket-client!=1.0.0,>=0.35.0 in /opt/conda/lib/python3.7/site-packages (from neptune-client) (1.2.3)\r\n",
      "Requirement already satisfied: GitPython>=2.0.8 in /opt/conda/lib/python3.7/site-packages (from neptune-client) (3.1.24)\r\n",
      "Requirement already satisfied: boto3>=1.16.0 in /opt/conda/lib/python3.7/site-packages (from neptune-client) (1.21.20)\r\n",
      "Requirement already satisfied: packaging in /opt/conda/lib/python3.7/site-packages (from neptune-client) (21.3)\r\n",
      "Requirement already satisfied: urllib3 in /opt/conda/lib/python3.7/site-packages (from neptune-client) (1.26.7)\r\n",
      "Collecting swagger-spec-validator>=2.7.4\r\n",
      "  Downloading swagger_spec_validator-2.7.4-py2.py3-none-any.whl (27 kB)\r\n",
      "Requirement already satisfied: psutil in /opt/conda/lib/python3.7/site-packages (from neptune-client) (5.9.0)\r\n",
      "Requirement already satisfied: botocore<1.25.0,>=1.24.20 in /opt/conda/lib/python3.7/site-packages (from boto3>=1.16.0->neptune-client) (1.24.20)\r\n",
      "Requirement already satisfied: jmespath<1.0.0,>=0.7.1 in /opt/conda/lib/python3.7/site-packages (from boto3>=1.16.0->neptune-client) (0.10.0)\r\n",
      "Requirement already satisfied: s3transfer<0.6.0,>=0.5.0 in /opt/conda/lib/python3.7/site-packages (from boto3>=1.16.0->neptune-client) (0.5.2)\r\n",
      "Requirement already satisfied: importlib-metadata in /opt/conda/lib/python3.7/site-packages (from click>=7.0->neptune-client) (4.11.3)\r\n",
      "Requirement already satisfied: typing-extensions>=3.7.4.3 in /opt/conda/lib/python3.7/site-packages (from GitPython>=2.0.8->neptune-client) (4.1.1)\r\n",
      "Requirement already satisfied: gitdb<5,>=4.0.1 in /opt/conda/lib/python3.7/site-packages (from GitPython>=2.0.8->neptune-client) (4.0.9)\r\n",
      "Requirement already satisfied: idna<4,>=2.5 in /opt/conda/lib/python3.7/site-packages (from requests>=2.20.0->neptune-client) (3.1)\r\n",
      "Requirement already satisfied: charset-normalizer~=2.0.0 in /opt/conda/lib/python3.7/site-packages (from requests>=2.20.0->neptune-client) (2.0.9)\r\n",
      "Requirement already satisfied: certifi>=2017.4.17 in /opt/conda/lib/python3.7/site-packages (from requests>=2.20.0->neptune-client) (2021.10.8)\r\n",
      "Requirement already satisfied: jsonschema in /opt/conda/lib/python3.7/site-packages (from swagger-spec-validator>=2.7.4->neptune-client) (4.3.1)\r\n",
      "Requirement already satisfied: pyyaml in /opt/conda/lib/python3.7/site-packages (from swagger-spec-validator>=2.7.4->neptune-client) (6.0)\r\n",
      "Collecting bravado-core>=5.16.1\r\n",
      "  Downloading bravado_core-5.17.0-py2.py3-none-any.whl (67 kB)\r\n",
      "     |████████████████████████████████| 67 kB 3.6 MB/s             \r\n",
      "\u001b[?25hRequirement already satisfied: msgpack in /opt/conda/lib/python3.7/site-packages (from bravado->neptune-client) (1.0.3)\r\n",
      "Requirement already satisfied: simplejson in /opt/conda/lib/python3.7/site-packages (from bravado->neptune-client) (3.17.6)\r\n",
      "Collecting monotonic\r\n",
      "  Downloading monotonic-1.6-py2.py3-none-any.whl (8.2 kB)\r\n",
      "Requirement already satisfied: python-dateutil in /opt/conda/lib/python3.7/site-packages (from bravado->neptune-client) (2.8.2)\r\n",
      "Requirement already satisfied: pyparsing!=3.0.5,>=2.0.2 in /opt/conda/lib/python3.7/site-packages (from packaging->neptune-client) (3.0.6)\r\n",
      "Requirement already satisfied: pytz>=2017.3 in /opt/conda/lib/python3.7/site-packages (from pandas->neptune-client) (2021.3)\r\n",
      "Requirement already satisfied: numpy>=1.17.3 in /opt/conda/lib/python3.7/site-packages (from pandas->neptune-client) (1.20.3)\r\n",
      "Collecting jsonref\r\n",
      "  Downloading jsonref-0.2-py3-none-any.whl (9.3 kB)\r\n",
      "Requirement already satisfied: smmap<6,>=3.0.1 in /opt/conda/lib/python3.7/site-packages (from gitdb<5,>=4.0.1->GitPython>=2.0.8->neptune-client) (3.0.5)\r\n",
      "Requirement already satisfied: zipp>=0.5 in /opt/conda/lib/python3.7/site-packages (from importlib-metadata->click>=7.0->neptune-client) (3.6.0)\r\n",
      "Requirement already satisfied: attrs>=17.4.0 in /opt/conda/lib/python3.7/site-packages (from jsonschema->swagger-spec-validator>=2.7.4->neptune-client) (21.2.0)\r\n",
      "Requirement already satisfied: importlib-resources>=1.4.0 in /opt/conda/lib/python3.7/site-packages (from jsonschema->swagger-spec-validator>=2.7.4->neptune-client) (5.4.0)\r\n",
      "Requirement already satisfied: pyrsistent!=0.17.0,!=0.17.1,!=0.17.2,>=0.14.0 in /opt/conda/lib/python3.7/site-packages (from jsonschema->swagger-spec-validator>=2.7.4->neptune-client) (0.18.0)\r\n",
      "Collecting rfc3987\r\n",
      "  Downloading rfc3987-1.3.8-py2.py3-none-any.whl (13 kB)\r\n",
      "Collecting rfc3339-validator\r\n",
      "  Downloading rfc3339_validator-0.1.4-py2.py3-none-any.whl (3.5 kB)\r\n",
      "Collecting isoduration\r\n",
      "  Downloading isoduration-20.11.0-py3-none-any.whl (11 kB)\r\n",
      "Collecting fqdn\r\n",
      "  Downloading fqdn-1.5.1-py3-none-any.whl (9.1 kB)\r\n",
      "Collecting jsonpointer>1.13\r\n",
      "  Downloading jsonpointer-2.2-py2.py3-none-any.whl (7.5 kB)\r\n",
      "Collecting webcolors>=1.11\r\n",
      "  Downloading webcolors-1.11.1-py3-none-any.whl (9.9 kB)\r\n",
      "Collecting uri-template\r\n",
      "  Downloading uri_template-1.2.0-py3-none-any.whl (10 kB)\r\n",
      "Requirement already satisfied: cached-property>=1.3.0 in /opt/conda/lib/python3.7/site-packages (from fqdn->jsonschema->swagger-spec-validator>=2.7.4->neptune-client) (1.5.2)\r\n",
      "Requirement already satisfied: arrow>=0.15.0 in /opt/conda/lib/python3.7/site-packages (from isoduration->jsonschema->swagger-spec-validator>=2.7.4->neptune-client) (1.2.1)\r\n",
      "Building wheels for collected packages: neptune-client\r\n",
      "  Building wheel for neptune-client (setup.py) ... \u001b[?25l-\b \b\\\b \b|\b \b/\b \bdone\r\n",
      "\u001b[?25h  Created wheel for neptune-client: filename=neptune_client-0.15.2-py2.py3-none-any.whl size=565172 sha256=52c64fbfc221391f2fa811ecb7a4124ba5f2ece123d7e75ca4eebd9e6f52a5b2\r\n",
      "  Stored in directory: /root/.cache/pip/wheels/4f/ff/e6/2128c7fd2e85bd327f524d44b07922848c40e48de6e75baa7e\r\n",
      "Successfully built neptune-client\r\n",
      "Installing collected packages: webcolors, uri-template, rfc3987, rfc3339-validator, jsonpointer, isoduration, fqdn, swagger-spec-validator, jsonref, monotonic, bravado-core, bravado, neptune-client\r\n",
      "Successfully installed bravado-11.0.3 bravado-core-5.17.0 fqdn-1.5.1 isoduration-20.11.0 jsonpointer-2.2 jsonref-0.2 monotonic-1.6 neptune-client-0.15.2 rfc3339-validator-0.1.4 rfc3987-1.3.8 swagger-spec-validator-2.7.4 uri-template-1.2.0 webcolors-1.11.1\r\n",
      "\u001b[33mWARNING: Running pip as the 'root' user can result in broken permissions and conflicting behaviour with the system package manager. It is recommended to use a virtual environment instead: https://pip.pypa.io/warnings/venv\u001b[0m\r\n"
     ]
    }
   ],
   "source": [
    "! pip install neptune-client\n",
    "\n",
    "import os\n",
    "import re\n",
    "import torch\n",
    "import random\n",
    "import warnings\n",
    "import numpy as np\n",
    "import pandas as pd\n",
    "from torch import nn\n",
    "from tqdm import tqdm\n",
    "from torch.nn import *\n",
    "from torch.optim import *\n",
    "from itertools import chain\n",
    "from ast import literal_eval\n",
    "import neptune.new as neptune\n",
    "import matplotlib.pyplot as plt\n",
    "from sklearn.metrics import accuracy_score\n",
    "from torch.utils.data import Dataset, DataLoader\n",
    "from sklearn.model_selection import GroupKFold\n",
    "from sklearn.metrics import precision_recall_fscore_support\n",
    "from transformers import AutoTokenizer, AutoModel, AutoConfig\n",
    "\n",
    "\n",
    "warnings.simplefilter(action='ignore', category=FutureWarning)"
   ]
  },
  {
   "cell_type": "markdown",
   "id": "8eca9e85",
   "metadata": {
    "papermill": {
     "duration": 0.04252,
     "end_time": "2022-03-24T17:28:49.839204",
     "exception": false,
     "start_time": "2022-03-24T17:28:49.796684",
     "status": "completed"
    },
    "tags": []
   },
   "source": [
    "# Config"
   ]
  },
  {
   "cell_type": "code",
   "execution_count": 2,
   "id": "c3e4a889",
   "metadata": {
    "execution": {
     "iopub.execute_input": "2022-03-24T17:28:49.939222Z",
     "iopub.status.busy": "2022-03-24T17:28:49.937463Z",
     "iopub.status.idle": "2022-03-24T17:28:49.942069Z",
     "shell.execute_reply": "2022-03-24T17:28:49.941537Z",
     "shell.execute_reply.started": "2022-03-24T16:09:48.781973Z"
    },
    "papermill": {
     "duration": 0.058191,
     "end_time": "2022-03-24T17:28:49.942191",
     "exception": false,
     "start_time": "2022-03-24T17:28:49.884000",
     "status": "completed"
    },
    "tags": []
   },
   "outputs": [
    {
     "data": {
      "text/plain": [
       "{'seed': 1,\n",
       " 'fold': 0,\n",
       " 'lr': 1e-05,\n",
       " 'p_drop': 0.2,\n",
       " 'n_epochs': 3,\n",
       " 'n_splits': 5,\n",
       " 'batch_size': 8,\n",
       " 'auto_break_n': 3,\n",
       " 'max_length': 310,\n",
       " 'mode_debug': False,\n",
       " 'optimizer': 'AdamW',\n",
       " 'path_save_model': 'model.pth',\n",
       " 'criterion': 'BCEWithLogitsLoss',\n",
       " 'model_name': 'roberta-large'}"
      ]
     },
     "execution_count": 2,
     "metadata": {},
     "output_type": "execute_result"
    }
   ],
   "source": [
    "CFG = dict(seed=1,\n",
    "           fold=0,\n",
    "           lr=1e-5,\n",
    "           p_drop=.2,\n",
    "           n_epochs=3,\n",
    "           n_splits=5,\n",
    "           batch_size=8,\n",
    "           auto_break_n=3,\n",
    "           max_length=310,\n",
    "           mode_debug=False,\n",
    "           optimizer='AdamW',\n",
    "           path_save_model='model.pth',\n",
    "           criterion='BCEWithLogitsLoss',\n",
    "           model_name=\"roberta-large\",\n",
    ")\n",
    "CFG"
   ]
  },
  {
   "cell_type": "markdown",
   "id": "a655ff17",
   "metadata": {
    "papermill": {
     "duration": 0.044709,
     "end_time": "2022-03-24T17:28:50.032133",
     "exception": false,
     "start_time": "2022-03-24T17:28:49.987424",
     "status": "completed"
    },
    "tags": []
   },
   "source": [
    "# Neptune"
   ]
  },
  {
   "cell_type": "code",
   "execution_count": 3,
   "id": "1914e86e",
   "metadata": {
    "execution": {
     "iopub.execute_input": "2022-03-24T17:28:50.128140Z",
     "iopub.status.busy": "2022-03-24T17:28:50.127546Z",
     "iopub.status.idle": "2022-03-24T17:28:53.892510Z",
     "shell.execute_reply": "2022-03-24T17:28:53.892082Z",
     "shell.execute_reply.started": "2022-02-23T13:00:16.850446Z"
    },
    "papermill": {
     "duration": 3.813101,
     "end_time": "2022-03-24T17:28:53.892633",
     "exception": false,
     "start_time": "2022-03-24T17:28:50.079532",
     "status": "completed"
    },
    "tags": []
   },
   "outputs": [
    {
     "name": "stdout",
     "output_type": "stream",
     "text": [
      "https://app.neptune.ai/petr.square/NBME---Score-Clinical-Patient-Notes/e/NBMES-109\n",
      "Remember to stop your run once you’ve finished logging your metadata (https://docs.neptune.ai/api-reference/run#.stop). It will be stopped automatically only when the notebook kernel/interactive console is terminated.\n"
     ]
    }
   ],
   "source": [
    "run = neptune.init(\n",
    "    project=\"petr.square/NBME---Score-Clinical-Patient-Notes\",\n",
    "    api_token=\"eyJhcGlfYWRkcmVzcyI6Imh0dHBzOi8vYXBwLm5lcHR1bmUuYWkiLCJhcGlfdXJsIjoiaHR0cHM6Ly9hcHAubmVwdHVuZS5haSIsImFwaV9rZXkiOiIwMjlhMTk5NS04ODcwLTQ3MzgtYmVlYy0xZWNkM2NkZGQwMmYifQ==\",\n",
    ")\n",
    "\n",
    "run['model/parameters'] = CFG"
   ]
  },
  {
   "cell_type": "markdown",
   "id": "6511d16a",
   "metadata": {
    "papermill": {
     "duration": 0.047751,
     "end_time": "2022-03-24T17:28:53.982048",
     "exception": false,
     "start_time": "2022-03-24T17:28:53.934297",
     "status": "completed"
    },
    "tags": []
   },
   "source": [
    "# Data loading"
   ]
  },
  {
   "cell_type": "code",
   "execution_count": 4,
   "id": "d75b9896",
   "metadata": {
    "execution": {
     "iopub.execute_input": "2022-03-24T17:28:54.074316Z",
     "iopub.status.busy": "2022-03-24T17:28:54.073736Z",
     "iopub.status.idle": "2022-03-24T17:28:54.578620Z",
     "shell.execute_reply": "2022-03-24T17:28:54.578178Z",
     "shell.execute_reply.started": "2022-03-24T16:09:52.775342Z"
    },
    "papermill": {
     "duration": 0.552545,
     "end_time": "2022-03-24T17:28:54.578785",
     "exception": false,
     "start_time": "2022-03-24T17:28:54.026240",
     "status": "completed"
    },
    "tags": []
   },
   "outputs": [
    {
     "name": "stdout",
     "output_type": "stream",
     "text": [
      "Shape train_merge = (14300, 9)\n"
     ]
    },
    {
     "data": {
      "text/html": [
       "<div>\n",
       "<style scoped>\n",
       "    .dataframe tbody tr th:only-of-type {\n",
       "        vertical-align: middle;\n",
       "    }\n",
       "\n",
       "    .dataframe tbody tr th {\n",
       "        vertical-align: top;\n",
       "    }\n",
       "\n",
       "    .dataframe thead th {\n",
       "        text-align: right;\n",
       "    }\n",
       "</style>\n",
       "<table border=\"1\" class=\"dataframe\">\n",
       "  <thead>\n",
       "    <tr style=\"text-align: right;\">\n",
       "      <th></th>\n",
       "      <th>id</th>\n",
       "      <th>case_num</th>\n",
       "      <th>pn_num</th>\n",
       "      <th>feature_num</th>\n",
       "      <th>annotation</th>\n",
       "      <th>location</th>\n",
       "      <th>pn_history</th>\n",
       "      <th>feature_text</th>\n",
       "      <th>fold</th>\n",
       "    </tr>\n",
       "  </thead>\n",
       "  <tbody>\n",
       "    <tr>\n",
       "      <th>8428</th>\n",
       "      <td>55601_516</td>\n",
       "      <td>5</td>\n",
       "      <td>55601</td>\n",
       "      <td>516</td>\n",
       "      <td>['under stress', 'losing her job']</td>\n",
       "      <td>['419 431', '439 453']</td>\n",
       "      <td>Patient is a 26yo f presenting for 2 week foll...</td>\n",
       "      <td>Increased-stress</td>\n",
       "      <td>0</td>\n",
       "    </tr>\n",
       "    <tr>\n",
       "      <th>11899</th>\n",
       "      <td>82622_801</td>\n",
       "      <td>8</td>\n",
       "      <td>82622</td>\n",
       "      <td>801</td>\n",
       "      <td>['son recently died']</td>\n",
       "      <td>['236 253']</td>\n",
       "      <td>HOI: 67 y/o F c/o difficulty falling asleep an...</td>\n",
       "      <td>Son-died-3-weeks-ago</td>\n",
       "      <td>1</td>\n",
       "    </tr>\n",
       "    <tr>\n",
       "      <th>11965</th>\n",
       "      <td>82799_813</td>\n",
       "      <td>8</td>\n",
       "      <td>82799</td>\n",
       "      <td>813</td>\n",
       "      <td>[]</td>\n",
       "      <td>[]</td>\n",
       "      <td>HPI - 67 yo F c/o insomnia for 3 weeks. It sta...</td>\n",
       "      <td>Visual-hallucination-once</td>\n",
       "      <td>4</td>\n",
       "    </tr>\n",
       "  </tbody>\n",
       "</table>\n",
       "</div>"
      ],
      "text/plain": [
       "              id  case_num  pn_num  feature_num  \\\n",
       "8428   55601_516         5   55601          516   \n",
       "11899  82622_801         8   82622          801   \n",
       "11965  82799_813         8   82799          813   \n",
       "\n",
       "                               annotation                location  \\\n",
       "8428   ['under stress', 'losing her job']  ['419 431', '439 453']   \n",
       "11899               ['son recently died']             ['236 253']   \n",
       "11965                                  []                      []   \n",
       "\n",
       "                                              pn_history  \\\n",
       "8428   Patient is a 26yo f presenting for 2 week foll...   \n",
       "11899  HOI: 67 y/o F c/o difficulty falling asleep an...   \n",
       "11965  HPI - 67 yo F c/o insomnia for 3 weeks. It sta...   \n",
       "\n",
       "                    feature_text  fold  \n",
       "8428            Increased-stress     0  \n",
       "11899       Son-died-3-weeks-ago     1  \n",
       "11965  Visual-hallucination-once     4  "
      ]
     },
     "execution_count": 4,
     "metadata": {},
     "output_type": "execute_result"
    }
   ],
   "source": [
    "train_merge = pd.read_csv(\"../input/split-folds-nbme-score-clinical/5_folds_data.csv\")\n",
    "print(f\"Shape train_merge = {train_merge.shape}\")\n",
    "train_merge.sample(3)"
   ]
  },
  {
   "cell_type": "markdown",
   "id": "65b6ca5b",
   "metadata": {
    "papermill": {
     "duration": 0.042132,
     "end_time": "2022-03-24T17:28:54.664319",
     "exception": false,
     "start_time": "2022-03-24T17:28:54.622187",
     "status": "completed"
    },
    "tags": []
   },
   "source": [
    "# Preprocessing"
   ]
  },
  {
   "cell_type": "code",
   "execution_count": 5,
   "id": "72830a85",
   "metadata": {
    "execution": {
     "iopub.execute_input": "2022-03-24T17:28:54.755033Z",
     "iopub.status.busy": "2022-03-24T17:28:54.754275Z",
     "iopub.status.idle": "2022-03-24T17:28:54.757920Z",
     "shell.execute_reply": "2022-03-24T17:28:54.757441Z",
     "shell.execute_reply.started": "2022-03-24T16:09:53.425361Z"
    },
    "papermill": {
     "duration": 0.051341,
     "end_time": "2022-03-24T17:28:54.758094",
     "exception": false,
     "start_time": "2022-03-24T17:28:54.706753",
     "status": "completed"
    },
    "tags": []
   },
   "outputs": [],
   "source": [
    "def process_feature_text(text):\n",
    "    text = re.sub('I-year', '1-year', text)\n",
    "    text = re.sub('-OR-', \" or \", text)\n",
    "    text = re.sub('-', ' ', text)\n",
    "    return text\n",
    "\n",
    "def clean_spaces(text):\n",
    "    text = re.sub('\\n', ' ', text)\n",
    "    text = re.sub('\\t', ' ', text)\n",
    "    text = re.sub('\\r', ' ', text)\n",
    "    return text"
   ]
  },
  {
   "cell_type": "code",
   "execution_count": 6,
   "id": "d3fe4228",
   "metadata": {
    "execution": {
     "iopub.execute_input": "2022-03-24T17:28:54.853506Z",
     "iopub.status.busy": "2022-03-24T17:28:54.852523Z",
     "iopub.status.idle": "2022-03-24T17:28:55.648101Z",
     "shell.execute_reply": "2022-03-24T17:28:55.647193Z",
     "shell.execute_reply.started": "2022-03-24T16:09:55.328256Z"
    },
    "papermill": {
     "duration": 0.847286,
     "end_time": "2022-03-24T17:28:55.648244",
     "exception": false,
     "start_time": "2022-03-24T17:28:54.800958",
     "status": "completed"
    },
    "tags": []
   },
   "outputs": [],
   "source": [
    "train_merge['location'] = train_merge.location.apply(literal_eval)\n",
    "train_merge['annotation'] = train_merge.annotation.apply(literal_eval)\n",
    "\n",
    "train_merge[\"pn_history\"] = train_merge[\"pn_history\"].apply(lambda x: x.strip())\n",
    "train_merge[\"feature_text\"] = train_merge[\"feature_text\"].apply(process_feature_text)\n",
    "train_merge[\"feature_text\"] = train_merge[\"feature_text\"].apply(clean_spaces)\n",
    "train_merge[\"pn_history\"] = train_merge[\"pn_history\"].apply(clean_spaces)\n",
    "\n",
    "train_merge[\"feature_text\"] = train_merge[\"feature_text\"].apply(lambda x: x.lower())\n",
    "train_merge[\"pn_history\"] = train_merge[\"pn_history\"].apply(lambda x: x.lower())\n",
    "\n",
    "train_merge['annotation_length'] = train_merge['annotation'].apply(len)"
   ]
  },
  {
   "cell_type": "markdown",
   "id": "bada60d9",
   "metadata": {
    "papermill": {
     "duration": 0.042334,
     "end_time": "2022-03-24T17:28:55.733482",
     "exception": false,
     "start_time": "2022-03-24T17:28:55.691148",
     "status": "completed"
    },
    "tags": []
   },
   "source": [
    "# Train/Test"
   ]
  },
  {
   "cell_type": "code",
   "execution_count": 7,
   "id": "e1cedc91",
   "metadata": {
    "execution": {
     "iopub.execute_input": "2022-03-24T17:28:55.827211Z",
     "iopub.status.busy": "2022-03-24T17:28:55.826447Z",
     "iopub.status.idle": "2022-03-24T17:28:55.835026Z",
     "shell.execute_reply": "2022-03-24T17:28:55.834574Z",
     "shell.execute_reply.started": "2022-03-24T16:09:57.373272Z"
    },
    "papermill": {
     "duration": 0.059409,
     "end_time": "2022-03-24T17:28:55.835141",
     "exception": false,
     "start_time": "2022-03-24T17:28:55.775732",
     "status": "completed"
    },
    "tags": []
   },
   "outputs": [],
   "source": [
    "train = train_merge.query(f'fold != {CFG[\"fold\"]}').reset_index(drop=True)\n",
    "valid = train_merge.query(f'fold == {CFG[\"fold\"]}').reset_index(drop=True)"
   ]
  },
  {
   "cell_type": "markdown",
   "id": "88f2d81c",
   "metadata": {
    "papermill": {
     "duration": 0.04286,
     "end_time": "2022-03-24T17:28:55.920882",
     "exception": false,
     "start_time": "2022-03-24T17:28:55.878022",
     "status": "completed"
    },
    "tags": []
   },
   "source": [
    "# Data Generator"
   ]
  },
  {
   "cell_type": "code",
   "execution_count": 8,
   "id": "8ae47811",
   "metadata": {
    "execution": {
     "iopub.execute_input": "2022-03-24T17:28:56.014305Z",
     "iopub.status.busy": "2022-03-24T17:28:56.013397Z",
     "iopub.status.idle": "2022-03-24T17:28:56.017870Z",
     "shell.execute_reply": "2022-03-24T17:28:56.018289Z",
     "shell.execute_reply.started": "2022-03-24T16:09:58.077447Z"
    },
    "papermill": {
     "duration": 0.054899,
     "end_time": "2022-03-24T17:28:56.018450",
     "exception": false,
     "start_time": "2022-03-24T17:28:55.963551",
     "status": "completed"
    },
    "tags": []
   },
   "outputs": [],
   "source": [
    "class Data_gen(Dataset):\n",
    "    def __init__(self, df, transforms_input, tokenizer):\n",
    "        self.pn_historys = df['pn_history']\n",
    "        self.feature_text = df['feature_text']\n",
    "        self.locations =  df['location']\n",
    "        self.annotation_lengths = df['annotation_length']\n",
    "\n",
    "        \n",
    "        self.transforms_input = transforms_input        \n",
    "        self.tokenizer = tokenizer\n",
    "    \n",
    "        \n",
    "    def __len__(self):\n",
    "        return len(self.pn_historys)\n",
    "\n",
    "    def __getitem__(self, index):\n",
    "                \n",
    "        tokens = self.transforms_input(self.tokenizer,\n",
    "                                  self.pn_historys[index],\n",
    "                                  self.feature_text[index],\n",
    "                                  self.annotation_lengths[index], \n",
    "                                  self.locations[index])\n",
    "        \n",
    "        input_ids = np.array(tokens[\"input_ids\"])\n",
    "        attention_mask = np.array(tokens[\"attention_mask\"])\n",
    "        token_type_ids = np.array(tokens[\"token_type_ids\"])\n",
    "\n",
    "        labels = np.array(tokens[\"label\"])\n",
    "        offset_mapping = np.array(tokens['offset_mapping'])\n",
    "        sequence_ids = np.array(tokens.sequence_ids()).astype(\"float16\")\n",
    "        \n",
    "        \n",
    "        return {'X': {'input_ids': input_ids,\n",
    "                      'attention_mask': attention_mask,\n",
    "                      'token_type_ids': token_type_ids,\n",
    "                      'offset_mapping': offset_mapping,\n",
    "                      'sequence_ids': sequence_ids},\n",
    "                'y': labels}"
   ]
  },
  {
   "cell_type": "markdown",
   "id": "b02fb12a",
   "metadata": {
    "papermill": {
     "duration": 0.042592,
     "end_time": "2022-03-24T17:28:56.104166",
     "exception": false,
     "start_time": "2022-03-24T17:28:56.061574",
     "status": "completed"
    },
    "tags": []
   },
   "source": [
    "# Transform"
   ]
  },
  {
   "cell_type": "code",
   "execution_count": 9,
   "id": "2b551dfb",
   "metadata": {
    "execution": {
     "iopub.execute_input": "2022-03-24T17:28:56.197544Z",
     "iopub.status.busy": "2022-03-24T17:28:56.196753Z",
     "iopub.status.idle": "2022-03-24T17:28:56.201447Z",
     "shell.execute_reply": "2022-03-24T17:28:56.200949Z",
     "shell.execute_reply.started": "2022-03-24T16:09:58.926519Z"
    },
    "papermill": {
     "duration": 0.054581,
     "end_time": "2022-03-24T17:28:56.201547",
     "exception": false,
     "start_time": "2022-03-24T17:28:56.146966",
     "status": "completed"
    },
    "tags": []
   },
   "outputs": [],
   "source": [
    "def loc_list_to_ints(loc_list):\n",
    "    to_return = []\n",
    "    for loc_str in loc_list:\n",
    "        loc_strs = loc_str.split(\";\")\n",
    "        for loc in loc_strs:\n",
    "            to_return.append(list(map(int, loc.split())))\n",
    "    return to_return\n",
    "\n",
    "\n",
    "def transform(tokenizer, pn_historys, feature_text, annotation_length, location_list):\n",
    "    out = tokenizer(\n",
    "        feature_text,\n",
    "        pn_historys,\n",
    "        truncation='only_second',\n",
    "        max_length=CFG['max_length'],\n",
    "        padding='max_length',\n",
    "        return_offsets_mapping=True,\n",
    "        return_token_type_ids=True\n",
    "    )\n",
    "    \n",
    "\n",
    "    \n",
    "    labels = [0.0] * len(out[\"input_ids\"])\n",
    "    out[\"location_int\"] = loc_list_to_ints(location_list)\n",
    "    out[\"sequence_ids\"] = out.sequence_ids()\n",
    "\n",
    "    for idx, (seq_id, offsets) in enumerate(zip(out[\"sequence_ids\"], out[\"offset_mapping\"])):\n",
    "        if not seq_id or seq_id == 0:\n",
    "            labels[idx] = -1\n",
    "            continue\n",
    "\n",
    "        token_start, token_end = offsets\n",
    "        for feature_start, feature_end in out[\"location_int\"]:\n",
    "            if token_start >= feature_start and token_end <= feature_end:\n",
    "                labels[idx] = 1\n",
    "                break\n",
    "\n",
    "    out[\"label\"] = labels\n",
    "    \n",
    "    return out"
   ]
  },
  {
   "cell_type": "markdown",
   "id": "c0ea54f8",
   "metadata": {
    "papermill": {
     "duration": 0.042388,
     "end_time": "2022-03-24T17:28:56.286580",
     "exception": false,
     "start_time": "2022-03-24T17:28:56.244192",
     "status": "completed"
    },
    "tags": []
   },
   "source": [
    "# Tokenizer"
   ]
  },
  {
   "cell_type": "code",
   "execution_count": 10,
   "id": "81d0b801",
   "metadata": {
    "execution": {
     "iopub.execute_input": "2022-03-24T17:28:56.375634Z",
     "iopub.status.busy": "2022-03-24T17:28:56.375065Z",
     "iopub.status.idle": "2022-03-24T17:28:56.652045Z",
     "shell.execute_reply": "2022-03-24T17:28:56.652504Z",
     "shell.execute_reply.started": "2022-03-24T16:10:10.24339Z"
    },
    "papermill": {
     "duration": 0.323791,
     "end_time": "2022-03-24T17:28:56.652687",
     "exception": false,
     "start_time": "2022-03-24T17:28:56.328896",
     "status": "completed"
    },
    "tags": []
   },
   "outputs": [],
   "source": [
    "tokenizer = AutoTokenizer.from_pretrained('../input/nbme-roberta-large/roberta-large/tokenizers')"
   ]
  },
  {
   "cell_type": "markdown",
   "id": "aa73e283",
   "metadata": {
    "papermill": {
     "duration": 0.042681,
     "end_time": "2022-03-24T17:28:56.739262",
     "exception": false,
     "start_time": "2022-03-24T17:28:56.696581",
     "status": "completed"
    },
    "tags": []
   },
   "source": [
    "# DataLoader"
   ]
  },
  {
   "cell_type": "code",
   "execution_count": 11,
   "id": "b13954e8",
   "metadata": {
    "execution": {
     "iopub.execute_input": "2022-03-24T17:28:56.832110Z",
     "iopub.status.busy": "2022-03-24T17:28:56.826378Z",
     "iopub.status.idle": "2022-03-24T17:28:56.938921Z",
     "shell.execute_reply": "2022-03-24T17:28:56.937942Z",
     "shell.execute_reply.started": "2022-03-24T16:10:11.613705Z"
    },
    "papermill": {
     "duration": 0.157335,
     "end_time": "2022-03-24T17:28:56.939040",
     "exception": false,
     "start_time": "2022-03-24T17:28:56.781705",
     "status": "completed"
    },
    "tags": []
   },
   "outputs": [],
   "source": [
    "train_set = Data_gen(train, transform, tokenizer)\n",
    "train_loader = DataLoader(train_set, batch_size=CFG['batch_size'], shuffle=True)\n",
    "\n",
    "valid_set = Data_gen(valid, transform, tokenizer)\n",
    "valid_loader = DataLoader(valid_set, batch_size=CFG['batch_size'], shuffle=False)\n",
    "\n",
    "for loader in train_loader, valid_loader:\n",
    "    assert next(iter(loader))['X']['input_ids'].shape == next(iter(loader))['y'].shape"
   ]
  },
  {
   "cell_type": "markdown",
   "id": "819bd626",
   "metadata": {
    "papermill": {
     "duration": 0.050181,
     "end_time": "2022-03-24T17:28:57.033578",
     "exception": false,
     "start_time": "2022-03-24T17:28:56.983397",
     "status": "completed"
    },
    "tags": []
   },
   "source": [
    "# Change device"
   ]
  },
  {
   "cell_type": "code",
   "execution_count": 12,
   "id": "1aee929a",
   "metadata": {
    "execution": {
     "iopub.execute_input": "2022-03-24T17:28:57.176104Z",
     "iopub.status.busy": "2022-03-24T17:28:57.175191Z",
     "iopub.status.idle": "2022-03-24T17:28:57.178706Z",
     "shell.execute_reply": "2022-03-24T17:28:57.179170Z",
     "shell.execute_reply.started": "2022-03-24T16:10:12.943545Z"
    },
    "papermill": {
     "duration": 0.102295,
     "end_time": "2022-03-24T17:28:57.179321",
     "exception": false,
     "start_time": "2022-03-24T17:28:57.077026",
     "status": "completed"
    },
    "tags": []
   },
   "outputs": [
    {
     "data": {
      "text/plain": [
       "device(type='cuda', index=0)"
      ]
     },
     "execution_count": 12,
     "metadata": {},
     "output_type": "execute_result"
    }
   ],
   "source": [
    "device = torch.device(\"cuda:0\" if torch.cuda.is_available() else \"cpu\")\n",
    "device"
   ]
  },
  {
   "cell_type": "markdown",
   "id": "acb3fcbb",
   "metadata": {
    "papermill": {
     "duration": 0.044845,
     "end_time": "2022-03-24T17:28:57.270200",
     "exception": false,
     "start_time": "2022-03-24T17:28:57.225355",
     "status": "completed"
    },
    "tags": []
   },
   "source": [
    "# Model"
   ]
  },
  {
   "cell_type": "code",
   "execution_count": 13,
   "id": "a58b8ded",
   "metadata": {
    "execution": {
     "iopub.execute_input": "2022-03-24T17:28:57.363363Z",
     "iopub.status.busy": "2022-03-24T17:28:57.362540Z",
     "iopub.status.idle": "2022-03-24T17:28:57.364505Z",
     "shell.execute_reply": "2022-03-24T17:28:57.364942Z",
     "shell.execute_reply.started": "2022-03-24T16:12:15.701137Z"
    },
    "papermill": {
     "duration": 0.051799,
     "end_time": "2022-03-24T17:28:57.365105",
     "exception": false,
     "start_time": "2022-03-24T17:28:57.313306",
     "status": "completed"
    },
    "tags": []
   },
   "outputs": [],
   "source": [
    "class CustomModel(nn.Module):\n",
    "    def __init__(self):\n",
    "        super().__init__()\n",
    "        \n",
    "        config = torch.load('../input/nbme-roberta-large/roberta-large/config.pth')\n",
    "        self.bert = AutoModel.from_pretrained(CFG['model_name'], config=config) # BERT model\n",
    "        self.dropout = nn.Dropout(p=0.2)\n",
    "        \n",
    "        self.fc1 = nn.Linear(config.hidden_size, 1)\n",
    "\n",
    "        \n",
    "    def forward(self, input_ids, attention_mask, token_type_ids):\n",
    "        outputs = self.bert(input_ids=input_ids, attention_mask=attention_mask,  token_type_ids=token_type_ids) # , token_type_ids=token_type_ids)\n",
    "        \n",
    "        logits = self.fc1(self.dropout(outputs[0])).squeeze(-1)\n",
    "        \n",
    "        return logits"
   ]
  },
  {
   "cell_type": "code",
   "execution_count": 14,
   "id": "8843c82d",
   "metadata": {
    "execution": {
     "iopub.execute_input": "2022-03-24T17:28:57.454468Z",
     "iopub.status.busy": "2022-03-24T17:28:57.453942Z",
     "iopub.status.idle": "2022-03-24T17:29:35.125600Z",
     "shell.execute_reply": "2022-03-24T17:29:35.124772Z",
     "shell.execute_reply.started": "2022-03-24T16:12:22.014191Z"
    },
    "papermill": {
     "duration": 37.718068,
     "end_time": "2022-03-24T17:29:35.125787",
     "exception": false,
     "start_time": "2022-03-24T17:28:57.407719",
     "status": "completed"
    },
    "tags": []
   },
   "outputs": [
    {
     "data": {
      "application/vnd.jupyter.widget-view+json": {
       "model_id": "63c9d724e42b4480967401859eb56d77",
       "version_major": 2,
       "version_minor": 0
      },
      "text/plain": [
       "Downloading:   0%|          | 0.00/1.33G [00:00<?, ?B/s]"
      ]
     },
     "metadata": {},
     "output_type": "display_data"
    },
    {
     "name": "stderr",
     "output_type": "stream",
     "text": [
      "Some weights of the model checkpoint at roberta-large were not used when initializing RobertaModel: ['lm_head.decoder.weight', 'lm_head.layer_norm.weight', 'lm_head.layer_norm.bias', 'lm_head.dense.weight', 'lm_head.dense.bias', 'lm_head.bias']\n",
      "- This IS expected if you are initializing RobertaModel from the checkpoint of a model trained on another task or with another architecture (e.g. initializing a BertForSequenceClassification model from a BertForPreTraining model).\n",
      "- This IS NOT expected if you are initializing RobertaModel from the checkpoint of a model that you expect to be exactly identical (initializing a BertForSequenceClassification model from a BertForSequenceClassification model).\n"
     ]
    }
   ],
   "source": [
    "model = CustomModel()\n",
    "\n",
    "criterion = eval(CFG['criterion'])(reduction=\"none\")\n",
    "optimizer = eval(CFG['optimizer'])(model.parameters(), lr=CFG['lr'])"
   ]
  },
  {
   "cell_type": "markdown",
   "id": "c0a0b17a",
   "metadata": {
    "papermill": {
     "duration": 0.045075,
     "end_time": "2022-03-24T17:29:35.222214",
     "exception": false,
     "start_time": "2022-03-24T17:29:35.177139",
     "status": "completed"
    },
    "tags": []
   },
   "source": [
    "# Score"
   ]
  },
  {
   "cell_type": "code",
   "execution_count": 15,
   "id": "72205ae8",
   "metadata": {
    "execution": {
     "iopub.execute_input": "2022-03-24T17:29:35.386947Z",
     "iopub.status.busy": "2022-03-24T17:29:35.385990Z",
     "iopub.status.idle": "2022-03-24T17:29:35.387872Z",
     "shell.execute_reply": "2022-03-24T17:29:35.388312Z",
     "shell.execute_reply.started": "2022-03-24T16:13:04.554394Z"
    },
    "papermill": {
     "duration": 0.120911,
     "end_time": "2022-03-24T17:29:35.388468",
     "exception": false,
     "start_time": "2022-03-24T17:29:35.267557",
     "status": "completed"
    },
    "tags": []
   },
   "outputs": [],
   "source": [
    "def get_location_predictions(preds, offset_mapping, sequence_ids, test=False):\n",
    "    all_predictions = []\n",
    "    for pred, offsets, seq_ids in zip(preds, offset_mapping, sequence_ids):\n",
    "        pred = 1 / (1 + np.exp(-pred))\n",
    "        start_idx = None\n",
    "        end_idx = None\n",
    "        current_preds = []\n",
    "        for pred, offset, seq_id in zip(pred, offsets, seq_ids):\n",
    "            if seq_id is np.nan or seq_id == 0:\n",
    "                continue\n",
    "\n",
    "            if pred > 0.5:\n",
    "                if start_idx is None:\n",
    "                    start_idx = offset[0]\n",
    "                end_idx = offset[1]\n",
    "            elif start_idx is not None:\n",
    "                if test:\n",
    "                    current_preds.append(f\"{start_idx} {end_idx}\")\n",
    "                else:\n",
    "                    current_preds.append((start_idx, end_idx))\n",
    "                start_idx = None\n",
    "        if test:\n",
    "            all_predictions.append(\"; \".join(current_preds))\n",
    "        else:\n",
    "            all_predictions.append(current_preds)\n",
    "            \n",
    "    return all_predictions\n",
    "\n",
    "\n",
    "def calculate_char_cv(predictions, offset_mapping, sequence_ids, labels):\n",
    "    all_labels = []\n",
    "    all_preds = []\n",
    "    for preds, offsets, seq_ids, labels in zip(predictions, offset_mapping, sequence_ids, labels):\n",
    "\n",
    "        num_chars = max(list(chain(*offsets)))\n",
    "        char_labels = np.zeros(num_chars)\n",
    "\n",
    "        for o, s_id, label in zip(offsets, seq_ids, labels):\n",
    "            if s_id is None or s_id == 0:\n",
    "                continue\n",
    "            if int(label) == 1:\n",
    "                char_labels[o[0]:o[1]] = 1\n",
    "\n",
    "        char_preds = np.zeros(num_chars)\n",
    "\n",
    "        for start_idx, end_idx in preds:\n",
    "            char_preds[start_idx:end_idx] = 1\n",
    "\n",
    "        all_labels.extend(char_labels)\n",
    "        all_preds.extend(char_preds)\n",
    "\n",
    "    results = precision_recall_fscore_support(all_labels, all_preds, average=\"binary\", labels=np.unique(all_preds))\n",
    "    accuracy = accuracy_score(all_labels, all_preds)\n",
    "    \n",
    "\n",
    "    return {\n",
    "        \"Accuracy\": accuracy,\n",
    "        \"precision\": results[0],\n",
    "        \"recall\": results[1],\n",
    "        \"f1\": results[2]\n",
    "    }"
   ]
  },
  {
   "cell_type": "markdown",
   "id": "839fe804",
   "metadata": {
    "papermill": {
     "duration": 0.045068,
     "end_time": "2022-03-24T17:29:35.480453",
     "exception": false,
     "start_time": "2022-03-24T17:29:35.435385",
     "status": "completed"
    },
    "tags": []
   },
   "source": [
    "# Class Trainer"
   ]
  },
  {
   "cell_type": "code",
   "execution_count": 16,
   "id": "e4d62be9",
   "metadata": {
    "execution": {
     "iopub.execute_input": "2022-03-24T17:29:35.615994Z",
     "iopub.status.busy": "2022-03-24T17:29:35.615045Z",
     "iopub.status.idle": "2022-03-24T17:29:35.616721Z",
     "shell.execute_reply": "2022-03-24T17:29:35.617458Z",
     "shell.execute_reply.started": "2022-03-24T16:13:05.582152Z"
    },
    "papermill": {
     "duration": 0.091603,
     "end_time": "2022-03-24T17:29:35.617593",
     "exception": false,
     "start_time": "2022-03-24T17:29:35.525990",
     "status": "completed"
    },
    "tags": []
   },
   "outputs": [],
   "source": [
    "class Trainer:\n",
    "    \n",
    "    def __init__(self, model, criterion, optimizer, epochs, device, path_save_model='model.torch', auto_break_n=1000, run=None):\n",
    "        self.model = model\n",
    "        self.criterion = criterion\n",
    "        self.optimizer = optimizer\n",
    "        self.epochs = epochs\n",
    "        self.history_loss = []\n",
    "        self.history_acc = []\n",
    "        self.history_loss_val = []\n",
    "        self.history_acc_val = []\n",
    "        self.history_pres = []\n",
    "        self.history_recc = []\n",
    "        self.history_f1 = []\n",
    "        self.history_pres_val = []\n",
    "        self.history_recc_val = []\n",
    "        self.history_f1_val = []\n",
    "        self.best_valid_score = 0\n",
    "        self.device = device\n",
    "        self.path_save_model = path_save_model\n",
    "        self.auto_break_n = auto_break_n\n",
    "        self.run = run\n",
    "        \n",
    "        self.no_improvement_epoch = 0\n",
    "\n",
    "        self.model.to(self.device)\n",
    "\n",
    "    def fit(self, train_loader, valid_loader=None):\n",
    "        \n",
    "        for epoch in range(self.epochs):\n",
    "\n",
    "            self.model.train()\n",
    "            \n",
    "            preds = []\n",
    "            offsets = []\n",
    "            seq_ids = []\n",
    "            train_loss = []\n",
    "            valid_labels = []\n",
    "            \n",
    "            for batch in tqdm(train_loader):\n",
    "                                \n",
    "                input_ids = batch['X']['input_ids'].to(self.device)\n",
    "                attention_mask = batch['X']['attention_mask'].to(self.device)\n",
    "                token_type_ids = batch['X']['token_type_ids'].to(self.device)\n",
    "                offset_mapping = batch['X']['offset_mapping'].to(self.device)\n",
    "                sequence_ids = batch['X']['sequence_ids'].to(self.device)\n",
    "                \n",
    "                \n",
    "                labels = batch['y'].to(self.device)\n",
    "\n",
    "                logits = self.model(input_ids=input_ids, attention_mask=attention_mask, token_type_ids=token_type_ids).squeeze(-1)\n",
    "                loss = self.criterion(logits, labels)\n",
    "\n",
    "                loss = torch.masked_select(loss, labels > -1.0).mean()\n",
    "\n",
    "                train_loss.append(loss.item() * input_ids.size(0))\n",
    "                \n",
    "                self.optimizer.zero_grad()\n",
    "                loss.backward()\n",
    "                self.optimizer.step()\n",
    "                \n",
    "                \n",
    "                preds.append(logits.detach().cpu().numpy())\n",
    "                offsets.append(offset_mapping.cpu().numpy())\n",
    "                seq_ids.append(sequence_ids.cpu().numpy())\n",
    "                valid_labels.append(labels.detach().cpu().numpy())\n",
    "                \n",
    "                \n",
    "            preds = np.concatenate(preds, axis=0)\n",
    "            offsets = np.concatenate(offsets, axis=0)\n",
    "            seq_ids = np.concatenate(seq_ids, axis=0)\n",
    "            valid_labels = np.concatenate(valid_labels, axis=0)\n",
    "            location_preds = get_location_predictions(preds, offsets, seq_ids, test=False)\n",
    "            score = calculate_char_cv(location_preds, offsets, seq_ids, valid_labels)\n",
    "            \n",
    "            self.history_pres.append(score['precision'])\n",
    "            self.history_recc.append(score['recall'])\n",
    "            self.history_f1.append(score['f1'])\n",
    "        \n",
    "            loss_score = sum(train_loss) / len(train_loss)\n",
    "            self.history_loss.append(loss_score)\n",
    "            \n",
    "            print('=' * 100)\n",
    "            print(f\"\\033[1;34m=> {epoch + 1} <= epoch\")\n",
    "            print(f'\\033[1;31m Train Loss: {loss_score}, Score: {score}')\n",
    "            print('- ' * 50)\n",
    "            \n",
    "            if self.run:\n",
    "                self.run['train/epoch/loss'].log(self.history_loss[-1])\n",
    "                self.run['train/epoch/precision'].log(self.history_pres[-1])\n",
    "                self.run['train/epoch/recall'].log(self.history_recc[-1])\n",
    "                self.run['train/epoch/f1'].log(self.history_f1[-1])\n",
    "                \n",
    "            if valid_loader:\n",
    "                loss_score_val = self.test_score(valid_loader, \"\\033[1;36m Validation\")\n",
    "                \n",
    "                self.history_loss_val.append(loss_score_val)\n",
    "                \n",
    "                if self.run:\n",
    "                    self.run['valid/epoch/loss'].log(self.history_loss_val[-1])\n",
    "                    self.run['valid/epoch/precision'].log(self.history_pres_val[-1])\n",
    "                    self.run['valid/epoch/recall'].log(self.history_recc_val[-1])\n",
    "                    self.run['valid/epoch/f1'].log(self.history_f1_val[-1])\n",
    "\n",
    "                \n",
    "                    \n",
    "                if self.history_f1_val[-1] > self.best_valid_score:\n",
    "                    self.no_improvement_epoch = 0\n",
    "                    self.best_valid_score = self.history_f1_val[-1]\n",
    "                    self.save_model(epoch + 1)\n",
    "                else:  \n",
    "                    self.no_improvement_epoch += 1\n",
    "                \n",
    "\n",
    "                print(f\"no improvement_iter = {self.no_improvement_epoch}\")\n",
    "                if self.no_improvement_epoch == self.auto_break_n:\n",
    "                    print('Auto_break !!!')\n",
    "                    if self.run:\n",
    "                        self.run.stop()\n",
    "                    break\n",
    "                \n",
    "    def test_score(self, valid_loader, info=\"\"):\n",
    "        self.model.eval()\n",
    "        \n",
    "        preds = []\n",
    "        offsets = []\n",
    "        seq_ids = []\n",
    "        valid_loss = []\n",
    "        valid_labels = []\n",
    "        \n",
    "        for batch in tqdm(valid_loader):\n",
    "\n",
    "            input_ids = batch['X']['input_ids'].to(self.device)\n",
    "            attention_mask = batch['X']['attention_mask'].to(self.device)\n",
    "            token_type_ids = batch['X']['token_type_ids'].to(self.device)\n",
    "            offset_mapping = batch['X']['offset_mapping'].to(self.device)\n",
    "            sequence_ids = batch['X']['sequence_ids'].to(self.device)\n",
    "            \n",
    "            labels = batch['y'].to(self.device)\n",
    "            \n",
    "            with torch.no_grad():\n",
    "                \n",
    "                logits = self.model(input_ids, attention_mask, token_type_ids)\n",
    "                loss = self.criterion(logits, labels)\n",
    "                loss = torch.masked_select(loss, labels > -1.0).mean()\n",
    "\n",
    "                valid_loss.append(loss.item() * input_ids.size(0))\n",
    "\n",
    "\n",
    "                preds.append(logits.cpu().numpy())\n",
    "                offsets.append(offset_mapping.cpu().numpy())\n",
    "                seq_ids.append(sequence_ids.cpu().numpy())\n",
    "                valid_labels.append(labels.cpu().numpy())\n",
    "\n",
    "\n",
    "        preds = np.concatenate(preds, axis=0)\n",
    "        offsets = np.concatenate(offsets, axis=0)\n",
    "        seq_ids = np.concatenate(seq_ids, axis=0)\n",
    "        valid_labels = np.concatenate(valid_labels, axis=0)\n",
    "        location_preds = get_location_predictions(preds, offsets, seq_ids, test=False)\n",
    "        score = calculate_char_cv(location_preds, offsets, seq_ids, valid_labels)\n",
    "        \n",
    "        self.history_pres_val.append(score['precision'])\n",
    "        self.history_recc_val.append(score['recall'])\n",
    "        self.history_f1_val.append(score['f1'])\n",
    "        \n",
    "        loss_score = sum(valid_loss) / len(valid_loss)\n",
    "        print(f'{info} Loss : {loss_score}, Score: {score}')\n",
    "\n",
    "        return loss_score\n",
    "\n",
    "\n",
    "    def save_model(self, n_epoch):\n",
    "        torch.save(\n",
    "            {\n",
    "                \"model_state_dict\": self.model.state_dict(),\n",
    "                \"optimizer_state_dict\": self.optimizer.state_dict(),\n",
    "                \"best_valid_score\": self.best_valid_score,\n",
    "                \"n_epoch\": n_epoch,\n",
    "            },\n",
    "            CFG['path_save_model']\n",
    "        )\n",
    "        if self.run:\n",
    "            self.run[f'model/saved_model'].upload(CFG['path_save_model'])"
   ]
  },
  {
   "cell_type": "markdown",
   "id": "e478380c",
   "metadata": {
    "papermill": {
     "duration": 0.045295,
     "end_time": "2022-03-24T17:29:35.707917",
     "exception": false,
     "start_time": "2022-03-24T17:29:35.662622",
     "status": "completed"
    },
    "tags": []
   },
   "source": [
    "# Fit"
   ]
  },
  {
   "cell_type": "code",
   "execution_count": 17,
   "id": "d0358f3f",
   "metadata": {
    "execution": {
     "iopub.execute_input": "2022-03-24T17:29:35.840508Z",
     "iopub.status.busy": "2022-03-24T17:29:35.839916Z",
     "iopub.status.idle": "2022-03-24T17:29:39.203167Z",
     "shell.execute_reply": "2022-03-24T17:29:39.203858Z",
     "shell.execute_reply.started": "2022-03-24T16:13:07.741215Z"
    },
    "papermill": {
     "duration": 3.451024,
     "end_time": "2022-03-24T17:29:39.204123",
     "exception": false,
     "start_time": "2022-03-24T17:29:35.753099",
     "status": "completed"
    },
    "tags": []
   },
   "outputs": [],
   "source": [
    "mod = Trainer(model, criterion, optimizer, CFG['n_epochs'], device, CFG['path_save_model'], CFG['auto_break_n'], run=run)"
   ]
  },
  {
   "cell_type": "code",
   "execution_count": 18,
   "id": "8187a295",
   "metadata": {
    "execution": {
     "iopub.execute_input": "2022-03-24T17:29:39.356271Z",
     "iopub.status.busy": "2022-03-24T17:29:39.355148Z",
     "iopub.status.idle": "2022-03-24T18:42:33.452977Z",
     "shell.execute_reply": "2022-03-24T18:42:33.453485Z",
     "shell.execute_reply.started": "2022-03-24T16:13:12.42565Z"
    },
    "papermill": {
     "duration": 4374.176914,
     "end_time": "2022-03-24T18:42:33.453679",
     "exception": false,
     "start_time": "2022-03-24T17:29:39.276765",
     "status": "completed"
    },
    "tags": []
   },
   "outputs": [
    {
     "name": "stderr",
     "output_type": "stream",
     "text": [
      "100%|██████████| 1430/1430 [21:05<00:00,  1.13it/s]\n"
     ]
    },
    {
     "name": "stdout",
     "output_type": "stream",
     "text": [
      "====================================================================================================\n",
      "\u001b[1;34m=> 1 <= epoch\n",
      "\u001b[1;31m Train Loss: 0.2134878541038823, Score: {'Accuracy': 0.9903707416742434, 'precision': 0.6886047688267466, 'recall': 0.6269733907587911, 'f1': 0.6563454457772301}\n",
      "- - - - - - - - - - - - - - - - - - - - - - - - - - - - - - - - - - - - - - - - - - - - - - - - - - \n"
     ]
    },
    {
     "name": "stderr",
     "output_type": "stream",
     "text": [
      "100%|██████████| 358/358 [01:44<00:00,  3.44it/s]\n"
     ]
    },
    {
     "name": "stdout",
     "output_type": "stream",
     "text": [
      "\u001b[1;36m Validation Loss : 0.10240734899748663, Score: {'Accuracy': 0.9941279636743009, 'precision': 0.7808506068091504, 'recall': 0.8375910832061289, 'f1': 0.8082262210796914}\n",
      "no improvement_iter = 0\n"
     ]
    },
    {
     "name": "stderr",
     "output_type": "stream",
     "text": [
      "100%|██████████| 1430/1430 [21:07<00:00,  1.13it/s]\n"
     ]
    },
    {
     "name": "stdout",
     "output_type": "stream",
     "text": [
      "====================================================================================================\n",
      "\u001b[1;34m=> 2 <= epoch\n",
      "\u001b[1;31m Train Loss: 0.0912175336543147, Score: {'Accuracy': 0.9944909634813585, 'precision': 0.7885587607126443, 'recall': 0.8531336604342008, 'f1': 0.8195762048097558}\n",
      "- - - - - - - - - - - - - - - - - - - - - - - - - - - - - - - - - - - - - - - - - - - - - - - - - - \n"
     ]
    },
    {
     "name": "stderr",
     "output_type": "stream",
     "text": [
      "100%|██████████| 358/358 [01:44<00:00,  3.43it/s]\n"
     ]
    },
    {
     "name": "stdout",
     "output_type": "stream",
     "text": [
      "\u001b[1;36m Validation Loss : 0.0919712912619129, Score: {'Accuracy': 0.9943670828986356, 'precision': 0.7840332134546224, 'recall': 0.8539212580282826, 'f1': 0.8174862483973697}\n",
      "no improvement_iter = 0\n"
     ]
    },
    {
     "name": "stderr",
     "output_type": "stream",
     "text": [
      "100%|██████████| 1430/1430 [21:09<00:00,  1.13it/s]\n"
     ]
    },
    {
     "name": "stdout",
     "output_type": "stream",
     "text": [
      "====================================================================================================\n",
      "\u001b[1;34m=> 3 <= epoch\n",
      "\u001b[1;31m Train Loss: 0.0686845457256046, Score: {'Accuracy': 0.9952004922945986, 'precision': 0.8043748676688546, 'recall': 0.8889490117507696, 'f1': 0.844549884853053}\n",
      "- - - - - - - - - - - - - - - - - - - - - - - - - - - - - - - - - - - - - - - - - - - - - - - - - - \n"
     ]
    },
    {
     "name": "stderr",
     "output_type": "stream",
     "text": [
      "100%|██████████| 358/358 [01:45<00:00,  3.41it/s]\n"
     ]
    },
    {
     "name": "stdout",
     "output_type": "stream",
     "text": [
      "\u001b[1;36m Validation Loss : 0.09569973500613736, Score: {'Accuracy': 0.9943492127786675, 'precision': 0.7814534761604705, 'recall': 0.8572333746147864, 'f1': 0.8175912318532049}\n",
      "no improvement_iter = 0\n"
     ]
    }
   ],
   "source": [
    "mod.fit(train_loader, valid_loader)"
   ]
  },
  {
   "cell_type": "markdown",
   "id": "25341163",
   "metadata": {
    "papermill": {
     "duration": 2.011959,
     "end_time": "2022-03-24T18:42:38.592824",
     "exception": false,
     "start_time": "2022-03-24T18:42:36.580865",
     "status": "completed"
    },
    "tags": []
   },
   "source": [
    "# Plot accuracy/loss"
   ]
  },
  {
   "cell_type": "code",
   "execution_count": 19,
   "id": "69c04c67",
   "metadata": {
    "execution": {
     "iopub.execute_input": "2022-03-24T18:42:42.125361Z",
     "iopub.status.busy": "2022-03-24T18:42:42.124618Z",
     "iopub.status.idle": "2022-03-24T18:42:42.127927Z",
     "shell.execute_reply": "2022-03-24T18:42:42.127469Z",
     "shell.execute_reply.started": "2022-02-22T11:14:07.68648Z"
    },
    "papermill": {
     "duration": 1.756109,
     "end_time": "2022-03-24T18:42:42.128053",
     "exception": false,
     "start_time": "2022-03-24T18:42:40.371944",
     "status": "completed"
    },
    "tags": []
   },
   "outputs": [],
   "source": [
    "def plot_history(history, history_val, ylabel=\"\", legend=['Train','Valid'], title='Train vs Valid'):\n",
    "    plt.plot(history,'-o')\n",
    "    plt.plot(history_val,'-o')\n",
    "    \n",
    "    plt.xlabel('epoch')\n",
    "    plt.ylabel(ylabel)\n",
    "    \n",
    "    if ylabel == 'f1':\n",
    "        plt.ylim(0, 1)\n",
    "        \n",
    "    plt.xticks(range(len(history)));\n",
    "    \n",
    "    plt.legend(legend)\n",
    "    plt.title('Train vs Valid loss')\n",
    "\n",
    "    plt.show()"
   ]
  },
  {
   "cell_type": "code",
   "execution_count": 20,
   "id": "0abaf37c",
   "metadata": {
    "execution": {
     "iopub.execute_input": "2022-03-24T18:42:45.597230Z",
     "iopub.status.busy": "2022-03-24T18:42:45.596340Z",
     "iopub.status.idle": "2022-03-24T18:42:45.799551Z",
     "shell.execute_reply": "2022-03-24T18:42:45.800054Z",
     "shell.execute_reply.started": "2022-02-22T10:32:41.075557Z"
    },
    "papermill": {
     "duration": 1.941379,
     "end_time": "2022-03-24T18:42:45.800269",
     "exception": false,
     "start_time": "2022-03-24T18:42:43.858890",
     "status": "completed"
    },
    "tags": []
   },
   "outputs": [
    {
     "data": {
      "image/png": "[encoded data removed]",
      "text/plain": [
       "<Figure size 432x288 with 1 Axes>"
      ]
     },
     "metadata": {
      "needs_background": "light"
     },
     "output_type": "display_data"
    }
   ],
   "source": [
    "plot_history(history=np.array(mod.history_loss),\n",
    "             history_val=np.array(mod.history_loss_val),\n",
    "             ylabel='loss')"
   ]
  },
  {
   "cell_type": "code",
   "execution_count": 21,
   "id": "689ed8d3",
   "metadata": {
    "execution": {
     "iopub.execute_input": "2022-03-24T18:42:49.645070Z",
     "iopub.status.busy": "2022-03-24T18:42:49.637011Z",
     "iopub.status.idle": "2022-03-24T18:42:49.785258Z",
     "shell.execute_reply": "2022-03-24T18:42:49.785688Z"
    },
    "papermill": {
     "duration": 2.236323,
     "end_time": "2022-03-24T18:42:49.785840",
     "exception": false,
     "start_time": "2022-03-24T18:42:47.549517",
     "status": "completed"
    },
    "tags": []
   },
   "outputs": [
    {
     "data": {
      "image/png": "[encoded data removed]",
      "text/plain": [
       "<Figure size 432x288 with 1 Axes>"
      ]
     },
     "metadata": {
      "needs_background": "light"
     },
     "output_type": "display_data"
    }
   ],
   "source": [
    "plot_history(history=np.array(mod.history_f1),\n",
    "             history_val=np.array(mod.history_f1_val),\n",
    "             ylabel='f1')"
   ]
  },
  {
   "cell_type": "code",
   "execution_count": 22,
   "id": "f8c94e8d",
   "metadata": {
    "execution": {
     "iopub.execute_input": "2022-03-24T18:42:53.285759Z",
     "iopub.status.busy": "2022-03-24T18:42:53.284955Z",
     "iopub.status.idle": "2022-03-24T18:42:55.991995Z",
     "shell.execute_reply": "2022-03-24T18:42:55.992766Z"
    },
    "papermill": {
     "duration": 4.454934,
     "end_time": "2022-03-24T18:42:55.993025",
     "exception": false,
     "start_time": "2022-03-24T18:42:51.538091",
     "status": "completed"
    },
    "tags": []
   },
   "outputs": [],
   "source": [
    "torch.save(model.state_dict(), \"nbme.pth\")"
   ]
  }
 ],
 "metadata": {
  "kernelspec": {
   "display_name": "Python 3",
   "language": "python",
   "name": "python3"
  },
  "language_info": {
   "codemirror_mode": {
    "name": "ipython",
    "version": 3
   },
   "file_extension": ".py",
   "mimetype": "text/x-python",
   "name": "python",
   "nbconvert_exporter": "python",
   "pygments_lexer": "ipython3",
   "version": "3.7.12"
  },
  "papermill": {
   "default_parameters": {},
   "duration": 4477.122094,
   "end_time": "2022-03-24T18:43:00.619711",
   "environment_variables": {},
   "exception": null,
   "input_path": "__notebook__.ipynb",
   "output_path": "__notebook__.ipynb",
   "parameters": {},
   "start_time": "2022-03-24T17:28:23.497617",
   "version": "2.3.3"
  },
  "widgets": {
   "application/vnd.jupyter.widget-state+json": {
    "state": {
     "00ae7fc3c77842f287ecb53cb30951ce": {
      "model_module": "@jupyter-widgets/controls",
      "model_module_version": "1.5.0",
      "model_name": "FloatProgressModel",
      "state": {
       "_dom_classes": [],
       "_model_module": "@jupyter-widgets/controls",
       "_model_module_version": "1.5.0",
       "_model_name": "FloatProgressModel",
       "_view_count": null,
       "_view_module": "@jupyter-widgets/controls",
       "_view_module_version": "1.5.0",
       "_view_name": "ProgressView",
       "bar_style": "success",
       "description": "",
       "description_tooltip": null,
       "layout": "IPY_MODEL_6221b7b48f264de3bd32036d234a8e64",
       "max": 1425941629.0,
       "min": 0.0,
       "orientation": "horizontal",
       "style": "IPY_MODEL_98d55638fe9f45f9aa1faf9d2a434fb5",
       "value": 1425941629.0
      }
     },
     "0df5dbc5b0834409b44561942b8e0017": {
      "model_module": "@jupyter-widgets/controls",
      "model_module_version": "1.5.0",
      "model_name": "HTMLModel",
      "state": {
       "_dom_classes": [],
       "_model_module": "@jupyter-widgets/controls",
       "_model_module_version": "1.5.0",
       "_model_name": "HTMLModel",
       "_view_count": null,
       "_view_module": "@jupyter-widgets/controls",
       "_view_module_version": "1.5.0",
       "_view_name": "HTMLView",
       "description": "",
       "description_tooltip": null,
       "layout": "IPY_MODEL_e0c0d831761649db83ba2ee083621bea",
       "placeholder": "​",
       "style": "IPY_MODEL_f1e524c83eb043f4b7d69a11419116cd",
       "value": " 1.33G/1.33G [00:32&lt;00:00, 48.6MB/s]"
      }
     },
     "52bcacaee6f04502b1039043f3fac714": {
      "model_module": "@jupyter-widgets/controls",
      "model_module_version": "1.5.0",
      "model_name": "HTMLModel",
      "state": {
       "_dom_classes": [],
       "_model_module": "@jupyter-widgets/controls",
       "_model_module_version": "1.5.0",
       "_model_name": "HTMLModel",
       "_view_count": null,
       "_view_module": "@jupyter-widgets/controls",
       "_view_module_version": "1.5.0",
       "_view_name": "HTMLView",
       "description": "",
       "description_tooltip": null,
       "layout": "IPY_MODEL_919c2559e4e94d59b023bec142fa8447",
       "placeholder": "​",
       "style": "IPY_MODEL_69f98ec8177a41769b353cd066c804e2",
       "value": "Downloading: 100%"
      }
     },
     "6221b7b48f264de3bd32036d234a8e64": {
      "model_module": "@jupyter-widgets/base",
      "model_module_version": "1.2.0",
      "model_name": "LayoutModel",
      "state": {
       "_model_module": "@jupyter-widgets/base",
       "_model_module_version": "1.2.0",
       "_model_name": "LayoutModel",
       "_view_count": null,
       "_view_module": "@jupyter-widgets/base",
       "_view_module_version": "1.2.0",
       "_view_name": "LayoutView",
       "align_content": null,
       "align_items": null,
       "align_self": null,
       "border": null,
       "bottom": null,
       "display": null,
       "flex": null,
       "flex_flow": null,
       "grid_area": null,
       "grid_auto_columns": null,
       "grid_auto_flow": null,
       "grid_auto_rows": null,
       "grid_column": null,
       "grid_gap": null,
       "grid_row": null,
       "grid_template_areas": null,
       "grid_template_columns": null,
       "grid_template_rows": null,
       "height": null,
       "justify_content": null,
       "justify_items": null,
       "left": null,
       "margin": null,
       "max_height": null,
       "max_width": null,
       "min_height": null,
       "min_width": null,
       "object_fit": null,
       "object_position": null,
       "order": null,
       "overflow": null,
       "overflow_x": null,
       "overflow_y": null,
       "padding": null,
       "right": null,
       "top": null,
       "visibility": null,
       "width": null
      }
     },
     "63c9d724e42b4480967401859eb56d77": {
      "model_module": "@jupyter-widgets/controls",
      "model_module_version": "1.5.0",
      "model_name": "HBoxModel",
      "state": {
       "_dom_classes": [],
       "_model_module": "@jupyter-widgets/controls",
       "_model_module_version": "1.5.0",
       "_model_name": "HBoxModel",
       "_view_count": null,
       "_view_module": "@jupyter-widgets/controls",
       "_view_module_version": "1.5.0",
       "_view_name": "HBoxView",
       "box_style": "",
       "children": [
        "IPY_MODEL_52bcacaee6f04502b1039043f3fac714",
        "IPY_MODEL_00ae7fc3c77842f287ecb53cb30951ce",
        "IPY_MODEL_0df5dbc5b0834409b44561942b8e0017"
       ],
       "layout": "IPY_MODEL_66b07f7649a24d449875103c03b51656"
      }
     },
     "66b07f7649a24d449875103c03b51656": {
      "model_module": "@jupyter-widgets/base",
      "model_module_version": "1.2.0",
      "model_name": "LayoutModel",
      "state": {
       "_model_module": "@jupyter-widgets/base",
       "_model_module_version": "1.2.0",
       "_model_name": "LayoutModel",
       "_view_count": null,
       "_view_module": "@jupyter-widgets/base",
       "_view_module_version": "1.2.0",
       "_view_name": "LayoutView",
       "align_content": null,
       "align_items": null,
       "align_self": null,
       "border": null,
       "bottom": null,
       "display": null,
       "flex": null,
       "flex_flow": null,
       "grid_area": null,
       "grid_auto_columns": null,
       "grid_auto_flow": null,
       "grid_auto_rows": null,
       "grid_column": null,
       "grid_gap": null,
       "grid_row": null,
       "grid_template_areas": null,
       "grid_template_columns": null,
       "grid_template_rows": null,
       "height": null,
       "justify_content": null,
       "justify_items": null,
       "left": null,
       "margin": null,
       "max_height": null,
       "max_width": null,
       "min_height": null,
       "min_width": null,
       "object_fit": null,
       "object_position": null,
       "order": null,
       "overflow": null,
       "overflow_x": null,
       "overflow_y": null,
       "padding": null,
       "right": null,
       "top": null,
       "visibility": null,
       "width": null
      }
     },
     "69f98ec8177a41769b353cd066c804e2": {
      "model_module": "@jupyter-widgets/controls",
      "model_module_version": "1.5.0",
      "model_name": "DescriptionStyleModel",
      "state": {
       "_model_module": "@jupyter-widgets/controls",
       "_model_module_version": "1.5.0",
       "_model_name": "DescriptionStyleModel",
       "_view_count": null,
       "_view_module": "@jupyter-widgets/base",
       "_view_module_version": "1.2.0",
       "_view_name": "StyleView",
       "description_width": ""
      }
     },
     "919c2559e4e94d59b023bec142fa8447": {
      "model_module": "@jupyter-widgets/base",
      "model_module_version": "1.2.0",
      "model_name": "LayoutModel",
      "state": {
       "_model_module": "@jupyter-widgets/base",
       "_model_module_version": "1.2.0",
       "_model_name": "LayoutModel",
       "_view_count": null,
       "_view_module": "@jupyter-widgets/base",
       "_view_module_version": "1.2.0",
       "_view_name": "LayoutView",
       "align_content": null,
       "align_items": null,
       "align_self": null,
       "border": null,
       "bottom": null,
       "display": null,
       "flex": null,
       "flex_flow": null,
       "grid_area": null,
       "grid_auto_columns": null,
       "grid_auto_flow": null,
       "grid_auto_rows": null,
       "grid_column": null,
       "grid_gap": null,
       "grid_row": null,
       "grid_template_areas": null,
       "grid_template_columns": null,
       "grid_template_rows": null,
       "height": null,
       "justify_content": null,
       "justify_items": null,
       "left": null,
       "margin": null,
       "max_height": null,
       "max_width": null,
       "min_height": null,
       "min_width": null,
       "object_fit": null,
       "object_position": null,
       "order": null,
       "overflow": null,
       "overflow_x": null,
       "overflow_y": null,
       "padding": null,
       "right": null,
       "top": null,
       "visibility": null,
       "width": null
      }
     },
     "98d55638fe9f45f9aa1faf9d2a434fb5": {
      "model_module": "@jupyter-widgets/controls",
      "model_module_version": "1.5.0",
      "model_name": "ProgressStyleModel",
      "state": {
       "_model_module": "@jupyter-widgets/controls",
       "_model_module_version": "1.5.0",
       "_model_name": "ProgressStyleModel",
       "_view_count": null,
       "_view_module": "@jupyter-widgets/base",
       "_view_module_version": "1.2.0",
       "_view_name": "StyleView",
       "bar_color": null,
       "description_width": ""
      }
     },
     "e0c0d831761649db83ba2ee083621bea": {
      "model_module": "@jupyter-widgets/base",
      "model_module_version": "1.2.0",
      "model_name": "LayoutModel",
      "state": {
       "_model_module": "@jupyter-widgets/base",
       "_model_module_version": "1.2.0",
       "_model_name": "LayoutModel",
       "_view_count": null,
       "_view_module": "@jupyter-widgets/base",
       "_view_module_version": "1.2.0",
       "_view_name": "LayoutView",
       "align_content": null,
       "align_items": null,
       "align_self": null,
       "border": null,
       "bottom": null,
       "display": null,
       "flex": null,
       "flex_flow": null,
       "grid_area": null,
       "grid_auto_columns": null,
       "grid_auto_flow": null,
       "grid_auto_rows": null,
       "grid_column": null,
       "grid_gap": null,
       "grid_row": null,
       "grid_template_areas": null,
       "grid_template_columns": null,
       "grid_template_rows": null,
       "height": null,
       "justify_content": null,
       "justify_items": null,
       "left": null,
       "margin": null,
       "max_height": null,
       "max_width": null,
       "min_height": null,
       "min_width": null,
       "object_fit": null,
       "object_position": null,
       "order": null,
       "overflow": null,
       "overflow_x": null,
       "overflow_y": null,
       "padding": null,
       "right": null,
       "top": null,
       "visibility": null,
       "width": null
      }
     },
     "f1e524c83eb043f4b7d69a11419116cd": {
      "model_module": "@jupyter-widgets/controls",
      "model_module_version": "1.5.0",
      "model_name": "DescriptionStyleModel",
      "state": {
       "_model_module": "@jupyter-widgets/controls",
       "_model_module_version": "1.5.0",
       "_model_name": "DescriptionStyleModel",
       "_view_count": null,
       "_view_module": "@jupyter-widgets/base",
       "_view_module_version": "1.2.0",
       "_view_name": "StyleView",
       "description_width": ""
      }
     }
    },
    "version_major": 2,
    "version_minor": 0
   }
  }
 },
 "nbformat": 4,
 "nbformat_minor": 5
}
