{
 "cells": [
  {
   "cell_type": "code",
   "execution_count": 1,
   "id": "cfb9c7d3",
   "metadata": {
    "_cell_guid": "b1076dfc-b9ad-4769-8c92-a6c4dae69d19",
    "_uuid": "8f2839f25d086af736a60e9eeb907d3b93b6e0e5",
    "execution": {
     "iopub.execute_input": "2022-03-29T11:10:33.221921Z",
     "iopub.status.busy": "2022-03-29T11:10:33.219784Z",
     "iopub.status.idle": "2022-03-29T11:10:42.442549Z",
     "shell.execute_reply": "2022-03-29T11:10:42.443079Z",
     "shell.execute_reply.started": "2022-03-29T11:01:11.391293Z"
    },
    "papermill": {
     "duration": 9.266873,
     "end_time": "2022-03-29T11:10:42.443411",
     "exception": false,
     "start_time": "2022-03-29T11:10:33.176538",
     "status": "completed"
    },
    "tags": []
   },
   "outputs": [],
   "source": [
    "import re\n",
    "import warnings\n",
    "import numpy as np\n",
    "import pandas as pd\n",
    "import seaborn as sns\n",
    "from tqdm import tqdm\n",
    "from ast import literal_eval\n",
    "from matplotlib_venn import venn3\n",
    "from matplotlib import pyplot as plt\n",
    "from transformers import AutoTokenizer\n",
    "\n",
    "warnings.simplefilter(action='ignore', category=FutureWarning)"
   ]
  },
  {
   "cell_type": "code",
   "execution_count": 2,
   "id": "1896852a",
   "metadata": {
    "execution": {
     "iopub.execute_input": "2022-03-29T11:10:42.517553Z",
     "iopub.status.busy": "2022-03-29T11:10:42.516820Z",
     "iopub.status.idle": "2022-03-29T11:10:43.322641Z",
     "shell.execute_reply": "2022-03-29T11:10:43.323158Z",
     "shell.execute_reply.started": "2022-03-29T11:01:19.951476Z"
    },
    "papermill": {
     "duration": 0.843248,
     "end_time": "2022-03-29T11:10:43.323349",
     "exception": false,
     "start_time": "2022-03-29T11:10:42.480101",
     "status": "completed"
    },
    "tags": []
   },
   "outputs": [],
   "source": [
    "patient_notes = pd.read_csv(\"../input/nbme-score-clinical-patient-notes/patient_notes.csv\")\n",
    "features = pd.read_csv(\"../input/nbme-score-clinical-patient-notes/features.csv\")\n",
    "\n",
    "train_data = pd.read_csv(\"../input/nbme-score-clinical-patient-notes/train.csv\")"
   ]
  },
  {
   "cell_type": "markdown",
   "id": "3484b1a5",
   "metadata": {
    "papermill": {
     "duration": 0.034063,
     "end_time": "2022-03-29T11:10:43.391948",
     "exception": false,
     "start_time": "2022-03-29T11:10:43.357885",
     "status": "completed"
    },
    "tags": []
   },
   "source": [
    "# patients_notes"
   ]
  },
  {
   "cell_type": "code",
   "execution_count": 3,
   "id": "6c567021",
   "metadata": {
    "execution": {
     "iopub.execute_input": "2022-03-29T11:10:43.463194Z",
     "iopub.status.busy": "2022-03-29T11:10:43.462465Z",
     "iopub.status.idle": "2022-03-29T11:10:43.487907Z",
     "shell.execute_reply": "2022-03-29T11:10:43.488413Z",
     "shell.execute_reply.started": "2022-03-29T11:01:20.745102Z"
    },
    "papermill": {
     "duration": 0.062567,
     "end_time": "2022-03-29T11:10:43.488586",
     "exception": false,
     "start_time": "2022-03-29T11:10:43.426019",
     "status": "completed"
    },
    "tags": []
   },
   "outputs": [
    {
     "name": "stdout",
     "output_type": "stream",
     "text": [
      "(42146, 3)\n"
     ]
    },
    {
     "data": {
      "text/html": [
       "<div>\n",
       "<style scoped>\n",
       "    .dataframe tbody tr th:only-of-type {\n",
       "        vertical-align: middle;\n",
       "    }\n",
       "\n",
       "    .dataframe tbody tr th {\n",
       "        vertical-align: top;\n",
       "    }\n",
       "\n",
       "    .dataframe thead th {\n",
       "        text-align: right;\n",
       "    }\n",
       "</style>\n",
       "<table border=\"1\" class=\"dataframe\">\n",
       "  <thead>\n",
       "    <tr style=\"text-align: right;\">\n",
       "      <th></th>\n",
       "      <th>pn_num</th>\n",
       "      <th>case_num</th>\n",
       "      <th>pn_history</th>\n",
       "    </tr>\n",
       "  </thead>\n",
       "  <tbody>\n",
       "    <tr>\n",
       "      <th>35543</th>\n",
       "      <td>82869</td>\n",
       "      <td>8</td>\n",
       "      <td>67 yo F presenting with trouble sleeping for 3...</td>\n",
       "    </tr>\n",
       "    <tr>\n",
       "      <th>1725</th>\n",
       "      <td>1864</td>\n",
       "      <td>0</td>\n",
       "      <td>17 yr old male with CC of heart pounding that ...</td>\n",
       "    </tr>\n",
       "  </tbody>\n",
       "</table>\n",
       "</div>"
      ],
      "text/plain": [
       "       pn_num  case_num                                         pn_history\n",
       "35543   82869         8  67 yo F presenting with trouble sleeping for 3...\n",
       "1725     1864         0  17 yr old male with CC of heart pounding that ..."
      ]
     },
     "execution_count": 3,
     "metadata": {},
     "output_type": "execute_result"
    }
   ],
   "source": [
    "print(patient_notes.shape)\n",
    "patient_notes.sample(2)"
   ]
  },
  {
   "cell_type": "code",
   "execution_count": 4,
   "id": "18654d6e",
   "metadata": {
    "execution": {
     "iopub.execute_input": "2022-03-29T11:10:43.568409Z",
     "iopub.status.busy": "2022-03-29T11:10:43.567189Z",
     "iopub.status.idle": "2022-03-29T11:10:43.576299Z",
     "shell.execute_reply": "2022-03-29T11:10:43.575624Z",
     "shell.execute_reply.started": "2022-03-29T11:01:20.770346Z"
    },
    "papermill": {
     "duration": 0.053619,
     "end_time": "2022-03-29T11:10:43.576444",
     "exception": false,
     "start_time": "2022-03-29T11:10:43.522825",
     "status": "completed"
    },
    "tags": []
   },
   "outputs": [
    {
     "data": {
      "text/plain": [
       "42146"
      ]
     },
     "execution_count": 4,
     "metadata": {},
     "output_type": "execute_result"
    }
   ],
   "source": [
    "# pn_num - A unique identifier for each patient note.\n",
    "patient_notes.pn_num.nunique()"
   ]
  },
  {
   "cell_type": "code",
   "execution_count": 5,
   "id": "bf32e3b6",
   "metadata": {
    "execution": {
     "iopub.execute_input": "2022-03-29T11:10:43.653661Z",
     "iopub.status.busy": "2022-03-29T11:10:43.652589Z",
     "iopub.status.idle": "2022-03-29T11:10:43.928361Z",
     "shell.execute_reply": "2022-03-29T11:10:43.927474Z",
     "shell.execute_reply.started": "2022-03-29T11:01:20.786589Z"
    },
    "papermill": {
     "duration": 0.314889,
     "end_time": "2022-03-29T11:10:43.928531",
     "exception": false,
     "start_time": "2022-03-29T11:10:43.613642",
     "status": "completed"
    },
    "tags": []
   },
   "outputs": [
    {
     "data": {
      "image/png": "[encoded data removed]",
      "text/plain": [
       "<Figure size 432x288 with 1 Axes>"
      ]
     },
     "metadata": {
      "needs_background": "light"
     },
     "output_type": "display_data"
    }
   ],
   "source": [
    "# case_num - A unique identifier for the clinical case a patient note represents.\n",
    "sns.countplot(patient_notes.case_num);"
   ]
  },
  {
   "cell_type": "code",
   "execution_count": 6,
   "id": "734a1d3f",
   "metadata": {
    "execution": {
     "iopub.execute_input": "2022-03-29T11:10:44.004551Z",
     "iopub.status.busy": "2022-03-29T11:10:44.003843Z",
     "iopub.status.idle": "2022-03-29T11:10:44.039225Z",
     "shell.execute_reply": "2022-03-29T11:10:44.039774Z",
     "shell.execute_reply.started": "2022-03-29T11:01:21.003062Z"
    },
    "papermill": {
     "duration": 0.076408,
     "end_time": "2022-03-29T11:10:44.039963",
     "exception": false,
     "start_time": "2022-03-29T11:10:43.963555",
     "status": "completed"
    },
    "tags": []
   },
   "outputs": [
    {
     "data": {
      "text/html": [
       "<div>\n",
       "<style scoped>\n",
       "    .dataframe tbody tr th:only-of-type {\n",
       "        vertical-align: middle;\n",
       "    }\n",
       "\n",
       "    .dataframe tbody tr th {\n",
       "        vertical-align: top;\n",
       "    }\n",
       "\n",
       "    .dataframe thead th {\n",
       "        text-align: right;\n",
       "    }\n",
       "</style>\n",
       "<table border=\"1\" class=\"dataframe\">\n",
       "  <thead>\n",
       "    <tr style=\"text-align: right;\">\n",
       "      <th></th>\n",
       "      <th>pn_num</th>\n",
       "      <th>case_num</th>\n",
       "      <th>pn_history</th>\n",
       "    </tr>\n",
       "  </thead>\n",
       "  <tbody>\n",
       "    <tr>\n",
       "      <th>40711</th>\n",
       "      <td>93847</td>\n",
       "      <td>9</td>\n",
       "      <td>Patient wa s20 yo F c/o neck s</td>\n",
       "    </tr>\n",
       "  </tbody>\n",
       "</table>\n",
       "</div>"
      ],
      "text/plain": [
       "       pn_num  case_num                      pn_history\n",
       "40711   93847         9  Patient wa s20 yo F c/o neck s"
      ]
     },
     "execution_count": 6,
     "metadata": {},
     "output_type": "execute_result"
    }
   ],
   "source": [
    "patient_notes[patient_notes.pn_history.apply(lambda x: len(str(x)) < 31)]"
   ]
  },
  {
   "cell_type": "code",
   "execution_count": 7,
   "id": "62cf0b91",
   "metadata": {
    "execution": {
     "iopub.execute_input": "2022-03-29T11:10:44.117430Z",
     "iopub.status.busy": "2022-03-29T11:10:44.114409Z",
     "iopub.status.idle": "2022-03-29T11:10:44.120095Z",
     "shell.execute_reply": "2022-03-29T11:10:44.120774Z",
     "shell.execute_reply.started": "2022-03-29T11:01:21.04484Z"
    },
    "papermill": {
     "duration": 0.045025,
     "end_time": "2022-03-29T11:10:44.120956",
     "exception": false,
     "start_time": "2022-03-29T11:10:44.075931",
     "status": "completed"
    },
    "tags": []
   },
   "outputs": [
    {
     "data": {
      "text/plain": [
       "'Patient wa s20 yo F c/o neck s'"
      ]
     },
     "execution_count": 7,
     "metadata": {},
     "output_type": "execute_result"
    }
   ],
   "source": [
    "patient_notes.pn_history[40711]"
   ]
  },
  {
   "cell_type": "markdown",
   "id": "c88440e8",
   "metadata": {
    "papermill": {
     "duration": 0.036018,
     "end_time": "2022-03-29T11:10:44.196309",
     "exception": false,
     "start_time": "2022-03-29T11:10:44.160291",
     "status": "completed"
    },
    "tags": []
   },
   "source": [
    "# features"
   ]
  },
  {
   "cell_type": "code",
   "execution_count": 8,
   "id": "19919a88",
   "metadata": {
    "execution": {
     "iopub.execute_input": "2022-03-29T11:10:44.278720Z",
     "iopub.status.busy": "2022-03-29T11:10:44.277928Z",
     "iopub.status.idle": "2022-03-29T11:10:44.281890Z",
     "shell.execute_reply": "2022-03-29T11:10:44.282461Z",
     "shell.execute_reply.started": "2022-03-29T11:01:21.051359Z"
    },
    "papermill": {
     "duration": 0.050793,
     "end_time": "2022-03-29T11:10:44.282689",
     "exception": false,
     "start_time": "2022-03-29T11:10:44.231896",
     "status": "completed"
    },
    "tags": []
   },
   "outputs": [
    {
     "name": "stdout",
     "output_type": "stream",
     "text": [
      "(143, 3)\n"
     ]
    },
    {
     "data": {
      "text/html": [
       "<div>\n",
       "<style scoped>\n",
       "    .dataframe tbody tr th:only-of-type {\n",
       "        vertical-align: middle;\n",
       "    }\n",
       "\n",
       "    .dataframe tbody tr th {\n",
       "        vertical-align: top;\n",
       "    }\n",
       "\n",
       "    .dataframe thead th {\n",
       "        text-align: right;\n",
       "    }\n",
       "</style>\n",
       "<table border=\"1\" class=\"dataframe\">\n",
       "  <thead>\n",
       "    <tr style=\"text-align: right;\">\n",
       "      <th></th>\n",
       "      <th>feature_num</th>\n",
       "      <th>case_num</th>\n",
       "      <th>feature_text</th>\n",
       "    </tr>\n",
       "  </thead>\n",
       "  <tbody>\n",
       "    <tr>\n",
       "      <th>123</th>\n",
       "      <td>815</td>\n",
       "      <td>8</td>\n",
       "      <td>Early-wakening</td>\n",
       "    </tr>\n",
       "    <tr>\n",
       "      <th>71</th>\n",
       "      <td>502</td>\n",
       "      <td>5</td>\n",
       "      <td>No-caffeine-use</td>\n",
       "    </tr>\n",
       "  </tbody>\n",
       "</table>\n",
       "</div>"
      ],
      "text/plain": [
       "     feature_num  case_num     feature_text\n",
       "123          815         8   Early-wakening\n",
       "71           502         5  No-caffeine-use"
      ]
     },
     "execution_count": 8,
     "metadata": {},
     "output_type": "execute_result"
    }
   ],
   "source": [
    "print(features.shape)\n",
    "features.sample(2)"
   ]
  },
  {
   "cell_type": "code",
   "execution_count": 9,
   "id": "426a079f",
   "metadata": {
    "execution": {
     "iopub.execute_input": "2022-03-29T11:10:44.359433Z",
     "iopub.status.busy": "2022-03-29T11:10:44.358658Z",
     "iopub.status.idle": "2022-03-29T11:10:44.363991Z",
     "shell.execute_reply": "2022-03-29T11:10:44.364715Z",
     "shell.execute_reply.started": "2022-03-29T11:01:21.068852Z"
    },
    "papermill": {
     "duration": 0.04577,
     "end_time": "2022-03-29T11:10:44.364913",
     "exception": false,
     "start_time": "2022-03-29T11:10:44.319143",
     "status": "completed"
    },
    "tags": []
   },
   "outputs": [
    {
     "data": {
      "text/plain": [
       "143"
      ]
     },
     "execution_count": 9,
     "metadata": {},
     "output_type": "execute_result"
    }
   ],
   "source": [
    "# feature_num - A unique identifier for each feature.\n",
    "features.feature_num.nunique()"
   ]
  },
  {
   "cell_type": "code",
   "execution_count": 10,
   "id": "269a63df",
   "metadata": {
    "execution": {
     "iopub.execute_input": "2022-03-29T11:10:44.444812Z",
     "iopub.status.busy": "2022-03-29T11:10:44.444085Z",
     "iopub.status.idle": "2022-03-29T11:10:44.687573Z",
     "shell.execute_reply": "2022-03-29T11:10:44.687054Z",
     "shell.execute_reply.started": "2022-03-29T11:01:21.083589Z"
    },
    "papermill": {
     "duration": 0.284745,
     "end_time": "2022-03-29T11:10:44.687748",
     "exception": false,
     "start_time": "2022-03-29T11:10:44.403003",
     "status": "completed"
    },
    "tags": []
   },
   "outputs": [
    {
     "data": {
      "image/png": "[encoded data removed]",
      "text/plain": [
       "<Figure size 432x288 with 1 Axes>"
      ]
     },
     "metadata": {
      "needs_background": "light"
     },
     "output_type": "display_data"
    }
   ],
   "source": [
    "# case_num - A unique identifier for each case.\n",
    "sns.countplot(features.case_num);"
   ]
  },
  {
   "cell_type": "code",
   "execution_count": 11,
   "id": "87551f71",
   "metadata": {
    "execution": {
     "iopub.execute_input": "2022-03-29T11:10:44.768136Z",
     "iopub.status.busy": "2022-03-29T11:10:44.765340Z",
     "iopub.status.idle": "2022-03-29T11:10:44.771405Z",
     "shell.execute_reply": "2022-03-29T11:10:44.771949Z",
     "shell.execute_reply.started": "2022-03-29T11:01:21.279812Z"
    },
    "papermill": {
     "duration": 0.046928,
     "end_time": "2022-03-29T11:10:44.772142",
     "exception": false,
     "start_time": "2022-03-29T11:10:44.725214",
     "status": "completed"
    },
    "tags": []
   },
   "outputs": [
    {
     "data": {
      "text/plain": [
       "'Chest-pressure'"
      ]
     },
     "execution_count": 11,
     "metadata": {},
     "output_type": "execute_result"
    }
   ],
   "source": [
    "# feature_text - A description of the feature.\n",
    "features.feature_text[2]"
   ]
  },
  {
   "cell_type": "markdown",
   "id": "2fd09dbd",
   "metadata": {
    "papermill": {
     "duration": 0.038031,
     "end_time": "2022-03-29T11:10:44.848602",
     "exception": false,
     "start_time": "2022-03-29T11:10:44.810571",
     "status": "completed"
    },
    "tags": []
   },
   "source": [
    "# train_data"
   ]
  },
  {
   "cell_type": "code",
   "execution_count": 12,
   "id": "00428cdc",
   "metadata": {
    "execution": {
     "iopub.execute_input": "2022-03-29T11:10:44.930264Z",
     "iopub.status.busy": "2022-03-29T11:10:44.929495Z",
     "iopub.status.idle": "2022-03-29T11:10:44.943298Z",
     "shell.execute_reply": "2022-03-29T11:10:44.943809Z",
     "shell.execute_reply.started": "2022-03-29T11:01:21.289585Z"
    },
    "papermill": {
     "duration": 0.055543,
     "end_time": "2022-03-29T11:10:44.943991",
     "exception": false,
     "start_time": "2022-03-29T11:10:44.888448",
     "status": "completed"
    },
    "tags": []
   },
   "outputs": [
    {
     "name": "stdout",
     "output_type": "stream",
     "text": [
      "(14300, 6)\n"
     ]
    },
    {
     "data": {
      "text/html": [
       "<div>\n",
       "<style scoped>\n",
       "    .dataframe tbody tr th:only-of-type {\n",
       "        vertical-align: middle;\n",
       "    }\n",
       "\n",
       "    .dataframe tbody tr th {\n",
       "        vertical-align: top;\n",
       "    }\n",
       "\n",
       "    .dataframe thead th {\n",
       "        text-align: right;\n",
       "    }\n",
       "</style>\n",
       "<table border=\"1\" class=\"dataframe\">\n",
       "  <thead>\n",
       "    <tr style=\"text-align: right;\">\n",
       "      <th></th>\n",
       "      <th>id</th>\n",
       "      <th>case_num</th>\n",
       "      <th>pn_num</th>\n",
       "      <th>feature_num</th>\n",
       "      <th>annotation</th>\n",
       "      <th>location</th>\n",
       "    </tr>\n",
       "  </thead>\n",
       "  <tbody>\n",
       "    <tr>\n",
       "      <th>2620</th>\n",
       "      <td>20040_203</td>\n",
       "      <td>2</td>\n",
       "      <td>20040</td>\n",
       "      <td>203</td>\n",
       "      <td>['sexually active']</td>\n",
       "      <td>['787 802']</td>\n",
       "    </tr>\n",
       "    <tr>\n",
       "      <th>10445</th>\n",
       "      <td>72549_705</td>\n",
       "      <td>7</td>\n",
       "      <td>72549</td>\n",
       "      <td>705</td>\n",
       "      <td>[]</td>\n",
       "      <td>[]</td>\n",
       "    </tr>\n",
       "  </tbody>\n",
       "</table>\n",
       "</div>"
      ],
      "text/plain": [
       "              id  case_num  pn_num  feature_num           annotation  \\\n",
       "2620   20040_203         2   20040          203  ['sexually active']   \n",
       "10445  72549_705         7   72549          705                   []   \n",
       "\n",
       "          location  \n",
       "2620   ['787 802']  \n",
       "10445           []  "
      ]
     },
     "execution_count": 12,
     "metadata": {},
     "output_type": "execute_result"
    }
   ],
   "source": [
    "print(train_data.shape)\n",
    "train_data.sample(2)"
   ]
  },
  {
   "cell_type": "code",
   "execution_count": 13,
   "id": "2807d220",
   "metadata": {
    "execution": {
     "iopub.execute_input": "2022-03-29T11:10:45.028163Z",
     "iopub.status.busy": "2022-03-29T11:10:45.027424Z",
     "iopub.status.idle": "2022-03-29T11:10:45.044993Z",
     "shell.execute_reply": "2022-03-29T11:10:45.044409Z",
     "shell.execute_reply.started": "2022-03-29T11:01:21.307718Z"
    },
    "papermill": {
     "duration": 0.060791,
     "end_time": "2022-03-29T11:10:45.045154",
     "exception": false,
     "start_time": "2022-03-29T11:10:44.984363",
     "status": "completed"
    },
    "tags": []
   },
   "outputs": [
    {
     "data": {
      "text/plain": [
       "id             14300\n",
       "case_num          10\n",
       "pn_num          1000\n",
       "feature_num      143\n",
       "annotation      5201\n",
       "location        7534\n",
       "dtype: int64"
      ]
     },
     "execution_count": 13,
     "metadata": {},
     "output_type": "execute_result"
    }
   ],
   "source": [
    "train_data.nunique()"
   ]
  },
  {
   "cell_type": "markdown",
   "id": "b09aca4f",
   "metadata": {
    "execution": {
     "iopub.execute_input": "2022-02-08T10:29:37.393663Z",
     "iopub.status.busy": "2022-02-08T10:29:37.393248Z",
     "iopub.status.idle": "2022-02-08T10:29:37.398054Z",
     "shell.execute_reply": "2022-02-08T10:29:37.39699Z",
     "shell.execute_reply.started": "2022-02-08T10:29:37.393617Z"
    },
    "papermill": {
     "duration": 0.038742,
     "end_time": "2022-03-29T11:10:45.124225",
     "exception": false,
     "start_time": "2022-03-29T11:10:45.085483",
     "status": "completed"
    },
    "tags": []
   },
   "source": [
    "* pn_num - The patient note annotated in this row\n",
    "* id - Unique identifier for each patient note / feature pair.\n",
    "* pn_num - The patient note annotated in this row.\n",
    "* feature_num - The feature annotated in this row.\n",
    "* case_num - The case to which this patient note belongs.\n",
    "* annotation - The text(s) within a patient note indicating a feature. A feature may be indicated multiple times within a single note.\n",
    "* location - Character spans indicating the location of each annotation within the note."
   ]
  },
  {
   "cell_type": "code",
   "execution_count": 14,
   "id": "e96066f3",
   "metadata": {
    "execution": {
     "iopub.execute_input": "2022-03-29T11:10:45.206116Z",
     "iopub.status.busy": "2022-03-29T11:10:45.205401Z",
     "iopub.status.idle": "2022-03-29T11:10:45.444632Z",
     "shell.execute_reply": "2022-03-29T11:10:45.445135Z",
     "shell.execute_reply.started": "2022-03-29T11:01:21.326479Z"
    },
    "papermill": {
     "duration": 0.28212,
     "end_time": "2022-03-29T11:10:45.445315",
     "exception": false,
     "start_time": "2022-03-29T11:10:45.163195",
     "status": "completed"
    },
    "tags": []
   },
   "outputs": [
    {
     "data": {
      "image/png": "[encoded data removed]",
      "text/plain": [
       "<Figure size 432x288 with 1 Axes>"
      ]
     },
     "metadata": {
      "needs_background": "light"
     },
     "output_type": "display_data"
    }
   ],
   "source": [
    "sns.countplot(train_data.case_num);"
   ]
  },
  {
   "cell_type": "markdown",
   "id": "7e2dfca0",
   "metadata": {
    "papermill": {
     "duration": 0.04053,
     "end_time": "2022-03-29T11:10:45.525130",
     "exception": false,
     "start_time": "2022-03-29T11:10:45.484600",
     "status": "completed"
    },
    "tags": []
   },
   "source": [
    "# Example train_data"
   ]
  },
  {
   "cell_type": "code",
   "execution_count": 15,
   "id": "5f90fad5",
   "metadata": {
    "execution": {
     "iopub.execute_input": "2022-03-29T11:10:45.611351Z",
     "iopub.status.busy": "2022-03-29T11:10:45.610327Z",
     "iopub.status.idle": "2022-03-29T11:10:45.640021Z",
     "shell.execute_reply": "2022-03-29T11:10:45.640490Z",
     "shell.execute_reply.started": "2022-03-29T11:01:21.514385Z"
    },
    "papermill": {
     "duration": 0.074608,
     "end_time": "2022-03-29T11:10:45.640666",
     "exception": false,
     "start_time": "2022-03-29T11:10:45.566058",
     "status": "completed"
    },
    "tags": []
   },
   "outputs": [
    {
     "data": {
      "text/plain": [
       "(9901, 4399)"
      ]
     },
     "execution_count": 15,
     "metadata": {},
     "output_type": "execute_result"
    }
   ],
   "source": [
    "samples_with_annotation = train_data[train_data.annotation.str.len() > 2].shape[0]\n",
    "samples_without_annotation = train_data[train_data.annotation.str.len() == 2].shape[0]\n",
    "all_samples = train_data.shape[0]\n",
    "assert samples_with_annotation + samples_without_annotation == all_samples\n",
    "\n",
    "samples_with_annotation, samples_without_annotation"
   ]
  },
  {
   "cell_type": "code",
   "execution_count": 16,
   "id": "28750a88",
   "metadata": {
    "execution": {
     "iopub.execute_input": "2022-03-29T11:10:45.726517Z",
     "iopub.status.busy": "2022-03-29T11:10:45.725778Z",
     "iopub.status.idle": "2022-03-29T11:10:45.749673Z",
     "shell.execute_reply": "2022-03-29T11:10:45.750213Z",
     "shell.execute_reply.started": "2022-03-29T11:01:21.547435Z"
    },
    "papermill": {
     "duration": 0.068351,
     "end_time": "2022-03-29T11:10:45.750396",
     "exception": false,
     "start_time": "2022-03-29T11:10:45.682045",
     "status": "completed"
    },
    "tags": []
   },
   "outputs": [
    {
     "data": {
      "text/html": [
       "<div>\n",
       "<style scoped>\n",
       "    .dataframe tbody tr th:only-of-type {\n",
       "        vertical-align: middle;\n",
       "    }\n",
       "\n",
       "    .dataframe tbody tr th {\n",
       "        vertical-align: top;\n",
       "    }\n",
       "\n",
       "    .dataframe thead th {\n",
       "        text-align: right;\n",
       "    }\n",
       "</style>\n",
       "<table border=\"1\" class=\"dataframe\">\n",
       "  <thead>\n",
       "    <tr style=\"text-align: right;\">\n",
       "      <th></th>\n",
       "      <th>id</th>\n",
       "      <th>case_num</th>\n",
       "      <th>pn_num</th>\n",
       "      <th>feature_num</th>\n",
       "      <th>annotation</th>\n",
       "      <th>location</th>\n",
       "    </tr>\n",
       "  </thead>\n",
       "  <tbody>\n",
       "    <tr>\n",
       "      <th>0</th>\n",
       "      <td>00016_000</td>\n",
       "      <td>0</td>\n",
       "      <td>16</td>\n",
       "      <td>0</td>\n",
       "      <td>['dad with recent heart attcak']</td>\n",
       "      <td>['696 724']</td>\n",
       "    </tr>\n",
       "    <tr>\n",
       "      <th>1</th>\n",
       "      <td>00016_001</td>\n",
       "      <td>0</td>\n",
       "      <td>16</td>\n",
       "      <td>1</td>\n",
       "      <td>['mom with \"thyroid disease']</td>\n",
       "      <td>['668 693']</td>\n",
       "    </tr>\n",
       "    <tr>\n",
       "      <th>2</th>\n",
       "      <td>00016_002</td>\n",
       "      <td>0</td>\n",
       "      <td>16</td>\n",
       "      <td>2</td>\n",
       "      <td>['chest pressure']</td>\n",
       "      <td>['203 217']</td>\n",
       "    </tr>\n",
       "    <tr>\n",
       "      <th>3</th>\n",
       "      <td>00016_003</td>\n",
       "      <td>0</td>\n",
       "      <td>16</td>\n",
       "      <td>3</td>\n",
       "      <td>['intermittent episodes', 'episode']</td>\n",
       "      <td>['70 91', '176 183']</td>\n",
       "    </tr>\n",
       "    <tr>\n",
       "      <th>4</th>\n",
       "      <td>00016_004</td>\n",
       "      <td>0</td>\n",
       "      <td>16</td>\n",
       "      <td>4</td>\n",
       "      <td>['felt as if he were going to pass out']</td>\n",
       "      <td>['222 258']</td>\n",
       "    </tr>\n",
       "    <tr>\n",
       "      <th>...</th>\n",
       "      <td>...</td>\n",
       "      <td>...</td>\n",
       "      <td>...</td>\n",
       "      <td>...</td>\n",
       "      <td>...</td>\n",
       "      <td>...</td>\n",
       "    </tr>\n",
       "    <tr>\n",
       "      <th>14291</th>\n",
       "      <td>95333_908</td>\n",
       "      <td>9</td>\n",
       "      <td>95333</td>\n",
       "      <td>908</td>\n",
       "      <td>['Nausea']</td>\n",
       "      <td>['354 360']</td>\n",
       "    </tr>\n",
       "    <tr>\n",
       "      <th>14293</th>\n",
       "      <td>95333_910</td>\n",
       "      <td>9</td>\n",
       "      <td>95333</td>\n",
       "      <td>910</td>\n",
       "      <td>['lives with roomate']</td>\n",
       "      <td>['576 594']</td>\n",
       "    </tr>\n",
       "    <tr>\n",
       "      <th>14297</th>\n",
       "      <td>95333_914</td>\n",
       "      <td>9</td>\n",
       "      <td>95333</td>\n",
       "      <td>914</td>\n",
       "      <td>['photobia']</td>\n",
       "      <td>['274 282']</td>\n",
       "    </tr>\n",
       "    <tr>\n",
       "      <th>14298</th>\n",
       "      <td>95333_915</td>\n",
       "      <td>9</td>\n",
       "      <td>95333</td>\n",
       "      <td>915</td>\n",
       "      <td>['no sick contacts']</td>\n",
       "      <td>['421 437']</td>\n",
       "    </tr>\n",
       "    <tr>\n",
       "      <th>14299</th>\n",
       "      <td>95333_916</td>\n",
       "      <td>9</td>\n",
       "      <td>95333</td>\n",
       "      <td>916</td>\n",
       "      <td>['Subjective fever']</td>\n",
       "      <td>['314 330']</td>\n",
       "    </tr>\n",
       "  </tbody>\n",
       "</table>\n",
       "<p>9901 rows × 6 columns</p>\n",
       "</div>"
      ],
      "text/plain": [
       "              id  case_num  pn_num  feature_num  \\\n",
       "0      00016_000         0      16            0   \n",
       "1      00016_001         0      16            1   \n",
       "2      00016_002         0      16            2   \n",
       "3      00016_003         0      16            3   \n",
       "4      00016_004         0      16            4   \n",
       "...          ...       ...     ...          ...   \n",
       "14291  95333_908         9   95333          908   \n",
       "14293  95333_910         9   95333          910   \n",
       "14297  95333_914         9   95333          914   \n",
       "14298  95333_915         9   95333          915   \n",
       "14299  95333_916         9   95333          916   \n",
       "\n",
       "                                     annotation              location  \n",
       "0              ['dad with recent heart attcak']           ['696 724']  \n",
       "1                 ['mom with \"thyroid disease']           ['668 693']  \n",
       "2                            ['chest pressure']           ['203 217']  \n",
       "3          ['intermittent episodes', 'episode']  ['70 91', '176 183']  \n",
       "4      ['felt as if he were going to pass out']           ['222 258']  \n",
       "...                                         ...                   ...  \n",
       "14291                                ['Nausea']           ['354 360']  \n",
       "14293                    ['lives with roomate']           ['576 594']  \n",
       "14297                              ['photobia']           ['274 282']  \n",
       "14298                      ['no sick contacts']           ['421 437']  \n",
       "14299                      ['Subjective fever']           ['314 330']  \n",
       "\n",
       "[9901 rows x 6 columns]"
      ]
     },
     "execution_count": 16,
     "metadata": {},
     "output_type": "execute_result"
    }
   ],
   "source": [
    "train_data[train_data.annotation.str.len() > 2]"
   ]
  },
  {
   "cell_type": "code",
   "execution_count": 17,
   "id": "de82b3da",
   "metadata": {
    "execution": {
     "iopub.execute_input": "2022-03-29T11:10:45.834804Z",
     "iopub.status.busy": "2022-03-29T11:10:45.834103Z",
     "iopub.status.idle": "2022-03-29T11:10:45.876360Z",
     "shell.execute_reply": "2022-03-29T11:10:45.876888Z",
     "shell.execute_reply.started": "2022-03-29T11:01:21.576912Z"
    },
    "papermill": {
     "duration": 0.086054,
     "end_time": "2022-03-29T11:10:45.877076",
     "exception": false,
     "start_time": "2022-03-29T11:10:45.791022",
     "status": "completed"
    },
    "tags": []
   },
   "outputs": [
    {
     "data": {
      "text/html": [
       "<div>\n",
       "<style scoped>\n",
       "    .dataframe tbody tr th:only-of-type {\n",
       "        vertical-align: middle;\n",
       "    }\n",
       "\n",
       "    .dataframe tbody tr th {\n",
       "        vertical-align: top;\n",
       "    }\n",
       "\n",
       "    .dataframe thead th {\n",
       "        text-align: right;\n",
       "    }\n",
       "</style>\n",
       "<table border=\"1\" class=\"dataframe\">\n",
       "  <thead>\n",
       "    <tr style=\"text-align: right;\">\n",
       "      <th></th>\n",
       "      <th>id</th>\n",
       "      <th>case_num</th>\n",
       "      <th>pn_num</th>\n",
       "      <th>feature_num</th>\n",
       "      <th>annotation</th>\n",
       "      <th>location</th>\n",
       "      <th>pn_history</th>\n",
       "      <th>feature_text</th>\n",
       "    </tr>\n",
       "  </thead>\n",
       "  <tbody>\n",
       "    <tr>\n",
       "      <th>0</th>\n",
       "      <td>00016_004</td>\n",
       "      <td>0</td>\n",
       "      <td>16</td>\n",
       "      <td>4</td>\n",
       "      <td>['felt as if he were going to pass out']</td>\n",
       "      <td>['222 258']</td>\n",
       "      <td>HPI: 17yo M presents with palpitations. Patien...</td>\n",
       "      <td>Lightheaded</td>\n",
       "    </tr>\n",
       "  </tbody>\n",
       "</table>\n",
       "</div>"
      ],
      "text/plain": [
       "          id  case_num  pn_num  feature_num  \\\n",
       "0  00016_004         0      16            4   \n",
       "\n",
       "                                 annotation     location  \\\n",
       "0  ['felt as if he were going to pass out']  ['222 258']   \n",
       "\n",
       "                                          pn_history feature_text  \n",
       "0  HPI: 17yo M presents with palpitations. Patien...  Lightheaded  "
      ]
     },
     "execution_count": 17,
     "metadata": {},
     "output_type": "execute_result"
    }
   ],
   "source": [
    "example = pd.merge(pd.merge(train_data.query('id == \"00016_004\"'), patient_notes, on=['case_num', 'pn_num']),\n",
    "         features,\n",
    "         on=['feature_num', 'case_num']\n",
    "        )\n",
    "example"
   ]
  },
  {
   "cell_type": "code",
   "execution_count": 18,
   "id": "df2ba890",
   "metadata": {
    "execution": {
     "iopub.execute_input": "2022-03-29T11:10:45.961983Z",
     "iopub.status.busy": "2022-03-29T11:10:45.961269Z",
     "iopub.status.idle": "2022-03-29T11:10:45.965688Z",
     "shell.execute_reply": "2022-03-29T11:10:45.966211Z",
     "shell.execute_reply.started": "2022-03-29T11:01:21.620611Z"
    },
    "papermill": {
     "duration": 0.048219,
     "end_time": "2022-03-29T11:10:45.966376",
     "exception": false,
     "start_time": "2022-03-29T11:10:45.918157",
     "status": "completed"
    },
    "tags": []
   },
   "outputs": [],
   "source": [
    "def get_loc_ind(loc:str) -> list:\n",
    "    array = re.findall(r'\\[(.*?)\\]', loc)[0].replace(\"'\", \"\").split()\n",
    "    if array:\n",
    "        return list(map(int, array))\n",
    "    return 0, 0"
   ]
  },
  {
   "cell_type": "code",
   "execution_count": 19,
   "id": "604fa676",
   "metadata": {
    "execution": {
     "iopub.execute_input": "2022-03-29T11:10:46.056522Z",
     "iopub.status.busy": "2022-03-29T11:10:46.055870Z",
     "iopub.status.idle": "2022-03-29T11:10:46.057752Z",
     "shell.execute_reply": "2022-03-29T11:10:46.058471Z",
     "shell.execute_reply.started": "2022-03-29T11:01:21.626576Z"
    },
    "papermill": {
     "duration": 0.050687,
     "end_time": "2022-03-29T11:10:46.058656",
     "exception": false,
     "start_time": "2022-03-29T11:10:46.007969",
     "status": "completed"
    },
    "tags": []
   },
   "outputs": [],
   "source": [
    "strart_index, end_index = get_loc_ind(example['location'].values[0])"
   ]
  },
  {
   "cell_type": "code",
   "execution_count": 20,
   "id": "3dafc513",
   "metadata": {
    "execution": {
     "iopub.execute_input": "2022-03-29T11:10:46.146795Z",
     "iopub.status.busy": "2022-03-29T11:10:46.145941Z",
     "iopub.status.idle": "2022-03-29T11:10:46.151733Z",
     "shell.execute_reply": "2022-03-29T11:10:46.152317Z",
     "shell.execute_reply.started": "2022-03-29T11:01:21.644529Z"
    },
    "papermill": {
     "duration": 0.050764,
     "end_time": "2022-03-29T11:10:46.152494",
     "exception": false,
     "start_time": "2022-03-29T11:10:46.101730",
     "status": "completed"
    },
    "tags": []
   },
   "outputs": [
    {
     "data": {
      "text/plain": [
       "'felt as if he were going to pass out'"
      ]
     },
     "execution_count": 20,
     "metadata": {},
     "output_type": "execute_result"
    }
   ],
   "source": [
    "example.pn_history.values[0][strart_index : end_index]"
   ]
  },
  {
   "cell_type": "code",
   "execution_count": 21,
   "id": "abebcc8c",
   "metadata": {
    "execution": {
     "iopub.execute_input": "2022-03-29T11:10:46.248106Z",
     "iopub.status.busy": "2022-03-29T11:10:46.247236Z",
     "iopub.status.idle": "2022-03-29T11:10:46.251614Z",
     "shell.execute_reply": "2022-03-29T11:10:46.252142Z",
     "shell.execute_reply.started": "2022-03-29T11:01:21.658141Z"
    },
    "papermill": {
     "duration": 0.057751,
     "end_time": "2022-03-29T11:10:46.252331",
     "exception": false,
     "start_time": "2022-03-29T11:10:46.194580",
     "status": "completed"
    },
    "tags": []
   },
   "outputs": [
    {
     "data": {
      "text/plain": [
       "[]                                          50\n",
       "['lightheadedness']                         14\n",
       "['light headedness']                         8\n",
       "['lightheaded']                              8\n",
       "['light headed']                             3\n",
       "['light-headedness']                         2\n",
       "['lightheadness']                            2\n",
       "['felt like almost passed out']              1\n",
       "['felt that he was going to pass out']       1\n",
       "['presyncopal']                              1\n",
       "['LIGHTHEADEDNESS']                          1\n",
       "['dizziness']                                1\n",
       "['presyncope']                               1\n",
       "['felt as if he were going to pass out']     1\n",
       "['felt lightheaded']                         1\n",
       "['lighheadeness']                            1\n",
       "['felt like passing out']                    1\n",
       "['light-headed']                             1\n",
       "['thought he would passout']                 1\n",
       "['felt ike he was going to \"pass out\"']      1\n",
       "Name: annotation, dtype: int64"
      ]
     },
     "execution_count": 21,
     "metadata": {},
     "output_type": "execute_result"
    }
   ],
   "source": [
    "train_data.query('case_num == 0 & feature_num == 4')['annotation'].value_counts()"
   ]
  },
  {
   "cell_type": "markdown",
   "id": "a7faa3b0",
   "metadata": {
    "papermill": {
     "duration": 0.041488,
     "end_time": "2022-03-29T11:10:46.335961",
     "exception": false,
     "start_time": "2022-03-29T11:10:46.294473",
     "status": "completed"
    },
    "tags": []
   },
   "source": [
    "# Preprocessing"
   ]
  },
  {
   "cell_type": "code",
   "execution_count": 22,
   "id": "6cd57f83",
   "metadata": {
    "execution": {
     "iopub.execute_input": "2022-03-29T11:10:46.423427Z",
     "iopub.status.busy": "2022-03-29T11:10:46.422452Z",
     "iopub.status.idle": "2022-03-29T11:10:46.427601Z",
     "shell.execute_reply": "2022-03-29T11:10:46.428119Z",
     "shell.execute_reply.started": "2022-03-29T11:01:21.678973Z"
    },
    "papermill": {
     "duration": 0.050242,
     "end_time": "2022-03-29T11:10:46.428295",
     "exception": false,
     "start_time": "2022-03-29T11:10:46.378053",
     "status": "completed"
    },
    "tags": []
   },
   "outputs": [
    {
     "data": {
      "text/plain": [
       "\"['696 724']\""
      ]
     },
     "execution_count": 22,
     "metadata": {},
     "output_type": "execute_result"
    }
   ],
   "source": [
    "train_data.location[0]"
   ]
  },
  {
   "cell_type": "code",
   "execution_count": 23,
   "id": "f6b319db",
   "metadata": {
    "execution": {
     "iopub.execute_input": "2022-03-29T11:10:46.515314Z",
     "iopub.status.busy": "2022-03-29T11:10:46.514576Z",
     "iopub.status.idle": "2022-03-29T11:10:46.520538Z",
     "shell.execute_reply": "2022-03-29T11:10:46.519846Z",
     "shell.execute_reply.started": "2022-03-29T11:01:21.693899Z"
    },
    "papermill": {
     "duration": 0.050402,
     "end_time": "2022-03-29T11:10:46.520693",
     "exception": false,
     "start_time": "2022-03-29T11:10:46.470291",
     "status": "completed"
    },
    "tags": []
   },
   "outputs": [
    {
     "data": {
      "text/plain": [
       "\"['dad with recent heart attcak']\""
      ]
     },
     "execution_count": 23,
     "metadata": {},
     "output_type": "execute_result"
    }
   ],
   "source": [
    "train_data.annotation[0]"
   ]
  },
  {
   "cell_type": "code",
   "execution_count": 24,
   "id": "9aaef0ad",
   "metadata": {
    "execution": {
     "iopub.execute_input": "2022-03-29T11:10:46.608984Z",
     "iopub.status.busy": "2022-03-29T11:10:46.608282Z",
     "iopub.status.idle": "2022-03-29T11:10:47.051603Z",
     "shell.execute_reply": "2022-03-29T11:10:47.051072Z",
     "shell.execute_reply.started": "2022-03-29T11:01:21.707798Z"
    },
    "papermill": {
     "duration": 0.488576,
     "end_time": "2022-03-29T11:10:47.051780",
     "exception": false,
     "start_time": "2022-03-29T11:10:46.563204",
     "status": "completed"
    },
    "tags": []
   },
   "outputs": [
    {
     "data": {
      "text/plain": [
       "['696 724']"
      ]
     },
     "execution_count": 24,
     "metadata": {},
     "output_type": "execute_result"
    }
   ],
   "source": [
    "train_data['annotation'] = train_data.annotation.apply(literal_eval)\n",
    "train_data['location'] = train_data.location.apply(literal_eval)\n",
    "\n",
    "train_data.location[0]"
   ]
  },
  {
   "cell_type": "code",
   "execution_count": 25,
   "id": "d80472b5",
   "metadata": {
    "execution": {
     "iopub.execute_input": "2022-03-29T11:10:47.143939Z",
     "iopub.status.busy": "2022-03-29T11:10:47.143236Z",
     "iopub.status.idle": "2022-03-29T11:10:47.145783Z",
     "shell.execute_reply": "2022-03-29T11:10:47.146264Z",
     "shell.execute_reply.started": "2022-03-29T11:01:22.155802Z"
    },
    "papermill": {
     "duration": 0.051118,
     "end_time": "2022-03-29T11:10:47.146441",
     "exception": false,
     "start_time": "2022-03-29T11:10:47.095323",
     "status": "completed"
    },
    "tags": []
   },
   "outputs": [
    {
     "data": {
      "text/plain": [
       "['dad with recent heart attcak']"
      ]
     },
     "execution_count": 25,
     "metadata": {},
     "output_type": "execute_result"
    }
   ],
   "source": [
    "train_data.annotation[0]"
   ]
  },
  {
   "cell_type": "code",
   "execution_count": 26,
   "id": "3527890d",
   "metadata": {
    "execution": {
     "iopub.execute_input": "2022-03-29T11:10:47.237641Z",
     "iopub.status.busy": "2022-03-29T11:10:47.237001Z",
     "iopub.status.idle": "2022-03-29T11:10:47.279964Z",
     "shell.execute_reply": "2022-03-29T11:10:47.280728Z",
     "shell.execute_reply.started": "2022-03-29T11:01:22.162867Z"
    },
    "papermill": {
     "duration": 0.090874,
     "end_time": "2022-03-29T11:10:47.280928",
     "exception": false,
     "start_time": "2022-03-29T11:10:47.190054",
     "status": "completed"
    },
    "tags": []
   },
   "outputs": [
    {
     "name": "stdout",
     "output_type": "stream",
     "text": [
      "(14300, 8)\n"
     ]
    },
    {
     "data": {
      "text/html": [
       "<div>\n",
       "<style scoped>\n",
       "    .dataframe tbody tr th:only-of-type {\n",
       "        vertical-align: middle;\n",
       "    }\n",
       "\n",
       "    .dataframe tbody tr th {\n",
       "        vertical-align: top;\n",
       "    }\n",
       "\n",
       "    .dataframe thead th {\n",
       "        text-align: right;\n",
       "    }\n",
       "</style>\n",
       "<table border=\"1\" class=\"dataframe\">\n",
       "  <thead>\n",
       "    <tr style=\"text-align: right;\">\n",
       "      <th></th>\n",
       "      <th>id</th>\n",
       "      <th>case_num</th>\n",
       "      <th>pn_num</th>\n",
       "      <th>feature_num</th>\n",
       "      <th>annotation</th>\n",
       "      <th>location</th>\n",
       "      <th>pn_history</th>\n",
       "      <th>feature_text</th>\n",
       "    </tr>\n",
       "  </thead>\n",
       "  <tbody>\n",
       "    <tr>\n",
       "      <th>10945</th>\n",
       "      <td>81900_801</td>\n",
       "      <td>8</td>\n",
       "      <td>81900</td>\n",
       "      <td>801</td>\n",
       "      <td>[3WKS, STARTED AFTER SHE LOST HER SON]</td>\n",
       "      <td>[41 77]</td>\n",
       "      <td>HPI:67 YO F C/O DIFFICULTY IN SLEEPING X 3WKS,...</td>\n",
       "      <td>Son-died-3-weeks-ago</td>\n",
       "    </tr>\n",
       "    <tr>\n",
       "      <th>7338</th>\n",
       "      <td>52923_504</td>\n",
       "      <td>5</td>\n",
       "      <td>52923</td>\n",
       "      <td>504</td>\n",
       "      <td>[PALPITATION, PALPITATION, PALPITATION]</td>\n",
       "      <td>[13 24, 61 72, 120 131]</td>\n",
       "      <td>26 YO F WITH PALPITATION ,  THER IS NOO THING ...</td>\n",
       "      <td>Episodes-of-heart-racing</td>\n",
       "    </tr>\n",
       "    <tr>\n",
       "      <th>8402</th>\n",
       "      <td>50375_515</td>\n",
       "      <td>5</td>\n",
       "      <td>50375</td>\n",
       "      <td>515</td>\n",
       "      <td>[]</td>\n",
       "      <td>[]</td>\n",
       "      <td>Edie Whelan is a 26 year old female who presen...</td>\n",
       "      <td>Fatigue-OR-Difficulty-concentrating</td>\n",
       "    </tr>\n",
       "  </tbody>\n",
       "</table>\n",
       "</div>"
      ],
      "text/plain": [
       "              id  case_num  pn_num  feature_num  \\\n",
       "10945  81900_801         8   81900          801   \n",
       "7338   52923_504         5   52923          504   \n",
       "8402   50375_515         5   50375          515   \n",
       "\n",
       "                                    annotation                 location  \\\n",
       "10945   [3WKS, STARTED AFTER SHE LOST HER SON]                  [41 77]   \n",
       "7338   [PALPITATION, PALPITATION, PALPITATION]  [13 24, 61 72, 120 131]   \n",
       "8402                                        []                       []   \n",
       "\n",
       "                                              pn_history  \\\n",
       "10945  HPI:67 YO F C/O DIFFICULTY IN SLEEPING X 3WKS,...   \n",
       "7338   26 YO F WITH PALPITATION ,  THER IS NOO THING ...   \n",
       "8402   Edie Whelan is a 26 year old female who presen...   \n",
       "\n",
       "                              feature_text  \n",
       "10945                 Son-died-3-weeks-ago  \n",
       "7338              Episodes-of-heart-racing  \n",
       "8402   Fatigue-OR-Difficulty-concentrating  "
      ]
     },
     "execution_count": 26,
     "metadata": {},
     "output_type": "execute_result"
    }
   ],
   "source": [
    "train_merge = pd.merge(train_data.merge(patient_notes, on=['case_num', 'pn_num']),\n",
    "                                        features,\n",
    "                                        on=['feature_num', 'case_num']\n",
    "                                        )\n",
    "assert train_merge.shape[0] == train_data.shape[0]\n",
    "\n",
    "print(train_merge.shape)\n",
    "train_merge.sample(3)"
   ]
  },
  {
   "cell_type": "code",
   "execution_count": 27,
   "id": "0c287273",
   "metadata": {
    "execution": {
     "iopub.execute_input": "2022-03-29T11:10:47.374588Z",
     "iopub.status.busy": "2022-03-29T11:10:47.373578Z",
     "iopub.status.idle": "2022-03-29T11:10:47.416555Z",
     "shell.execute_reply": "2022-03-29T11:10:47.416008Z",
     "shell.execute_reply.started": "2022-03-29T11:01:22.207274Z"
    },
    "papermill": {
     "duration": 0.091892,
     "end_time": "2022-03-29T11:10:47.416725",
     "exception": false,
     "start_time": "2022-03-29T11:10:47.324833",
     "status": "completed"
    },
    "tags": []
   },
   "outputs": [
    {
     "data": {
      "text/html": [
       "<div>\n",
       "<style scoped>\n",
       "    .dataframe tbody tr th:only-of-type {\n",
       "        vertical-align: middle;\n",
       "    }\n",
       "\n",
       "    .dataframe tbody tr th {\n",
       "        vertical-align: top;\n",
       "    }\n",
       "\n",
       "    .dataframe thead th {\n",
       "        text-align: right;\n",
       "    }\n",
       "</style>\n",
       "<table border=\"1\" class=\"dataframe\">\n",
       "  <thead>\n",
       "    <tr style=\"text-align: right;\">\n",
       "      <th></th>\n",
       "      <th>id</th>\n",
       "      <th>case_num</th>\n",
       "      <th>pn_num</th>\n",
       "      <th>feature_num</th>\n",
       "      <th>annotation</th>\n",
       "      <th>location</th>\n",
       "      <th>pn_history</th>\n",
       "      <th>feature_text</th>\n",
       "    </tr>\n",
       "  </thead>\n",
       "  <tbody>\n",
       "    <tr>\n",
       "      <th>4852</th>\n",
       "      <td>34918_305</td>\n",
       "      <td>3</td>\n",
       "      <td>34918</td>\n",
       "      <td>305</td>\n",
       "      <td>[]</td>\n",
       "      <td>[]</td>\n",
       "      <td>35 y/o m complains of worsening epigastric pai...</td>\n",
       "      <td>post-prandial-bloating-or-fullness-with-meals</td>\n",
       "    </tr>\n",
       "    <tr>\n",
       "      <th>12898</th>\n",
       "      <td>95330_902</td>\n",
       "      <td>9</td>\n",
       "      <td>95330</td>\n",
       "      <td>902</td>\n",
       "      <td>[yesterday]</td>\n",
       "      <td>[183 192]</td>\n",
       "      <td>ms. madden is a 20 yo female presenting w/ the...</td>\n",
       "      <td>1-day-duration-or-2-days-duration</td>\n",
       "    </tr>\n",
       "    <tr>\n",
       "      <th>9828</th>\n",
       "      <td>60506_611</td>\n",
       "      <td>6</td>\n",
       "      <td>60506</td>\n",
       "      <td>611</td>\n",
       "      <td>[8/10]</td>\n",
       "      <td>[215 219]</td>\n",
       "      <td>a 17-year-old male, has come to the outpatient...</td>\n",
       "      <td>sharp-or-stabbing-or-7-to-8-out-of-10-on-pain-...</td>\n",
       "    </tr>\n",
       "  </tbody>\n",
       "</table>\n",
       "</div>"
      ],
      "text/plain": [
       "              id  case_num  pn_num  feature_num   annotation   location  \\\n",
       "4852   34918_305         3   34918          305           []         []   \n",
       "12898  95330_902         9   95330          902  [yesterday]  [183 192]   \n",
       "9828   60506_611         6   60506          611       [8/10]  [215 219]   \n",
       "\n",
       "                                              pn_history  \\\n",
       "4852   35 y/o m complains of worsening epigastric pai...   \n",
       "12898  ms. madden is a 20 yo female presenting w/ the...   \n",
       "9828   a 17-year-old male, has come to the outpatient...   \n",
       "\n",
       "                                            feature_text  \n",
       "4852       post-prandial-bloating-or-fullness-with-meals  \n",
       "12898                  1-day-duration-or-2-days-duration  \n",
       "9828   sharp-or-stabbing-or-7-to-8-out-of-10-on-pain-...  "
      ]
     },
     "execution_count": 27,
     "metadata": {},
     "output_type": "execute_result"
    }
   ],
   "source": [
    "train_merge[\"feature_text\"] = train_merge[\"feature_text\"].apply(lambda x: x.lower())\n",
    "train_merge[\"pn_history\"] = train_merge[\"pn_history\"].apply(lambda x: x.lower())\n",
    "train_merge.sample(3)"
   ]
  },
  {
   "cell_type": "code",
   "execution_count": 28,
   "id": "2b2c2100",
   "metadata": {
    "execution": {
     "iopub.execute_input": "2022-03-29T11:10:47.518059Z",
     "iopub.status.busy": "2022-03-29T11:10:47.517280Z",
     "iopub.status.idle": "2022-03-29T11:10:47.523850Z",
     "shell.execute_reply": "2022-03-29T11:10:47.524481Z",
     "shell.execute_reply.started": "2022-03-29T11:01:22.25111Z"
    },
    "papermill": {
     "duration": 0.056009,
     "end_time": "2022-03-29T11:10:47.524674",
     "exception": false,
     "start_time": "2022-03-29T11:10:47.468665",
     "status": "completed"
    },
    "tags": []
   },
   "outputs": [],
   "source": [
    "def prepare_input(tokenizer, text, feature_text):\n",
    "    inputs = tokenizer(text, feature_text, \n",
    "                        max_length=416,\n",
    "                        padding=\"max_length\")\n",
    "    for k, v in inputs.items():\n",
    "        inputs[k] = torch.tensor(v, dtype=torch.long)\n",
    "    return inputs"
   ]
  },
  {
   "cell_type": "markdown",
   "id": "6ab15221",
   "metadata": {
    "papermill": {
     "duration": 0.045298,
     "end_time": "2022-03-29T11:10:47.614959",
     "exception": false,
     "start_time": "2022-03-29T11:10:47.569661",
     "status": "completed"
    },
    "tags": []
   },
   "source": [
    "# Feature Words"
   ]
  },
  {
   "cell_type": "code",
   "execution_count": 29,
   "id": "a45a976c",
   "metadata": {
    "execution": {
     "iopub.execute_input": "2022-03-29T11:10:47.722315Z",
     "iopub.status.busy": "2022-03-29T11:10:47.716365Z",
     "iopub.status.idle": "2022-03-29T11:10:47.725640Z",
     "shell.execute_reply": "2022-03-29T11:10:47.726199Z",
     "shell.execute_reply.started": "2022-03-29T11:01:22.256941Z"
    },
    "papermill": {
     "duration": 0.066762,
     "end_time": "2022-03-29T11:10:47.726375",
     "exception": false,
     "start_time": "2022-03-29T11:10:47.659613",
     "status": "completed"
    },
    "tags": []
   },
   "outputs": [
    {
     "data": {
      "text/plain": [
       "271"
      ]
     },
     "execution_count": 29,
     "metadata": {},
     "output_type": "execute_result"
    }
   ],
   "source": [
    "feature_set = set()\n",
    "for n, row in features.iterrows():\n",
    "    tmp_set = set(row['feature_text'].split('-'))\n",
    "    feature_set = feature_set | tmp_set\n",
    "    \n",
    "feature_set = {item.lower() for item in feature_set}\n",
    "len(feature_set)"
   ]
  },
  {
   "cell_type": "markdown",
   "id": "93f6b66c",
   "metadata": {
    "papermill": {
     "duration": 0.044306,
     "end_time": "2022-03-29T11:10:47.815188",
     "exception": false,
     "start_time": "2022-03-29T11:10:47.770882",
     "status": "completed"
    },
    "tags": []
   },
   "source": [
    "# Tokenizer\n",
    "* ## Bert\n",
    "* ## RoBerta_Large\n",
    "* ## PubMedBert"
   ]
  },
  {
   "cell_type": "code",
   "execution_count": 30,
   "id": "1a86a3bc",
   "metadata": {
    "execution": {
     "iopub.execute_input": "2022-03-29T11:10:47.912733Z",
     "iopub.status.busy": "2022-03-29T11:10:47.911801Z",
     "iopub.status.idle": "2022-03-29T11:10:47.914787Z",
     "shell.execute_reply": "2022-03-29T11:10:47.914225Z",
     "shell.execute_reply.started": "2022-03-29T11:01:22.280626Z"
    },
    "papermill": {
     "duration": 0.053057,
     "end_time": "2022-03-29T11:10:47.914935",
     "exception": false,
     "start_time": "2022-03-29T11:10:47.861878",
     "status": "completed"
    },
    "tags": []
   },
   "outputs": [],
   "source": [
    "tokenizers = [\"bert-base-uncased\",\n",
    "              'roberta-large',\n",
    "              \"microsoft/BiomedNLP-PubMedBERT-base-uncased-abstract\"]"
   ]
  },
  {
   "cell_type": "code",
   "execution_count": 31,
   "id": "871c30a4",
   "metadata": {
    "execution": {
     "iopub.execute_input": "2022-03-29T11:10:48.013644Z",
     "iopub.status.busy": "2022-03-29T11:10:48.012543Z",
     "iopub.status.idle": "2022-03-29T11:10:48.014833Z",
     "shell.execute_reply": "2022-03-29T11:10:48.015291Z",
     "shell.execute_reply.started": "2022-03-29T11:01:22.285624Z"
    },
    "papermill": {
     "duration": 0.0545,
     "end_time": "2022-03-29T11:10:48.015533",
     "exception": false,
     "start_time": "2022-03-29T11:10:47.961033",
     "status": "completed"
    },
    "tags": []
   },
   "outputs": [],
   "source": [
    "def token(tokenizer, feature_set):\n",
    "    tokenizer = AutoTokenizer.from_pretrained(tokenizer)\n",
    "    \n",
    "    voc_size_model = tokenizer.vocab_size\n",
    "    print(voc_size_model)\n",
    "    \n",
    "    voc = np.array(list(tokenizer.get_vocab().keys()))\n",
    "    voc = set(voc)\n",
    "    voc = {item.lower() for item in voc}\n",
    "    \n",
    "    diff = feature_set - voc\n",
    "    print(len(diff))\n",
    "    \n",
    "    return voc_size_model, voc, len(diff)"
   ]
  },
  {
   "cell_type": "markdown",
   "id": "295e73ed",
   "metadata": {
    "papermill": {
     "duration": 0.044982,
     "end_time": "2022-03-29T11:10:48.105328",
     "exception": false,
     "start_time": "2022-03-29T11:10:48.060346",
     "status": "completed"
    },
    "tags": []
   },
   "source": [
    "# Compare"
   ]
  },
  {
   "cell_type": "code",
   "execution_count": 32,
   "id": "d09e335c",
   "metadata": {
    "execution": {
     "iopub.execute_input": "2022-03-29T11:10:48.199049Z",
     "iopub.status.busy": "2022-03-29T11:10:48.198368Z",
     "iopub.status.idle": "2022-03-29T11:11:31.813049Z",
     "shell.execute_reply": "2022-03-29T11:11:31.812476Z",
     "shell.execute_reply.started": "2022-03-29T11:01:22.298981Z"
    },
    "papermill": {
     "duration": 43.662243,
     "end_time": "2022-03-29T11:11:31.813203",
     "exception": false,
     "start_time": "2022-03-29T11:10:48.150960",
     "status": "completed"
    },
    "tags": []
   },
   "outputs": [
    {
     "name": "stderr",
     "output_type": "stream",
     "text": [
      "  0%|          | 0/3 [00:00<?, ?it/s]"
     ]
    },
    {
     "data": {
      "application/vnd.jupyter.widget-view+json": {
       "model_id": "719087aea1eb4e1f9e9ac0f8b756988a",
       "version_major": 2,
       "version_minor": 0
      },
      "text/plain": [
       "Downloading:   0%|          | 0.00/28.0 [00:00<?, ?B/s]"
      ]
     },
     "metadata": {},
     "output_type": "display_data"
    },
    {
     "data": {
      "application/vnd.jupyter.widget-view+json": {
       "model_id": "e0b7976572f6407cb1b3c47110e3fc2f",
       "version_major": 2,
       "version_minor": 0
      },
      "text/plain": [
       "Downloading:   0%|          | 0.00/570 [00:00<?, ?B/s]"
      ]
     },
     "metadata": {},
     "output_type": "display_data"
    },
    {
     "data": {
      "application/vnd.jupyter.widget-view+json": {
       "model_id": "d97fc17ddf4a42e8965b68fb48637ac6",
       "version_major": 2,
       "version_minor": 0
      },
      "text/plain": [
       "Downloading:   0%|          | 0.00/226k [00:00<?, ?B/s]"
      ]
     },
     "metadata": {},
     "output_type": "display_data"
    },
    {
     "data": {
      "application/vnd.jupyter.widget-view+json": {
       "model_id": "0724c89e7cb84135adef9522bffe1d5b",
       "version_major": 2,
       "version_minor": 0
      },
      "text/plain": [
       "Downloading:   0%|          | 0.00/455k [00:00<?, ?B/s]"
      ]
     },
     "metadata": {},
     "output_type": "display_data"
    },
    {
     "name": "stderr",
     "output_type": "stream",
     "text": [
      " 33%|███▎      | 1/3 [00:13<00:27, 13.98s/it]"
     ]
    },
    {
     "name": "stdout",
     "output_type": "stream",
     "text": [
      "30522\n",
      "61\n"
     ]
    },
    {
     "data": {
      "application/vnd.jupyter.widget-view+json": {
       "model_id": "2f59cd6550ba452987e57eef695ebf13",
       "version_major": 2,
       "version_minor": 0
      },
      "text/plain": [
       "Downloading:   0%|          | 0.00/482 [00:00<?, ?B/s]"
      ]
     },
     "metadata": {},
     "output_type": "display_data"
    },
    {
     "data": {
      "application/vnd.jupyter.widget-view+json": {
       "model_id": "42302989b2f04a5a8404754f1ec1fc95",
       "version_major": 2,
       "version_minor": 0
      },
      "text/plain": [
       "Downloading:   0%|          | 0.00/878k [00:00<?, ?B/s]"
      ]
     },
     "metadata": {},
     "output_type": "display_data"
    },
    {
     "data": {
      "application/vnd.jupyter.widget-view+json": {
       "model_id": "85fc359bda2147d3a314124dc294ac05",
       "version_major": 2,
       "version_minor": 0
      },
      "text/plain": [
       "Downloading:   0%|          | 0.00/446k [00:00<?, ?B/s]"
      ]
     },
     "metadata": {},
     "output_type": "display_data"
    },
    {
     "data": {
      "application/vnd.jupyter.widget-view+json": {
       "model_id": "0394b8bd1e2d43319dbc94524f518096",
       "version_major": 2,
       "version_minor": 0
      },
      "text/plain": [
       "Downloading:   0%|          | 0.00/1.29M [00:00<?, ?B/s]"
      ]
     },
     "metadata": {},
     "output_type": "display_data"
    },
    {
     "name": "stderr",
     "output_type": "stream",
     "text": [
      " 67%|██████▋   | 2/3 [00:30<00:15, 15.48s/it]"
     ]
    },
    {
     "name": "stdout",
     "output_type": "stream",
     "text": [
      "50265\n",
      "147\n"
     ]
    },
    {
     "data": {
      "application/vnd.jupyter.widget-view+json": {
       "model_id": "44aeda5831f7439aaf24add1ab7c946c",
       "version_major": 2,
       "version_minor": 0
      },
      "text/plain": [
       "Downloading:   0%|          | 0.00/28.0 [00:00<?, ?B/s]"
      ]
     },
     "metadata": {},
     "output_type": "display_data"
    },
    {
     "data": {
      "application/vnd.jupyter.widget-view+json": {
       "model_id": "61a036e56a97444d8be5294c744ad208",
       "version_major": 2,
       "version_minor": 0
      },
      "text/plain": [
       "Downloading:   0%|          | 0.00/385 [00:00<?, ?B/s]"
      ]
     },
     "metadata": {},
     "output_type": "display_data"
    },
    {
     "data": {
      "application/vnd.jupyter.widget-view+json": {
       "model_id": "fe3242ec857c4c51b77bbd4da7da72c6",
       "version_major": 2,
       "version_minor": 0
      },
      "text/plain": [
       "Downloading:   0%|          | 0.00/220k [00:00<?, ?B/s]"
      ]
     },
     "metadata": {},
     "output_type": "display_data"
    },
    {
     "name": "stderr",
     "output_type": "stream",
     "text": [
      "100%|██████████| 3/3 [00:43<00:00, 14.53s/it]"
     ]
    },
    {
     "name": "stdout",
     "output_type": "stream",
     "text": [
      "28895\n",
      "47\n"
     ]
    },
    {
     "name": "stderr",
     "output_type": "stream",
     "text": [
      "\n"
     ]
    }
   ],
   "source": [
    "res = []\n",
    "for tok in tqdm(tokenizers):\n",
    "    res.append(token(tok,feature_set))\n",
    "\n",
    "assert len(res) == len(tokenizers)"
   ]
  },
  {
   "cell_type": "code",
   "execution_count": 33,
   "id": "b6286c6a",
   "metadata": {
    "execution": {
     "iopub.execute_input": "2022-03-29T11:11:31.928291Z",
     "iopub.status.busy": "2022-03-29T11:11:31.927522Z",
     "iopub.status.idle": "2022-03-29T11:11:31.932833Z",
     "shell.execute_reply": "2022-03-29T11:11:31.933385Z",
     "shell.execute_reply.started": "2022-03-29T11:01:38.910016Z"
    },
    "papermill": {
     "duration": 0.065124,
     "end_time": "2022-03-29T11:11:31.933566",
     "exception": false,
     "start_time": "2022-03-29T11:11:31.868442",
     "status": "completed"
    },
    "tags": []
   },
   "outputs": [],
   "source": [
    "voc_size_berta, voc_size_roberta, voc_size_pubmedbert = res[0][0], res[1][0], res[2][0]\n",
    "\n",
    "undetected = np.array([res[0][-1], res[1][-1], res[2][-1]]) / len(feature_set) * 100"
   ]
  },
  {
   "cell_type": "code",
   "execution_count": 34,
   "id": "cf45883c",
   "metadata": {
    "execution": {
     "iopub.execute_input": "2022-03-29T11:11:32.047962Z",
     "iopub.status.busy": "2022-03-29T11:11:32.047182Z",
     "iopub.status.idle": "2022-03-29T11:11:32.402655Z",
     "shell.execute_reply": "2022-03-29T11:11:32.401994Z",
     "shell.execute_reply.started": "2022-03-29T11:01:38.92563Z"
    },
    "papermill": {
     "duration": 0.414534,
     "end_time": "2022-03-29T11:11:32.402855",
     "exception": false,
     "start_time": "2022-03-29T11:11:31.988321",
     "status": "completed"
    },
    "tags": []
   },
   "outputs": [
    {
     "data": {
      "image/png": "[encoded data removed]",
      "text/plain": [
       "<Figure size 864x432 with 2 Axes>"
      ]
     },
     "metadata": {
      "needs_background": "light"
     },
     "output_type": "display_data"
    }
   ],
   "source": [
    "fig, axes = plt.subplots(ncols=2, figsize=(12, 6))\n",
    "labels = ['Bert', 'RoBerta_Large', 'PubMedBert']\n",
    "\n",
    "axes[0].bar([1,2,3], [voc_size_berta, voc_size_roberta, voc_size_pubmedbert],\n",
    "           tick_label=labels, color=['#E7B8B9', '#BBDCC2', '#B7C6DF'])\n",
    "axes[0].set_ylabel('vocabulary size', fontsize=15)\n",
    "axes[0].set_title('Vocabulary size among 3 tokenizers', fontsize=15, fontweight='bold')\n",
    "axes[0].tick_params(axis='x', labelsize=15)\n",
    "axes[1].bar([1,2,3], 100 - undetected, tick_label=labels, color=['#E7B8B9', '#BBDCC2', '#B7C6DF'])\n",
    "axes[1].set_ylabel('detected feature words (%)', fontsize=15)\n",
    "axes[1].set_title('Detected feature words among 3 tokenizers', fontsize=15, fontweight='bold')\n",
    "axes[1].tick_params(axis='x', labelsize=15)\n",
    "fig.tight_layout()\n",
    "plt.show()"
   ]
  },
  {
   "cell_type": "code",
   "execution_count": 35,
   "id": "941f095e",
   "metadata": {
    "execution": {
     "iopub.execute_input": "2022-03-29T11:11:32.567817Z",
     "iopub.status.busy": "2022-03-29T11:11:32.562396Z",
     "iopub.status.idle": "2022-03-29T11:11:32.758218Z",
     "shell.execute_reply": "2022-03-29T11:11:32.759235Z",
     "shell.execute_reply.started": "2022-03-29T11:01:39.26333Z"
    },
    "papermill": {
     "duration": 0.298827,
     "end_time": "2022-03-29T11:11:32.759566",
     "exception": false,
     "start_time": "2022-03-29T11:11:32.460739",
     "status": "completed"
    },
    "tags": []
   },
   "outputs": [
    {
     "data": {
      "image/png": "[encoded data removed]",
      "text/plain": [
       "<Figure size 432x432 with 1 Axes>"
      ]
     },
     "metadata": {},
     "output_type": "display_data"
    }
   ],
   "source": [
    "fig = plt.figure(figsize=(6,6))\n",
    "ax = fig.add_subplot()\n",
    "\n",
    "labels = ['Bert', 'RoBerta_Large', 'PubMedBert']\n",
    "\n",
    "venn3([res[0][1], res[1][1], res[2][1]], set_labels=labels, ax=ax)\n",
    "fig.tight_layout()\n",
    "plt.show()"
   ]
  },
  {
   "cell_type": "markdown",
   "id": "c0e88ceb",
   "metadata": {
    "papermill": {
     "duration": 0.059174,
     "end_time": "2022-03-29T11:11:32.902986",
     "exception": false,
     "start_time": "2022-03-29T11:11:32.843812",
     "status": "completed"
    },
    "tags": []
   },
   "source": [
    "# Conclusion\n",
    "* PubMedBert has the least vocabularies, but detects the most technical terms;\n",
    "* PubMedBert can be much effective to biomedical notes because of having much technical terms;\n",
    "* But since PubMedBert has less vocabularies, it can be poor at catching the whole text meanings."
   ]
  }
 ],
 "metadata": {
  "kernelspec": {
   "display_name": "Python 3",
   "language": "python",
   "name": "python3"
  },
  "language_info": {
   "codemirror_mode": {
    "name": "ipython",
    "version": 3
   },
   "file_extension": ".py",
   "mimetype": "text/x-python",
   "name": "python",
   "nbconvert_exporter": "python",
   "pygments_lexer": "ipython3",
   "version": "3.7.12"
  },
  "papermill": {
   "default_parameters": {},
   "duration": 73.780759,
   "end_time": "2022-03-29T11:11:35.688846",
   "environment_variables": {},
   "exception": null,
   "input_path": "__notebook__.ipynb",
   "output_path": "__notebook__.ipynb",
   "parameters": {},
   "start_time": "2022-03-29T11:10:21.908087",
   "version": "2.3.3"
  },
  "widgets": {
   "application/vnd.jupyter.widget-state+json": {
    "state": {
     "0000618b86f74bae9e7d46e2797a80ba": {
      "model_module": "@jupyter-widgets/controls",
      "model_module_version": "1.5.0",
      "model_name": "DescriptionStyleModel",
      "state": {
       "_model_module": "@jupyter-widgets/controls",
       "_model_module_version": "1.5.0",
       "_model_name": "DescriptionStyleModel",
       "_view_count": null,
       "_view_module": "@jupyter-widgets/base",
       "_view_module_version": "1.2.0",
       "_view_name": "StyleView",
       "description_width": ""
      }
     },
     "00d028d7b5644e989d37307ec96a801b": {
      "model_module": "@jupyter-widgets/base",
      "model_module_version": "1.2.0",
      "model_name": "LayoutModel",
      "state": {
       "_model_module": "@jupyter-widgets/base",
       "_model_module_version": "1.2.0",
       "_model_name": "LayoutModel",
       "_view_count": null,
       "_view_module": "@jupyter-widgets/base",
       "_view_module_version": "1.2.0",
       "_view_name": "LayoutView",
       "align_content": null,
       "align_items": null,
       "align_self": null,
       "border": null,
       "bottom": null,
       "display": null,
       "flex": null,
       "flex_flow": null,
       "grid_area": null,
       "grid_auto_columns": null,
       "grid_auto_flow": null,
       "grid_auto_rows": null,
       "grid_column": null,
       "grid_gap": null,
       "grid_row": null,
       "grid_template_areas": null,
       "grid_template_columns": null,
       "grid_template_rows": null,
       "height": null,
       "justify_content": null,
       "justify_items": null,
       "left": null,
       "margin": null,
       "max_height": null,
       "max_width": null,
       "min_height": null,
       "min_width": null,
       "object_fit": null,
       "object_position": null,
       "order": null,
       "overflow": null,
       "overflow_x": null,
       "overflow_y": null,
       "padding": null,
       "right": null,
       "top": null,
       "visibility": null,
       "width": null
      }
     },
     "0394b8bd1e2d43319dbc94524f518096": {
      "model_module": "@jupyter-widgets/controls",
      "model_module_version": "1.5.0",
      "model_name": "HBoxModel",
      "state": {
       "_dom_classes": [],
       "_model_module": "@jupyter-widgets/controls",
       "_model_module_version": "1.5.0",
       "_model_name": "HBoxModel",
       "_view_count": null,
       "_view_module": "@jupyter-widgets/controls",
       "_view_module_version": "1.5.0",
       "_view_name": "HBoxView",
       "box_style": "",
       "children": [
        "IPY_MODEL_8cfbf307d13940009b2645fa21b17d34",
        "IPY_MODEL_44a7700c729b45389cd781b14ab1fbd1",
        "IPY_MODEL_1bfab8ed68044b0cbf32dc6c1c6d3971"
       ],
       "layout": "IPY_MODEL_7a6cc9d869ad4799a83720eb3c992707"
      }
     },
     "061beec8a4fa40fdb47f660b0e245317": {
      "model_module": "@jupyter-widgets/base",
      "model_module_version": "1.2.0",
      "model_name": "LayoutModel",
      "state": {
       "_model_module": "@jupyter-widgets/base",
       "_model_module_version": "1.2.0",
       "_model_name": "LayoutModel",
       "_view_count": null,
       "_view_module": "@jupyter-widgets/base",
       "_view_module_version": "1.2.0",
       "_view_name": "LayoutView",
       "align_content": null,
       "align_items": null,
       "align_self": null,
       "border": null,
       "bottom": null,
       "display": null,
       "flex": null,
       "flex_flow": null,
       "grid_area": null,
       "grid_auto_columns": null,
       "grid_auto_flow": null,
       "grid_auto_rows": null,
       "grid_column": null,
       "grid_gap": null,
       "grid_row": null,
       "grid_template_areas": null,
       "grid_template_columns": null,
       "grid_template_rows": null,
       "height": null,
       "justify_content": null,
       "justify_items": null,
       "left": null,
       "margin": null,
       "max_height": null,
       "max_width": null,
       "min_height": null,
       "min_width": null,
       "object_fit": null,
       "object_position": null,
       "order": null,
       "overflow": null,
       "overflow_x": null,
       "overflow_y": null,
       "padding": null,
       "right": null,
       "top": null,
       "visibility": null,
       "width": null
      }
     },
     "06ad2ee02cdd4a2e999dc11a0530de28": {
      "model_module": "@jupyter-widgets/base",
      "model_module_version": "1.2.0",
      "model_name": "LayoutModel",
      "state": {
       "_model_module": "@jupyter-widgets/base",
       "_model_module_version": "1.2.0",
       "_model_name": "LayoutModel",
       "_view_count": null,
       "_view_module": "@jupyter-widgets/base",
       "_view_module_version": "1.2.0",
       "_view_name": "LayoutView",
       "align_content": null,
       "align_items": null,
       "align_self": null,
       "border": null,
       "bottom": null,
       "display": null,
       "flex": null,
       "flex_flow": null,
       "grid_area": null,
       "grid_auto_columns": null,
       "grid_auto_flow": null,
       "grid_auto_rows": null,
       "grid_column": null,
       "grid_gap": null,
       "grid_row": null,
       "grid_template_areas": null,
       "grid_template_columns": null,
       "grid_template_rows": null,
       "height": null,
       "justify_content": null,
       "justify_items": null,
       "left": null,
       "margin": null,
       "max_height": null,
       "max_width": null,
       "min_height": null,
       "min_width": null,
       "object_fit": null,
       "object_position": null,
       "order": null,
       "overflow": null,
       "overflow_x": null,
       "overflow_y": null,
       "padding": null,
       "right": null,
       "top": null,
       "visibility": null,
       "width": null
      }
     },
     "0724c89e7cb84135adef9522bffe1d5b": {
      "model_module": "@jupyter-widgets/controls",
      "model_module_version": "1.5.0",
      "model_name": "HBoxModel",
      "state": {
       "_dom_classes": [],
       "_model_module": "@jupyter-widgets/controls",
       "_model_module_version": "1.5.0",
       "_model_name": "HBoxModel",
       "_view_count": null,
       "_view_module": "@jupyter-widgets/controls",
       "_view_module_version": "1.5.0",
       "_view_name": "HBoxView",
       "box_style": "",
       "children": [
        "IPY_MODEL_a5aa6980c8d44b9da23620c52d2142e2",
        "IPY_MODEL_330f3f889e1d41feaa6d6d0cd34e05b1",
        "IPY_MODEL_cbada0a264704f21a164ca3a4c201ef1"
       ],
       "layout": "IPY_MODEL_e8ea5f48e11a4701b54b2831a7ab4048"
      }
     },
     "083d6854dd2f489881fd2a62b6523370": {
      "model_module": "@jupyter-widgets/controls",
      "model_module_version": "1.5.0",
      "model_name": "DescriptionStyleModel",
      "state": {
       "_model_module": "@jupyter-widgets/controls",
       "_model_module_version": "1.5.0",
       "_model_name": "DescriptionStyleModel",
       "_view_count": null,
       "_view_module": "@jupyter-widgets/base",
       "_view_module_version": "1.2.0",
       "_view_name": "StyleView",
       "description_width": ""
      }
     },
     "0d8a0faba3fe41e5bac5c0b2ffd82528": {
      "model_module": "@jupyter-widgets/controls",
      "model_module_version": "1.5.0",
      "model_name": "ProgressStyleModel",
      "state": {
       "_model_module": "@jupyter-widgets/controls",
       "_model_module_version": "1.5.0",
       "_model_name": "ProgressStyleModel",
       "_view_count": null,
       "_view_module": "@jupyter-widgets/base",
       "_view_module_version": "1.2.0",
       "_view_name": "StyleView",
       "bar_color": null,
       "description_width": ""
      }
     },
     "11b1cfbccfac4e81a14dcfa301df536b": {
      "model_module": "@jupyter-widgets/controls",
      "model_module_version": "1.5.0",
      "model_name": "FloatProgressModel",
      "state": {
       "_dom_classes": [],
       "_model_module": "@jupyter-widgets/controls",
       "_model_module_version": "1.5.0",
       "_model_name": "FloatProgressModel",
       "_view_count": null,
       "_view_module": "@jupyter-widgets/controls",
       "_view_module_version": "1.5.0",
       "_view_name": "ProgressView",
       "bar_style": "success",
       "description": "",
       "description_tooltip": null,
       "layout": "IPY_MODEL_5b0132bdff6a4a2d8c7acc2cfd51e251",
       "max": 898823.0,
       "min": 0.0,
       "orientation": "horizontal",
       "style": "IPY_MODEL_0d8a0faba3fe41e5bac5c0b2ffd82528",
       "value": 898823.0
      }
     },
     "19943c202c5847db860fca87914c83b1": {
      "model_module": "@jupyter-widgets/controls",
      "model_module_version": "1.5.0",
      "model_name": "FloatProgressModel",
      "state": {
       "_dom_classes": [],
       "_model_module": "@jupyter-widgets/controls",
       "_model_module_version": "1.5.0",
       "_model_name": "FloatProgressModel",
       "_view_count": null,
       "_view_module": "@jupyter-widgets/controls",
       "_view_module_version": "1.5.0",
       "_view_name": "ProgressView",
       "bar_style": "success",
       "description": "",
       "description_tooltip": null,
       "layout": "IPY_MODEL_2f4801a8c1b04c05b104a3417346277d",
       "max": 225062.0,
       "min": 0.0,
       "orientation": "horizontal",
       "style": "IPY_MODEL_b4399b60cb284d91bbead5fe2c20341a",
       "value": 225062.0
      }
     },
     "1bd2c95034d84da292cac00f26d75a59": {
      "model_module": "@jupyter-widgets/controls",
      "model_module_version": "1.5.0",
      "model_name": "HTMLModel",
      "state": {
       "_dom_classes": [],
       "_model_module": "@jupyter-widgets/controls",
       "_model_module_version": "1.5.0",
       "_model_name": "HTMLModel",
       "_view_count": null,
       "_view_module": "@jupyter-widgets/controls",
       "_view_module_version": "1.5.0",
       "_view_name": "HTMLView",
       "description": "",
       "description_tooltip": null,
       "layout": "IPY_MODEL_b3c8b9e4d00544c09d00072282120c72",
       "placeholder": "​",
       "style": "IPY_MODEL_4019fa5c8c6a44819748689a5af78d83",
       "value": "Downloading: 100%"
      }
     },
     "1bfab8ed68044b0cbf32dc6c1c6d3971": {
      "model_module": "@jupyter-widgets/controls",
      "model_module_version": "1.5.0",
      "model_name": "HTMLModel",
      "state": {
       "_dom_classes": [],
       "_model_module": "@jupyter-widgets/controls",
       "_model_module_version": "1.5.0",
       "_model_name": "HTMLModel",
       "_view_count": null,
       "_view_module": "@jupyter-widgets/controls",
       "_view_module_version": "1.5.0",
       "_view_name": "HTMLView",
       "description": "",
       "description_tooltip": null,
       "layout": "IPY_MODEL_c0ab119ccb3d4d33942967e1d9d0c29a",
       "placeholder": "​",
       "style": "IPY_MODEL_b407a5d5892a46118c54c30e32fd390c",
       "value": " 1.29M/1.29M [00:01&lt;00:00, 1.29MB/s]"
      }
     },
     "1e8fdaa7b15745ffadd690f7ab2a8db5": {
      "model_module": "@jupyter-widgets/controls",
      "model_module_version": "1.5.0",
      "model_name": "HTMLModel",
      "state": {
       "_dom_classes": [],
       "_model_module": "@jupyter-widgets/controls",
       "_model_module_version": "1.5.0",
       "_model_name": "HTMLModel",
       "_view_count": null,
       "_view_module": "@jupyter-widgets/controls",
       "_view_module_version": "1.5.0",
       "_view_name": "HTMLView",
       "description": "",
       "description_tooltip": null,
       "layout": "IPY_MODEL_e54451fe64c543288bd918cb35fdc506",
       "placeholder": "​",
       "style": "IPY_MODEL_607c628e04004de5b7e0dd646f08d0f5",
       "value": "Downloading: 100%"
      }
     },
     "1ef14a5e78254e5aa7b2778b23969f0e": {
      "model_module": "@jupyter-widgets/controls",
      "model_module_version": "1.5.0",
      "model_name": "HTMLModel",
      "state": {
       "_dom_classes": [],
       "_model_module": "@jupyter-widgets/controls",
       "_model_module_version": "1.5.0",
       "_model_name": "HTMLModel",
       "_view_count": null,
       "_view_module": "@jupyter-widgets/controls",
       "_view_module_version": "1.5.0",
       "_view_name": "HTMLView",
       "description": "",
       "description_tooltip": null,
       "layout": "IPY_MODEL_4e0d495aae914326b154012c69f45faf",
       "placeholder": "​",
       "style": "IPY_MODEL_e8d75a0053ff40a49ca7f95a1f8b6e65",
       "value": " 28.0/28.0 [00:00&lt;00:00, 860B/s]"
      }
     },
     "1f1a4c99c2a2414e9a5c657110fe87dc": {
      "model_module": "@jupyter-widgets/controls",
      "model_module_version": "1.5.0",
      "model_name": "HTMLModel",
      "state": {
       "_dom_classes": [],
       "_model_module": "@jupyter-widgets/controls",
       "_model_module_version": "1.5.0",
       "_model_name": "HTMLModel",
       "_view_count": null,
       "_view_module": "@jupyter-widgets/controls",
       "_view_module_version": "1.5.0",
       "_view_name": "HTMLView",
       "description": "",
       "description_tooltip": null,
       "layout": "IPY_MODEL_06ad2ee02cdd4a2e999dc11a0530de28",
       "placeholder": "​",
       "style": "IPY_MODEL_22009714f8514c4e9f7757eac233b44d",
       "value": " 878k/878k [00:01&lt;00:00, 1.12MB/s]"
      }
     },
     "1f2bd1cc9d9c42dcb24c3f7a0a4c8f2c": {
      "model_module": "@jupyter-widgets/base",
      "model_module_version": "1.2.0",
      "model_name": "LayoutModel",
      "state": {
       "_model_module": "@jupyter-widgets/base",
       "_model_module_version": "1.2.0",
       "_model_name": "LayoutModel",
       "_view_count": null,
       "_view_module": "@jupyter-widgets/base",
       "_view_module_version": "1.2.0",
       "_view_name": "LayoutView",
       "align_content": null,
       "align_items": null,
       "align_self": null,
       "border": null,
       "bottom": null,
       "display": null,
       "flex": null,
       "flex_flow": null,
       "grid_area": null,
       "grid_auto_columns": null,
       "grid_auto_flow": null,
       "grid_auto_rows": null,
       "grid_column": null,
       "grid_gap": null,
       "grid_row": null,
       "grid_template_areas": null,
       "grid_template_columns": null,
       "grid_template_rows": null,
       "height": null,
       "justify_content": null,
       "justify_items": null,
       "left": null,
       "margin": null,
       "max_height": null,
       "max_width": null,
       "min_height": null,
       "min_width": null,
       "object_fit": null,
       "object_position": null,
       "order": null,
       "overflow": null,
       "overflow_x": null,
       "overflow_y": null,
       "padding": null,
       "right": null,
       "top": null,
       "visibility": null,
       "width": null
      }
     },
     "22009714f8514c4e9f7757eac233b44d": {
      "model_module": "@jupyter-widgets/controls",
      "model_module_version": "1.5.0",
      "model_name": "DescriptionStyleModel",
      "state": {
       "_model_module": "@jupyter-widgets/controls",
       "_model_module_version": "1.5.0",
       "_model_name": "DescriptionStyleModel",
       "_view_count": null,
       "_view_module": "@jupyter-widgets/base",
       "_view_module_version": "1.2.0",
       "_view_name": "StyleView",
       "description_width": ""
      }
     },
     "2510b4bc9c2b404dba2ab29646898a36": {
      "model_module": "@jupyter-widgets/controls",
      "model_module_version": "1.5.0",
      "model_name": "DescriptionStyleModel",
      "state": {
       "_model_module": "@jupyter-widgets/controls",
       "_model_module_version": "1.5.0",
       "_model_name": "DescriptionStyleModel",
       "_view_count": null,
       "_view_module": "@jupyter-widgets/base",
       "_view_module_version": "1.2.0",
       "_view_name": "StyleView",
       "description_width": ""
      }
     },
     "26641cb8eddc4f75a1abd1b594fac2b8": {
      "model_module": "@jupyter-widgets/base",
      "model_module_version": "1.2.0",
      "model_name": "LayoutModel",
      "state": {
       "_model_module": "@jupyter-widgets/base",
       "_model_module_version": "1.2.0",
       "_model_name": "LayoutModel",
       "_view_count": null,
       "_view_module": "@jupyter-widgets/base",
       "_view_module_version": "1.2.0",
       "_view_name": "LayoutView",
       "align_content": null,
       "align_items": null,
       "align_self": null,
       "border": null,
       "bottom": null,
       "display": null,
       "flex": null,
       "flex_flow": null,
       "grid_area": null,
       "grid_auto_columns": null,
       "grid_auto_flow": null,
       "grid_auto_rows": null,
       "grid_column": null,
       "grid_gap": null,
       "grid_row": null,
       "grid_template_areas": null,
       "grid_template_columns": null,
       "grid_template_rows": null,
       "height": null,
       "justify_content": null,
       "justify_items": null,
       "left": null,
       "margin": null,
       "max_height": null,
       "max_width": null,
       "min_height": null,
       "min_width": null,
       "object_fit": null,
       "object_position": null,
       "order": null,
       "overflow": null,
       "overflow_x": null,
       "overflow_y": null,
       "padding": null,
       "right": null,
       "top": null,
       "visibility": null,
       "width": null
      }
     },
     "2af12fef8a7740439a48435976c719d8": {
      "model_module": "@jupyter-widgets/controls",
      "model_module_version": "1.5.0",
      "model_name": "HTMLModel",
      "state": {
       "_dom_classes": [],
       "_model_module": "@jupyter-widgets/controls",
       "_model_module_version": "1.5.0",
       "_model_name": "HTMLModel",
       "_view_count": null,
       "_view_module": "@jupyter-widgets/controls",
       "_view_module_version": "1.5.0",
       "_view_name": "HTMLView",
       "description": "",
       "description_tooltip": null,
       "layout": "IPY_MODEL_5bf3d565d7724d2fad8c5a67bdabc2ea",
       "placeholder": "​",
       "style": "IPY_MODEL_c46860bd61de4d01bcf4adb774f261b1",
       "value": "Downloading: 100%"
      }
     },
     "2d8c1362f3ec4c3e8ab8824085a8e6a3": {
      "model_module": "@jupyter-widgets/base",
      "model_module_version": "1.2.0",
      "model_name": "LayoutModel",
      "state": {
       "_model_module": "@jupyter-widgets/base",
       "_model_module_version": "1.2.0",
       "_model_name": "LayoutModel",
       "_view_count": null,
       "_view_module": "@jupyter-widgets/base",
       "_view_module_version": "1.2.0",
       "_view_name": "LayoutView",
       "align_content": null,
       "align_items": null,
       "align_self": null,
       "border": null,
       "bottom": null,
       "display": null,
       "flex": null,
       "flex_flow": null,
       "grid_area": null,
       "grid_auto_columns": null,
       "grid_auto_flow": null,
       "grid_auto_rows": null,
       "grid_column": null,
       "grid_gap": null,
       "grid_row": null,
       "grid_template_areas": null,
       "grid_template_columns": null,
       "grid_template_rows": null,
       "height": null,
       "justify_content": null,
       "justify_items": null,
       "left": null,
       "margin": null,
       "max_height": null,
       "max_width": null,
       "min_height": null,
       "min_width": null,
       "object_fit": null,
       "object_position": null,
       "order": null,
       "overflow": null,
       "overflow_x": null,
       "overflow_y": null,
       "padding": null,
       "right": null,
       "top": null,
       "visibility": null,
       "width": null
      }
     },
     "2f25bc7f38184eeda97d2d0d8343776e": {
      "model_module": "@jupyter-widgets/controls",
      "model_module_version": "1.5.0",
      "model_name": "HTMLModel",
      "state": {
       "_dom_classes": [],
       "_model_module": "@jupyter-widgets/controls",
       "_model_module_version": "1.5.0",
       "_model_name": "HTMLModel",
       "_view_count": null,
       "_view_module": "@jupyter-widgets/controls",
       "_view_module_version": "1.5.0",
       "_view_name": "HTMLView",
       "description": "",
       "description_tooltip": null,
       "layout": "IPY_MODEL_592b2a7c9d44471da0534d98532f3de7",
       "placeholder": "​",
       "style": "IPY_MODEL_5be8a5fdb8f04798b63fb5c9fd85c914",
       "value": "Downloading: 100%"
      }
     },
     "2f4801a8c1b04c05b104a3417346277d": {
      "model_module": "@jupyter-widgets/base",
      "model_module_version": "1.2.0",
      "model_name": "LayoutModel",
      "state": {
       "_model_module": "@jupyter-widgets/base",
       "_model_module_version": "1.2.0",
       "_model_name": "LayoutModel",
       "_view_count": null,
       "_view_module": "@jupyter-widgets/base",
       "_view_module_version": "1.2.0",
       "_view_name": "LayoutView",
       "align_content": null,
       "align_items": null,
       "align_self": null,
       "border": null,
       "bottom": null,
       "display": null,
       "flex": null,
       "flex_flow": null,
       "grid_area": null,
       "grid_auto_columns": null,
       "grid_auto_flow": null,
       "grid_auto_rows": null,
       "grid_column": null,
       "grid_gap": null,
       "grid_row": null,
       "grid_template_areas": null,
       "grid_template_columns": null,
       "grid_template_rows": null,
       "height": null,
       "justify_content": null,
       "justify_items": null,
       "left": null,
       "margin": null,
       "max_height": null,
       "max_width": null,
       "min_height": null,
       "min_width": null,
       "object_fit": null,
       "object_position": null,
       "order": null,
       "overflow": null,
       "overflow_x": null,
       "overflow_y": null,
       "padding": null,
       "right": null,
       "top": null,
       "visibility": null,
       "width": null
      }
     },
     "2f59cd6550ba452987e57eef695ebf13": {
      "model_module": "@jupyter-widgets/controls",
      "model_module_version": "1.5.0",
      "model_name": "HBoxModel",
      "state": {
       "_dom_classes": [],
       "_model_module": "@jupyter-widgets/controls",
       "_model_module_version": "1.5.0",
       "_model_name": "HBoxModel",
       "_view_count": null,
       "_view_module": "@jupyter-widgets/controls",
       "_view_module_version": "1.5.0",
       "_view_name": "HBoxView",
       "box_style": "",
       "children": [
        "IPY_MODEL_2af12fef8a7740439a48435976c719d8",
        "IPY_MODEL_351f225ac7204dec88fac31747bddce6",
        "IPY_MODEL_7f1cc5ba7671485996d6a34a77409942"
       ],
       "layout": "IPY_MODEL_f7b3f4860f9341f9a411e0e7f0da6aec"
      }
     },
     "2f7ac7dd1b9b40b89502fc3e1ee27710": {
      "model_module": "@jupyter-widgets/base",
      "model_module_version": "1.2.0",
      "model_name": "LayoutModel",
      "state": {
       "_model_module": "@jupyter-widgets/base",
       "_model_module_version": "1.2.0",
       "_model_name": "LayoutModel",
       "_view_count": null,
       "_view_module": "@jupyter-widgets/base",
       "_view_module_version": "1.2.0",
       "_view_name": "LayoutView",
       "align_content": null,
       "align_items": null,
       "align_self": null,
       "border": null,
       "bottom": null,
       "display": null,
       "flex": null,
       "flex_flow": null,
       "grid_area": null,
       "grid_auto_columns": null,
       "grid_auto_flow": null,
       "grid_auto_rows": null,
       "grid_column": null,
       "grid_gap": null,
       "grid_row": null,
       "grid_template_areas": null,
       "grid_template_columns": null,
       "grid_template_rows": null,
       "height": null,
       "justify_content": null,
       "justify_items": null,
       "left": null,
       "margin": null,
       "max_height": null,
       "max_width": null,
       "min_height": null,
       "min_width": null,
       "object_fit": null,
       "object_position": null,
       "order": null,
       "overflow": null,
       "overflow_x": null,
       "overflow_y": null,
       "padding": null,
       "right": null,
       "top": null,
       "visibility": null,
       "width": null
      }
     },
     "330f3f889e1d41feaa6d6d0cd34e05b1": {
      "model_module": "@jupyter-widgets/controls",
      "model_module_version": "1.5.0",
      "model_name": "FloatProgressModel",
      "state": {
       "_dom_classes": [],
       "_model_module": "@jupyter-widgets/controls",
       "_model_module_version": "1.5.0",
       "_model_name": "FloatProgressModel",
       "_view_count": null,
       "_view_module": "@jupyter-widgets/controls",
       "_view_module_version": "1.5.0",
       "_view_name": "ProgressView",
       "bar_style": "success",
       "description": "",
       "description_tooltip": null,
       "layout": "IPY_MODEL_e6d549e92c084ca1a2f75757697dcf85",
       "max": 466062.0,
       "min": 0.0,
       "orientation": "horizontal",
       "style": "IPY_MODEL_9a028d69cca94e31b5fe44f7cfe8ecfb",
       "value": 466062.0
      }
     },
     "33e923b189284ffe951d18b46b2b81f7": {
      "model_module": "@jupyter-widgets/controls",
      "model_module_version": "1.5.0",
      "model_name": "ProgressStyleModel",
      "state": {
       "_model_module": "@jupyter-widgets/controls",
       "_model_module_version": "1.5.0",
       "_model_name": "ProgressStyleModel",
       "_view_count": null,
       "_view_module": "@jupyter-widgets/base",
       "_view_module_version": "1.2.0",
       "_view_name": "StyleView",
       "bar_color": null,
       "description_width": ""
      }
     },
     "33fb11f94db34663905ecf7dcff9d868": {
      "model_module": "@jupyter-widgets/controls",
      "model_module_version": "1.5.0",
      "model_name": "DescriptionStyleModel",
      "state": {
       "_model_module": "@jupyter-widgets/controls",
       "_model_module_version": "1.5.0",
       "_model_name": "DescriptionStyleModel",
       "_view_count": null,
       "_view_module": "@jupyter-widgets/base",
       "_view_module_version": "1.2.0",
       "_view_name": "StyleView",
       "description_width": ""
      }
     },
     "349cc14962b748168ad182085df09004": {
      "model_module": "@jupyter-widgets/controls",
      "model_module_version": "1.5.0",
      "model_name": "ProgressStyleModel",
      "state": {
       "_model_module": "@jupyter-widgets/controls",
       "_model_module_version": "1.5.0",
       "_model_name": "ProgressStyleModel",
       "_view_count": null,
       "_view_module": "@jupyter-widgets/base",
       "_view_module_version": "1.2.0",
       "_view_name": "StyleView",
       "bar_color": null,
       "description_width": ""
      }
     },
     "351f225ac7204dec88fac31747bddce6": {
      "model_module": "@jupyter-widgets/controls",
      "model_module_version": "1.5.0",
      "model_name": "FloatProgressModel",
      "state": {
       "_dom_classes": [],
       "_model_module": "@jupyter-widgets/controls",
       "_model_module_version": "1.5.0",
       "_model_name": "FloatProgressModel",
       "_view_count": null,
       "_view_module": "@jupyter-widgets/controls",
       "_view_module_version": "1.5.0",
       "_view_name": "ProgressView",
       "bar_style": "success",
       "description": "",
       "description_tooltip": null,
       "layout": "IPY_MODEL_92abb5265262418d85e671e10b333ca0",
       "max": 482.0,
       "min": 0.0,
       "orientation": "horizontal",
       "style": "IPY_MODEL_b94ccea05f414f4d8067c85398984f65",
       "value": 482.0
      }
     },
     "36c1d20da6f94c2a866afcbaca43fb0b": {
      "model_module": "@jupyter-widgets/base",
      "model_module_version": "1.2.0",
      "model_name": "LayoutModel",
      "state": {
       "_model_module": "@jupyter-widgets/base",
       "_model_module_version": "1.2.0",
       "_model_name": "LayoutModel",
       "_view_count": null,
       "_view_module": "@jupyter-widgets/base",
       "_view_module_version": "1.2.0",
       "_view_name": "LayoutView",
       "align_content": null,
       "align_items": null,
       "align_self": null,
       "border": null,
       "bottom": null,
       "display": null,
       "flex": null,
       "flex_flow": null,
       "grid_area": null,
       "grid_auto_columns": null,
       "grid_auto_flow": null,
       "grid_auto_rows": null,
       "grid_column": null,
       "grid_gap": null,
       "grid_row": null,
       "grid_template_areas": null,
       "grid_template_columns": null,
       "grid_template_rows": null,
       "height": null,
       "justify_content": null,
       "justify_items": null,
       "left": null,
       "margin": null,
       "max_height": null,
       "max_width": null,
       "min_height": null,
       "min_width": null,
       "object_fit": null,
       "object_position": null,
       "order": null,
       "overflow": null,
       "overflow_x": null,
       "overflow_y": null,
       "padding": null,
       "right": null,
       "top": null,
       "visibility": null,
       "width": null
      }
     },
     "373174ae5bf448fd9dafed46b4730940": {
      "model_module": "@jupyter-widgets/base",
      "model_module_version": "1.2.0",
      "model_name": "LayoutModel",
      "state": {
       "_model_module": "@jupyter-widgets/base",
       "_model_module_version": "1.2.0",
       "_model_name": "LayoutModel",
       "_view_count": null,
       "_view_module": "@jupyter-widgets/base",
       "_view_module_version": "1.2.0",
       "_view_name": "LayoutView",
       "align_content": null,
       "align_items": null,
       "align_self": null,
       "border": null,
       "bottom": null,
       "display": null,
       "flex": null,
       "flex_flow": null,
       "grid_area": null,
       "grid_auto_columns": null,
       "grid_auto_flow": null,
       "grid_auto_rows": null,
       "grid_column": null,
       "grid_gap": null,
       "grid_row": null,
       "grid_template_areas": null,
       "grid_template_columns": null,
       "grid_template_rows": null,
       "height": null,
       "justify_content": null,
       "justify_items": null,
       "left": null,
       "margin": null,
       "max_height": null,
       "max_width": null,
       "min_height": null,
       "min_width": null,
       "object_fit": null,
       "object_position": null,
       "order": null,
       "overflow": null,
       "overflow_x": null,
       "overflow_y": null,
       "padding": null,
       "right": null,
       "top": null,
       "visibility": null,
       "width": null
      }
     },
     "383c4ab294084afc838e298893a53bab": {
      "model_module": "@jupyter-widgets/controls",
      "model_module_version": "1.5.0",
      "model_name": "DescriptionStyleModel",
      "state": {
       "_model_module": "@jupyter-widgets/controls",
       "_model_module_version": "1.5.0",
       "_model_name": "DescriptionStyleModel",
       "_view_count": null,
       "_view_module": "@jupyter-widgets/base",
       "_view_module_version": "1.2.0",
       "_view_name": "StyleView",
       "description_width": ""
      }
     },
     "38e440e52e404c09bb4dacff1ca2b471": {
      "model_module": "@jupyter-widgets/base",
      "model_module_version": "1.2.0",
      "model_name": "LayoutModel",
      "state": {
       "_model_module": "@jupyter-widgets/base",
       "_model_module_version": "1.2.0",
       "_model_name": "LayoutModel",
       "_view_count": null,
       "_view_module": "@jupyter-widgets/base",
       "_view_module_version": "1.2.0",
       "_view_name": "LayoutView",
       "align_content": null,
       "align_items": null,
       "align_self": null,
       "border": null,
       "bottom": null,
       "display": null,
       "flex": null,
       "flex_flow": null,
       "grid_area": null,
       "grid_auto_columns": null,
       "grid_auto_flow": null,
       "grid_auto_rows": null,
       "grid_column": null,
       "grid_gap": null,
       "grid_row": null,
       "grid_template_areas": null,
       "grid_template_columns": null,
       "grid_template_rows": null,
       "height": null,
       "justify_content": null,
       "justify_items": null,
       "left": null,
       "margin": null,
       "max_height": null,
       "max_width": null,
       "min_height": null,
       "min_width": null,
       "object_fit": null,
       "object_position": null,
       "order": null,
       "overflow": null,
       "overflow_x": null,
       "overflow_y": null,
       "padding": null,
       "right": null,
       "top": null,
       "visibility": null,
       "width": null
      }
     },
     "4019fa5c8c6a44819748689a5af78d83": {
      "model_module": "@jupyter-widgets/controls",
      "model_module_version": "1.5.0",
      "model_name": "DescriptionStyleModel",
      "state": {
       "_model_module": "@jupyter-widgets/controls",
       "_model_module_version": "1.5.0",
       "_model_name": "DescriptionStyleModel",
       "_view_count": null,
       "_view_module": "@jupyter-widgets/base",
       "_view_module_version": "1.2.0",
       "_view_name": "StyleView",
       "description_width": ""
      }
     },
     "4070214a942146d7b25dd6187a4bdd51": {
      "model_module": "@jupyter-widgets/controls",
      "model_module_version": "1.5.0",
      "model_name": "DescriptionStyleModel",
      "state": {
       "_model_module": "@jupyter-widgets/controls",
       "_model_module_version": "1.5.0",
       "_model_name": "DescriptionStyleModel",
       "_view_count": null,
       "_view_module": "@jupyter-widgets/base",
       "_view_module_version": "1.2.0",
       "_view_name": "StyleView",
       "description_width": ""
      }
     },
     "42302989b2f04a5a8404754f1ec1fc95": {
      "model_module": "@jupyter-widgets/controls",
      "model_module_version": "1.5.0",
      "model_name": "HBoxModel",
      "state": {
       "_dom_classes": [],
       "_model_module": "@jupyter-widgets/controls",
       "_model_module_version": "1.5.0",
       "_model_name": "HBoxModel",
       "_view_count": null,
       "_view_module": "@jupyter-widgets/controls",
       "_view_module_version": "1.5.0",
       "_view_name": "HBoxView",
       "box_style": "",
       "children": [
        "IPY_MODEL_1bd2c95034d84da292cac00f26d75a59",
        "IPY_MODEL_11b1cfbccfac4e81a14dcfa301df536b",
        "IPY_MODEL_1f1a4c99c2a2414e9a5c657110fe87dc"
       ],
       "layout": "IPY_MODEL_6cb95aaa5c4f42f0828e992af9eb1b37"
      }
     },
     "44a7700c729b45389cd781b14ab1fbd1": {
      "model_module": "@jupyter-widgets/controls",
      "model_module_version": "1.5.0",
      "model_name": "FloatProgressModel",
      "state": {
       "_dom_classes": [],
       "_model_module": "@jupyter-widgets/controls",
       "_model_module_version": "1.5.0",
       "_model_name": "FloatProgressModel",
       "_view_count": null,
       "_view_module": "@jupyter-widgets/controls",
       "_view_module_version": "1.5.0",
       "_view_name": "ProgressView",
       "bar_style": "success",
       "description": "",
       "description_tooltip": null,
       "layout": "IPY_MODEL_38e440e52e404c09bb4dacff1ca2b471",
       "max": 1355863.0,
       "min": 0.0,
       "orientation": "horizontal",
       "style": "IPY_MODEL_33e923b189284ffe951d18b46b2b81f7",
       "value": 1355863.0
      }
     },
     "44aeda5831f7439aaf24add1ab7c946c": {
      "model_module": "@jupyter-widgets/controls",
      "model_module_version": "1.5.0",
      "model_name": "HBoxModel",
      "state": {
       "_dom_classes": [],
       "_model_module": "@jupyter-widgets/controls",
       "_model_module_version": "1.5.0",
       "_model_name": "HBoxModel",
       "_view_count": null,
       "_view_module": "@jupyter-widgets/controls",
       "_view_module_version": "1.5.0",
       "_view_name": "HBoxView",
       "box_style": "",
       "children": [
        "IPY_MODEL_859b2cb2b2c342a1862d7adff1da7b42",
        "IPY_MODEL_7dae685e305e4d0280fc575469f1d3dc",
        "IPY_MODEL_1ef14a5e78254e5aa7b2778b23969f0e"
       ],
       "layout": "IPY_MODEL_6b629b4af94b41f1ab6356d40834118f"
      }
     },
     "47674cefae7e447c84edcef90cb53b9b": {
      "model_module": "@jupyter-widgets/controls",
      "model_module_version": "1.5.0",
      "model_name": "DescriptionStyleModel",
      "state": {
       "_model_module": "@jupyter-widgets/controls",
       "_model_module_version": "1.5.0",
       "_model_name": "DescriptionStyleModel",
       "_view_count": null,
       "_view_module": "@jupyter-widgets/base",
       "_view_module_version": "1.2.0",
       "_view_name": "StyleView",
       "description_width": ""
      }
     },
     "4a1da2d0efe54b6aa2db8be5d7155425": {
      "model_module": "@jupyter-widgets/controls",
      "model_module_version": "1.5.0",
      "model_name": "DescriptionStyleModel",
      "state": {
       "_model_module": "@jupyter-widgets/controls",
       "_model_module_version": "1.5.0",
       "_model_name": "DescriptionStyleModel",
       "_view_count": null,
       "_view_module": "@jupyter-widgets/base",
       "_view_module_version": "1.2.0",
       "_view_name": "StyleView",
       "description_width": ""
      }
     },
     "4e0d495aae914326b154012c69f45faf": {
      "model_module": "@jupyter-widgets/base",
      "model_module_version": "1.2.0",
      "model_name": "LayoutModel",
      "state": {
       "_model_module": "@jupyter-widgets/base",
       "_model_module_version": "1.2.0",
       "_model_name": "LayoutModel",
       "_view_count": null,
       "_view_module": "@jupyter-widgets/base",
       "_view_module_version": "1.2.0",
       "_view_name": "LayoutView",
       "align_content": null,
       "align_items": null,
       "align_self": null,
       "border": null,
       "bottom": null,
       "display": null,
       "flex": null,
       "flex_flow": null,
       "grid_area": null,
       "grid_auto_columns": null,
       "grid_auto_flow": null,
       "grid_auto_rows": null,
       "grid_column": null,
       "grid_gap": null,
       "grid_row": null,
       "grid_template_areas": null,
       "grid_template_columns": null,
       "grid_template_rows": null,
       "height": null,
       "justify_content": null,
       "justify_items": null,
       "left": null,
       "margin": null,
       "max_height": null,
       "max_width": null,
       "min_height": null,
       "min_width": null,
       "object_fit": null,
       "object_position": null,
       "order": null,
       "overflow": null,
       "overflow_x": null,
       "overflow_y": null,
       "padding": null,
       "right": null,
       "top": null,
       "visibility": null,
       "width": null
      }
     },
     "50948d439d664ca683086b8374216e59": {
      "model_module": "@jupyter-widgets/controls",
      "model_module_version": "1.5.0",
      "model_name": "FloatProgressModel",
      "state": {
       "_dom_classes": [],
       "_model_module": "@jupyter-widgets/controls",
       "_model_module_version": "1.5.0",
       "_model_name": "FloatProgressModel",
       "_view_count": null,
       "_view_module": "@jupyter-widgets/controls",
       "_view_module_version": "1.5.0",
       "_view_name": "ProgressView",
       "bar_style": "success",
       "description": "",
       "description_tooltip": null,
       "layout": "IPY_MODEL_8c51a77b151f48e5bd24f67cc451bf81",
       "max": 456318.0,
       "min": 0.0,
       "orientation": "horizontal",
       "style": "IPY_MODEL_349cc14962b748168ad182085df09004",
       "value": 456318.0
      }
     },
     "50dfcd5cd60844fca9413e21ba346417": {
      "model_module": "@jupyter-widgets/controls",
      "model_module_version": "1.5.0",
      "model_name": "ProgressStyleModel",
      "state": {
       "_model_module": "@jupyter-widgets/controls",
       "_model_module_version": "1.5.0",
       "_model_name": "ProgressStyleModel",
       "_view_count": null,
       "_view_module": "@jupyter-widgets/base",
       "_view_module_version": "1.2.0",
       "_view_name": "StyleView",
       "bar_color": null,
       "description_width": ""
      }
     },
     "55e5556fa1124d7cb55d44728af8a96e": {
      "model_module": "@jupyter-widgets/base",
      "model_module_version": "1.2.0",
      "model_name": "LayoutModel",
      "state": {
       "_model_module": "@jupyter-widgets/base",
       "_model_module_version": "1.2.0",
       "_model_name": "LayoutModel",
       "_view_count": null,
       "_view_module": "@jupyter-widgets/base",
       "_view_module_version": "1.2.0",
       "_view_name": "LayoutView",
       "align_content": null,
       "align_items": null,
       "align_self": null,
       "border": null,
       "bottom": null,
       "display": null,
       "flex": null,
       "flex_flow": null,
       "grid_area": null,
       "grid_auto_columns": null,
       "grid_auto_flow": null,
       "grid_auto_rows": null,
       "grid_column": null,
       "grid_gap": null,
       "grid_row": null,
       "grid_template_areas": null,
       "grid_template_columns": null,
       "grid_template_rows": null,
       "height": null,
       "justify_content": null,
       "justify_items": null,
       "left": null,
       "margin": null,
       "max_height": null,
       "max_width": null,
       "min_height": null,
       "min_width": null,
       "object_fit": null,
       "object_position": null,
       "order": null,
       "overflow": null,
       "overflow_x": null,
       "overflow_y": null,
       "padding": null,
       "right": null,
       "top": null,
       "visibility": null,
       "width": null
      }
     },
     "561289274dde4c9c87f92fe027c54b06": {
      "model_module": "@jupyter-widgets/base",
      "model_module_version": "1.2.0",
      "model_name": "LayoutModel",
      "state": {
       "_model_module": "@jupyter-widgets/base",
       "_model_module_version": "1.2.0",
       "_model_name": "LayoutModel",
       "_view_count": null,
       "_view_module": "@jupyter-widgets/base",
       "_view_module_version": "1.2.0",
       "_view_name": "LayoutView",
       "align_content": null,
       "align_items": null,
       "align_self": null,
       "border": null,
       "bottom": null,
       "display": null,
       "flex": null,
       "flex_flow": null,
       "grid_area": null,
       "grid_auto_columns": null,
       "grid_auto_flow": null,
       "grid_auto_rows": null,
       "grid_column": null,
       "grid_gap": null,
       "grid_row": null,
       "grid_template_areas": null,
       "grid_template_columns": null,
       "grid_template_rows": null,
       "height": null,
       "justify_content": null,
       "justify_items": null,
       "left": null,
       "margin": null,
       "max_height": null,
       "max_width": null,
       "min_height": null,
       "min_width": null,
       "object_fit": null,
       "object_position": null,
       "order": null,
       "overflow": null,
       "overflow_x": null,
       "overflow_y": null,
       "padding": null,
       "right": null,
       "top": null,
       "visibility": null,
       "width": null
      }
     },
     "577767b602084667a8cd4af2518b7418": {
      "model_module": "@jupyter-widgets/controls",
      "model_module_version": "1.5.0",
      "model_name": "FloatProgressModel",
      "state": {
       "_dom_classes": [],
       "_model_module": "@jupyter-widgets/controls",
       "_model_module_version": "1.5.0",
       "_model_name": "FloatProgressModel",
       "_view_count": null,
       "_view_module": "@jupyter-widgets/controls",
       "_view_module_version": "1.5.0",
       "_view_name": "ProgressView",
       "bar_style": "success",
       "description": "",
       "description_tooltip": null,
       "layout": "IPY_MODEL_d2c3a9b2d8264fffa3d8a35057abfbb5",
       "max": 385.0,
       "min": 0.0,
       "orientation": "horizontal",
       "style": "IPY_MODEL_50dfcd5cd60844fca9413e21ba346417",
       "value": 385.0
      }
     },
     "58dd96ec545b45cd9f9b7a8408b523f3": {
      "model_module": "@jupyter-widgets/controls",
      "model_module_version": "1.5.0",
      "model_name": "DescriptionStyleModel",
      "state": {
       "_model_module": "@jupyter-widgets/controls",
       "_model_module_version": "1.5.0",
       "_model_name": "DescriptionStyleModel",
       "_view_count": null,
       "_view_module": "@jupyter-widgets/base",
       "_view_module_version": "1.2.0",
       "_view_name": "StyleView",
       "description_width": ""
      }
     },
     "592b2a7c9d44471da0534d98532f3de7": {
      "model_module": "@jupyter-widgets/base",
      "model_module_version": "1.2.0",
      "model_name": "LayoutModel",
      "state": {
       "_model_module": "@jupyter-widgets/base",
       "_model_module_version": "1.2.0",
       "_model_name": "LayoutModel",
       "_view_count": null,
       "_view_module": "@jupyter-widgets/base",
       "_view_module_version": "1.2.0",
       "_view_name": "LayoutView",
       "align_content": null,
       "align_items": null,
       "align_self": null,
       "border": null,
       "bottom": null,
       "display": null,
       "flex": null,
       "flex_flow": null,
       "grid_area": null,
       "grid_auto_columns": null,
       "grid_auto_flow": null,
       "grid_auto_rows": null,
       "grid_column": null,
       "grid_gap": null,
       "grid_row": null,
       "grid_template_areas": null,
       "grid_template_columns": null,
       "grid_template_rows": null,
       "height": null,
       "justify_content": null,
       "justify_items": null,
       "left": null,
       "margin": null,
       "max_height": null,
       "max_width": null,
       "min_height": null,
       "min_width": null,
       "object_fit": null,
       "object_position": null,
       "order": null,
       "overflow": null,
       "overflow_x": null,
       "overflow_y": null,
       "padding": null,
       "right": null,
       "top": null,
       "visibility": null,
       "width": null
      }
     },
     "5a8a5e6ea48942daa4012f3077b62221": {
      "model_module": "@jupyter-widgets/base",
      "model_module_version": "1.2.0",
      "model_name": "LayoutModel",
      "state": {
       "_model_module": "@jupyter-widgets/base",
       "_model_module_version": "1.2.0",
       "_model_name": "LayoutModel",
       "_view_count": null,
       "_view_module": "@jupyter-widgets/base",
       "_view_module_version": "1.2.0",
       "_view_name": "LayoutView",
       "align_content": null,
       "align_items": null,
       "align_self": null,
       "border": null,
       "bottom": null,
       "display": null,
       "flex": null,
       "flex_flow": null,
       "grid_area": null,
       "grid_auto_columns": null,
       "grid_auto_flow": null,
       "grid_auto_rows": null,
       "grid_column": null,
       "grid_gap": null,
       "grid_row": null,
       "grid_template_areas": null,
       "grid_template_columns": null,
       "grid_template_rows": null,
       "height": null,
       "justify_content": null,
       "justify_items": null,
       "left": null,
       "margin": null,
       "max_height": null,
       "max_width": null,
       "min_height": null,
       "min_width": null,
       "object_fit": null,
       "object_position": null,
       "order": null,
       "overflow": null,
       "overflow_x": null,
       "overflow_y": null,
       "padding": null,
       "right": null,
       "top": null,
       "visibility": null,
       "width": null
      }
     },
     "5b0132bdff6a4a2d8c7acc2cfd51e251": {
      "model_module": "@jupyter-widgets/base",
      "model_module_version": "1.2.0",
      "model_name": "LayoutModel",
      "state": {
       "_model_module": "@jupyter-widgets/base",
       "_model_module_version": "1.2.0",
       "_model_name": "LayoutModel",
       "_view_count": null,
       "_view_module": "@jupyter-widgets/base",
       "_view_module_version": "1.2.0",
       "_view_name": "LayoutView",
       "align_content": null,
       "align_items": null,
       "align_self": null,
       "border": null,
       "bottom": null,
       "display": null,
       "flex": null,
       "flex_flow": null,
       "grid_area": null,
       "grid_auto_columns": null,
       "grid_auto_flow": null,
       "grid_auto_rows": null,
       "grid_column": null,
       "grid_gap": null,
       "grid_row": null,
       "grid_template_areas": null,
       "grid_template_columns": null,
       "grid_template_rows": null,
       "height": null,
       "justify_content": null,
       "justify_items": null,
       "left": null,
       "margin": null,
       "max_height": null,
       "max_width": null,
       "min_height": null,
       "min_width": null,
       "object_fit": null,
       "object_position": null,
       "order": null,
       "overflow": null,
       "overflow_x": null,
       "overflow_y": null,
       "padding": null,
       "right": null,
       "top": null,
       "visibility": null,
       "width": null
      }
     },
     "5be8a5fdb8f04798b63fb5c9fd85c914": {
      "model_module": "@jupyter-widgets/controls",
      "model_module_version": "1.5.0",
      "model_name": "DescriptionStyleModel",
      "state": {
       "_model_module": "@jupyter-widgets/controls",
       "_model_module_version": "1.5.0",
       "_model_name": "DescriptionStyleModel",
       "_view_count": null,
       "_view_module": "@jupyter-widgets/base",
       "_view_module_version": "1.2.0",
       "_view_name": "StyleView",
       "description_width": ""
      }
     },
     "5bf3d565d7724d2fad8c5a67bdabc2ea": {
      "model_module": "@jupyter-widgets/base",
      "model_module_version": "1.2.0",
      "model_name": "LayoutModel",
      "state": {
       "_model_module": "@jupyter-widgets/base",
       "_model_module_version": "1.2.0",
       "_model_name": "LayoutModel",
       "_view_count": null,
       "_view_module": "@jupyter-widgets/base",
       "_view_module_version": "1.2.0",
       "_view_name": "LayoutView",
       "align_content": null,
       "align_items": null,
       "align_self": null,
       "border": null,
       "bottom": null,
       "display": null,
       "flex": null,
       "flex_flow": null,
       "grid_area": null,
       "grid_auto_columns": null,
       "grid_auto_flow": null,
       "grid_auto_rows": null,
       "grid_column": null,
       "grid_gap": null,
       "grid_row": null,
       "grid_template_areas": null,
       "grid_template_columns": null,
       "grid_template_rows": null,
       "height": null,
       "justify_content": null,
       "justify_items": null,
       "left": null,
       "margin": null,
       "max_height": null,
       "max_width": null,
       "min_height": null,
       "min_width": null,
       "object_fit": null,
       "object_position": null,
       "order": null,
       "overflow": null,
       "overflow_x": null,
       "overflow_y": null,
       "padding": null,
       "right": null,
       "top": null,
       "visibility": null,
       "width": null
      }
     },
     "5f865cfd43084125bffb4632773678b3": {
      "model_module": "@jupyter-widgets/base",
      "model_module_version": "1.2.0",
      "model_name": "LayoutModel",
      "state": {
       "_model_module": "@jupyter-widgets/base",
       "_model_module_version": "1.2.0",
       "_model_name": "LayoutModel",
       "_view_count": null,
       "_view_module": "@jupyter-widgets/base",
       "_view_module_version": "1.2.0",
       "_view_name": "LayoutView",
       "align_content": null,
       "align_items": null,
       "align_self": null,
       "border": null,
       "bottom": null,
       "display": null,
       "flex": null,
       "flex_flow": null,
       "grid_area": null,
       "grid_auto_columns": null,
       "grid_auto_flow": null,
       "grid_auto_rows": null,
       "grid_column": null,
       "grid_gap": null,
       "grid_row": null,
       "grid_template_areas": null,
       "grid_template_columns": null,
       "grid_template_rows": null,
       "height": null,
       "justify_content": null,
       "justify_items": null,
       "left": null,
       "margin": null,
       "max_height": null,
       "max_width": null,
       "min_height": null,
       "min_width": null,
       "object_fit": null,
       "object_position": null,
       "order": null,
       "overflow": null,
       "overflow_x": null,
       "overflow_y": null,
       "padding": null,
       "right": null,
       "top": null,
       "visibility": null,
       "width": null
      }
     },
     "607c628e04004de5b7e0dd646f08d0f5": {
      "model_module": "@jupyter-widgets/controls",
      "model_module_version": "1.5.0",
      "model_name": "DescriptionStyleModel",
      "state": {
       "_model_module": "@jupyter-widgets/controls",
       "_model_module_version": "1.5.0",
       "_model_name": "DescriptionStyleModel",
       "_view_count": null,
       "_view_module": "@jupyter-widgets/base",
       "_view_module_version": "1.2.0",
       "_view_name": "StyleView",
       "description_width": ""
      }
     },
     "61a036e56a97444d8be5294c744ad208": {
      "model_module": "@jupyter-widgets/controls",
      "model_module_version": "1.5.0",
      "model_name": "HBoxModel",
      "state": {
       "_dom_classes": [],
       "_model_module": "@jupyter-widgets/controls",
       "_model_module_version": "1.5.0",
       "_model_name": "HBoxModel",
       "_view_count": null,
       "_view_module": "@jupyter-widgets/controls",
       "_view_module_version": "1.5.0",
       "_view_name": "HBoxView",
       "box_style": "",
       "children": [
        "IPY_MODEL_6ad6f55485594d4da673b5e0c0da6f0f",
        "IPY_MODEL_577767b602084667a8cd4af2518b7418",
        "IPY_MODEL_9e66fd2a4b054714b2b104f31dbd9efd"
       ],
       "layout": "IPY_MODEL_6290b12f649f448cb77acf24b3f2dc46"
      }
     },
     "6290b12f649f448cb77acf24b3f2dc46": {
      "model_module": "@jupyter-widgets/base",
      "model_module_version": "1.2.0",
      "model_name": "LayoutModel",
      "state": {
       "_model_module": "@jupyter-widgets/base",
       "_model_module_version": "1.2.0",
       "_model_name": "LayoutModel",
       "_view_count": null,
       "_view_module": "@jupyter-widgets/base",
       "_view_module_version": "1.2.0",
       "_view_name": "LayoutView",
       "align_content": null,
       "align_items": null,
       "align_self": null,
       "border": null,
       "bottom": null,
       "display": null,
       "flex": null,
       "flex_flow": null,
       "grid_area": null,
       "grid_auto_columns": null,
       "grid_auto_flow": null,
       "grid_auto_rows": null,
       "grid_column": null,
       "grid_gap": null,
       "grid_row": null,
       "grid_template_areas": null,
       "grid_template_columns": null,
       "grid_template_rows": null,
       "height": null,
       "justify_content": null,
       "justify_items": null,
       "left": null,
       "margin": null,
       "max_height": null,
       "max_width": null,
       "min_height": null,
       "min_width": null,
       "object_fit": null,
       "object_position": null,
       "order": null,
       "overflow": null,
       "overflow_x": null,
       "overflow_y": null,
       "padding": null,
       "right": null,
       "top": null,
       "visibility": null,
       "width": null
      }
     },
     "6645ee8218644b129cae1334df62d959": {
      "model_module": "@jupyter-widgets/base",
      "model_module_version": "1.2.0",
      "model_name": "LayoutModel",
      "state": {
       "_model_module": "@jupyter-widgets/base",
       "_model_module_version": "1.2.0",
       "_model_name": "LayoutModel",
       "_view_count": null,
       "_view_module": "@jupyter-widgets/base",
       "_view_module_version": "1.2.0",
       "_view_name": "LayoutView",
       "align_content": null,
       "align_items": null,
       "align_self": null,
       "border": null,
       "bottom": null,
       "display": null,
       "flex": null,
       "flex_flow": null,
       "grid_area": null,
       "grid_auto_columns": null,
       "grid_auto_flow": null,
       "grid_auto_rows": null,
       "grid_column": null,
       "grid_gap": null,
       "grid_row": null,
       "grid_template_areas": null,
       "grid_template_columns": null,
       "grid_template_rows": null,
       "height": null,
       "justify_content": null,
       "justify_items": null,
       "left": null,
       "margin": null,
       "max_height": null,
       "max_width": null,
       "min_height": null,
       "min_width": null,
       "object_fit": null,
       "object_position": null,
       "order": null,
       "overflow": null,
       "overflow_x": null,
       "overflow_y": null,
       "padding": null,
       "right": null,
       "top": null,
       "visibility": null,
       "width": null
      }
     },
     "68ac8142401b4887b702a3f5bba3e41f": {
      "model_module": "@jupyter-widgets/base",
      "model_module_version": "1.2.0",
      "model_name": "LayoutModel",
      "state": {
       "_model_module": "@jupyter-widgets/base",
       "_model_module_version": "1.2.0",
       "_model_name": "LayoutModel",
       "_view_count": null,
       "_view_module": "@jupyter-widgets/base",
       "_view_module_version": "1.2.0",
       "_view_name": "LayoutView",
       "align_content": null,
       "align_items": null,
       "align_self": null,
       "border": null,
       "bottom": null,
       "display": null,
       "flex": null,
       "flex_flow": null,
       "grid_area": null,
       "grid_auto_columns": null,
       "grid_auto_flow": null,
       "grid_auto_rows": null,
       "grid_column": null,
       "grid_gap": null,
       "grid_row": null,
       "grid_template_areas": null,
       "grid_template_columns": null,
       "grid_template_rows": null,
       "height": null,
       "justify_content": null,
       "justify_items": null,
       "left": null,
       "margin": null,
       "max_height": null,
       "max_width": null,
       "min_height": null,
       "min_width": null,
       "object_fit": null,
       "object_position": null,
       "order": null,
       "overflow": null,
       "overflow_x": null,
       "overflow_y": null,
       "padding": null,
       "right": null,
       "top": null,
       "visibility": null,
       "width": null
      }
     },
     "6ad6f55485594d4da673b5e0c0da6f0f": {
      "model_module": "@jupyter-widgets/controls",
      "model_module_version": "1.5.0",
      "model_name": "HTMLModel",
      "state": {
       "_dom_classes": [],
       "_model_module": "@jupyter-widgets/controls",
       "_model_module_version": "1.5.0",
       "_model_name": "HTMLModel",
       "_view_count": null,
       "_view_module": "@jupyter-widgets/controls",
       "_view_module_version": "1.5.0",
       "_view_name": "HTMLView",
       "description": "",
       "description_tooltip": null,
       "layout": "IPY_MODEL_a854900ecc71455380fdb23bbc951c71",
       "placeholder": "​",
       "style": "IPY_MODEL_33fb11f94db34663905ecf7dcff9d868",
       "value": "Downloading: 100%"
      }
     },
     "6b629b4af94b41f1ab6356d40834118f": {
      "model_module": "@jupyter-widgets/base",
      "model_module_version": "1.2.0",
      "model_name": "LayoutModel",
      "state": {
       "_model_module": "@jupyter-widgets/base",
       "_model_module_version": "1.2.0",
       "_model_name": "LayoutModel",
       "_view_count": null,
       "_view_module": "@jupyter-widgets/base",
       "_view_module_version": "1.2.0",
       "_view_name": "LayoutView",
       "align_content": null,
       "align_items": null,
       "align_self": null,
       "border": null,
       "bottom": null,
       "display": null,
       "flex": null,
       "flex_flow": null,
       "grid_area": null,
       "grid_auto_columns": null,
       "grid_auto_flow": null,
       "grid_auto_rows": null,
       "grid_column": null,
       "grid_gap": null,
       "grid_row": null,
       "grid_template_areas": null,
       "grid_template_columns": null,
       "grid_template_rows": null,
       "height": null,
       "justify_content": null,
       "justify_items": null,
       "left": null,
       "margin": null,
       "max_height": null,
       "max_width": null,
       "min_height": null,
       "min_width": null,
       "object_fit": null,
       "object_position": null,
       "order": null,
       "overflow": null,
       "overflow_x": null,
       "overflow_y": null,
       "padding": null,
       "right": null,
       "top": null,
       "visibility": null,
       "width": null
      }
     },
     "6cb95aaa5c4f42f0828e992af9eb1b37": {
      "model_module": "@jupyter-widgets/base",
      "model_module_version": "1.2.0",
      "model_name": "LayoutModel",
      "state": {
       "_model_module": "@jupyter-widgets/base",
       "_model_module_version": "1.2.0",
       "_model_name": "LayoutModel",
       "_view_count": null,
       "_view_module": "@jupyter-widgets/base",
       "_view_module_version": "1.2.0",
       "_view_name": "LayoutView",
       "align_content": null,
       "align_items": null,
       "align_self": null,
       "border": null,
       "bottom": null,
       "display": null,
       "flex": null,
       "flex_flow": null,
       "grid_area": null,
       "grid_auto_columns": null,
       "grid_auto_flow": null,
       "grid_auto_rows": null,
       "grid_column": null,
       "grid_gap": null,
       "grid_row": null,
       "grid_template_areas": null,
       "grid_template_columns": null,
       "grid_template_rows": null,
       "height": null,
       "justify_content": null,
       "justify_items": null,
       "left": null,
       "margin": null,
       "max_height": null,
       "max_width": null,
       "min_height": null,
       "min_width": null,
       "object_fit": null,
       "object_position": null,
       "order": null,
       "overflow": null,
       "overflow_x": null,
       "overflow_y": null,
       "padding": null,
       "right": null,
       "top": null,
       "visibility": null,
       "width": null
      }
     },
     "6f7c537ca5b745df8a12fa150d616e39": {
      "model_module": "@jupyter-widgets/controls",
      "model_module_version": "1.5.0",
      "model_name": "FloatProgressModel",
      "state": {
       "_dom_classes": [],
       "_model_module": "@jupyter-widgets/controls",
       "_model_module_version": "1.5.0",
       "_model_name": "FloatProgressModel",
       "_view_count": null,
       "_view_module": "@jupyter-widgets/controls",
       "_view_module_version": "1.5.0",
       "_view_name": "ProgressView",
       "bar_style": "success",
       "description": "",
       "description_tooltip": null,
       "layout": "IPY_MODEL_5f865cfd43084125bffb4632773678b3",
       "max": 231508.0,
       "min": 0.0,
       "orientation": "horizontal",
       "style": "IPY_MODEL_7fe58cfdfd834dc1a0d72b05ddb57786",
       "value": 231508.0
      }
     },
     "719087aea1eb4e1f9e9ac0f8b756988a": {
      "model_module": "@jupyter-widgets/controls",
      "model_module_version": "1.5.0",
      "model_name": "HBoxModel",
      "state": {
       "_dom_classes": [],
       "_model_module": "@jupyter-widgets/controls",
       "_model_module_version": "1.5.0",
       "_model_name": "HBoxModel",
       "_view_count": null,
       "_view_module": "@jupyter-widgets/controls",
       "_view_module_version": "1.5.0",
       "_view_name": "HBoxView",
       "box_style": "",
       "children": [
        "IPY_MODEL_90d1018a3e4844f693788a1e1b700708",
        "IPY_MODEL_e14b4d5fc83d4d5082a06f714efbb648",
        "IPY_MODEL_bcb1b8b280864d9bb0c2b6d72bc97d0b"
       ],
       "layout": "IPY_MODEL_36c1d20da6f94c2a866afcbaca43fb0b"
      }
     },
     "721193f9877b423fbe686b0d3805f7b0": {
      "model_module": "@jupyter-widgets/base",
      "model_module_version": "1.2.0",
      "model_name": "LayoutModel",
      "state": {
       "_model_module": "@jupyter-widgets/base",
       "_model_module_version": "1.2.0",
       "_model_name": "LayoutModel",
       "_view_count": null,
       "_view_module": "@jupyter-widgets/base",
       "_view_module_version": "1.2.0",
       "_view_name": "LayoutView",
       "align_content": null,
       "align_items": null,
       "align_self": null,
       "border": null,
       "bottom": null,
       "display": null,
       "flex": null,
       "flex_flow": null,
       "grid_area": null,
       "grid_auto_columns": null,
       "grid_auto_flow": null,
       "grid_auto_rows": null,
       "grid_column": null,
       "grid_gap": null,
       "grid_row": null,
       "grid_template_areas": null,
       "grid_template_columns": null,
       "grid_template_rows": null,
       "height": null,
       "justify_content": null,
       "justify_items": null,
       "left": null,
       "margin": null,
       "max_height": null,
       "max_width": null,
       "min_height": null,
       "min_width": null,
       "object_fit": null,
       "object_position": null,
       "order": null,
       "overflow": null,
       "overflow_x": null,
       "overflow_y": null,
       "padding": null,
       "right": null,
       "top": null,
       "visibility": null,
       "width": null
      }
     },
     "7a6cc9d869ad4799a83720eb3c992707": {
      "model_module": "@jupyter-widgets/base",
      "model_module_version": "1.2.0",
      "model_name": "LayoutModel",
      "state": {
       "_model_module": "@jupyter-widgets/base",
       "_model_module_version": "1.2.0",
       "_model_name": "LayoutModel",
       "_view_count": null,
       "_view_module": "@jupyter-widgets/base",
       "_view_module_version": "1.2.0",
       "_view_name": "LayoutView",
       "align_content": null,
       "align_items": null,
       "align_self": null,
       "border": null,
       "bottom": null,
       "display": null,
       "flex": null,
       "flex_flow": null,
       "grid_area": null,
       "grid_auto_columns": null,
       "grid_auto_flow": null,
       "grid_auto_rows": null,
       "grid_column": null,
       "grid_gap": null,
       "grid_row": null,
       "grid_template_areas": null,
       "grid_template_columns": null,
       "grid_template_rows": null,
       "height": null,
       "justify_content": null,
       "justify_items": null,
       "left": null,
       "margin": null,
       "max_height": null,
       "max_width": null,
       "min_height": null,
       "min_width": null,
       "object_fit": null,
       "object_position": null,
       "order": null,
       "overflow": null,
       "overflow_x": null,
       "overflow_y": null,
       "padding": null,
       "right": null,
       "top": null,
       "visibility": null,
       "width": null
      }
     },
     "7c1e717ea37c442ba20270dffe744512": {
      "model_module": "@jupyter-widgets/controls",
      "model_module_version": "1.5.0",
      "model_name": "HTMLModel",
      "state": {
       "_dom_classes": [],
       "_model_module": "@jupyter-widgets/controls",
       "_model_module_version": "1.5.0",
       "_model_name": "HTMLModel",
       "_view_count": null,
       "_view_module": "@jupyter-widgets/controls",
       "_view_module_version": "1.5.0",
       "_view_name": "HTMLView",
       "description": "",
       "description_tooltip": null,
       "layout": "IPY_MODEL_561289274dde4c9c87f92fe027c54b06",
       "placeholder": "​",
       "style": "IPY_MODEL_c6986d6885a841d2b1763b6b6779fa6a",
       "value": " 220k/220k [00:00&lt;00:00, 318kB/s]"
      }
     },
     "7d50f91611ed4b77a4767f33b8353e3a": {
      "model_module": "@jupyter-widgets/controls",
      "model_module_version": "1.5.0",
      "model_name": "DescriptionStyleModel",
      "state": {
       "_model_module": "@jupyter-widgets/controls",
       "_model_module_version": "1.5.0",
       "_model_name": "DescriptionStyleModel",
       "_view_count": null,
       "_view_module": "@jupyter-widgets/base",
       "_view_module_version": "1.2.0",
       "_view_name": "StyleView",
       "description_width": ""
      }
     },
     "7dae685e305e4d0280fc575469f1d3dc": {
      "model_module": "@jupyter-widgets/controls",
      "model_module_version": "1.5.0",
      "model_name": "FloatProgressModel",
      "state": {
       "_dom_classes": [],
       "_model_module": "@jupyter-widgets/controls",
       "_model_module_version": "1.5.0",
       "_model_name": "FloatProgressModel",
       "_view_count": null,
       "_view_module": "@jupyter-widgets/controls",
       "_view_module_version": "1.5.0",
       "_view_name": "ProgressView",
       "bar_style": "success",
       "description": "",
       "description_tooltip": null,
       "layout": "IPY_MODEL_26641cb8eddc4f75a1abd1b594fac2b8",
       "max": 28.0,
       "min": 0.0,
       "orientation": "horizontal",
       "style": "IPY_MODEL_cf1cf7a5dd804f90978588283a1c8e21",
       "value": 28.0
      }
     },
     "7f1cc5ba7671485996d6a34a77409942": {
      "model_module": "@jupyter-widgets/controls",
      "model_module_version": "1.5.0",
      "model_name": "HTMLModel",
      "state": {
       "_dom_classes": [],
       "_model_module": "@jupyter-widgets/controls",
       "_model_module_version": "1.5.0",
       "_model_name": "HTMLModel",
       "_view_count": null,
       "_view_module": "@jupyter-widgets/controls",
       "_view_module_version": "1.5.0",
       "_view_name": "HTMLView",
       "description": "",
       "description_tooltip": null,
       "layout": "IPY_MODEL_061beec8a4fa40fdb47f660b0e245317",
       "placeholder": "​",
       "style": "IPY_MODEL_383c4ab294084afc838e298893a53bab",
       "value": " 482/482 [00:00&lt;00:00, 14.1kB/s]"
      }
     },
     "7fe58cfdfd834dc1a0d72b05ddb57786": {
      "model_module": "@jupyter-widgets/controls",
      "model_module_version": "1.5.0",
      "model_name": "ProgressStyleModel",
      "state": {
       "_model_module": "@jupyter-widgets/controls",
       "_model_module_version": "1.5.0",
       "_model_name": "ProgressStyleModel",
       "_view_count": null,
       "_view_module": "@jupyter-widgets/base",
       "_view_module_version": "1.2.0",
       "_view_name": "StyleView",
       "bar_color": null,
       "description_width": ""
      }
     },
     "859b2cb2b2c342a1862d7adff1da7b42": {
      "model_module": "@jupyter-widgets/controls",
      "model_module_version": "1.5.0",
      "model_name": "HTMLModel",
      "state": {
       "_dom_classes": [],
       "_model_module": "@jupyter-widgets/controls",
       "_model_module_version": "1.5.0",
       "_model_name": "HTMLModel",
       "_view_count": null,
       "_view_module": "@jupyter-widgets/controls",
       "_view_module_version": "1.5.0",
       "_view_name": "HTMLView",
       "description": "",
       "description_tooltip": null,
       "layout": "IPY_MODEL_1f2bd1cc9d9c42dcb24c3f7a0a4c8f2c",
       "placeholder": "​",
       "style": "IPY_MODEL_2510b4bc9c2b404dba2ab29646898a36",
       "value": "Downloading: 100%"
      }
     },
     "85fc359bda2147d3a314124dc294ac05": {
      "model_module": "@jupyter-widgets/controls",
      "model_module_version": "1.5.0",
      "model_name": "HBoxModel",
      "state": {
       "_dom_classes": [],
       "_model_module": "@jupyter-widgets/controls",
       "_model_module_version": "1.5.0",
       "_model_name": "HBoxModel",
       "_view_count": null,
       "_view_module": "@jupyter-widgets/controls",
       "_view_module_version": "1.5.0",
       "_view_name": "HBoxView",
       "box_style": "",
       "children": [
        "IPY_MODEL_b3a024ca8fe54b59ac92c56274135ed0",
        "IPY_MODEL_50948d439d664ca683086b8374216e59",
        "IPY_MODEL_d9f70c28ef9746e8827163fdeac899c8"
       ],
       "layout": "IPY_MODEL_ee0b41f721ae4a6a92d995ebd7ad3c96"
      }
     },
     "8c51a77b151f48e5bd24f67cc451bf81": {
      "model_module": "@jupyter-widgets/base",
      "model_module_version": "1.2.0",
      "model_name": "LayoutModel",
      "state": {
       "_model_module": "@jupyter-widgets/base",
       "_model_module_version": "1.2.0",
       "_model_name": "LayoutModel",
       "_view_count": null,
       "_view_module": "@jupyter-widgets/base",
       "_view_module_version": "1.2.0",
       "_view_name": "LayoutView",
       "align_content": null,
       "align_items": null,
       "align_self": null,
       "border": null,
       "bottom": null,
       "display": null,
       "flex": null,
       "flex_flow": null,
       "grid_area": null,
       "grid_auto_columns": null,
       "grid_auto_flow": null,
       "grid_auto_rows": null,
       "grid_column": null,
       "grid_gap": null,
       "grid_row": null,
       "grid_template_areas": null,
       "grid_template_columns": null,
       "grid_template_rows": null,
       "height": null,
       "justify_content": null,
       "justify_items": null,
       "left": null,
       "margin": null,
       "max_height": null,
       "max_width": null,
       "min_height": null,
       "min_width": null,
       "object_fit": null,
       "object_position": null,
       "order": null,
       "overflow": null,
       "overflow_x": null,
       "overflow_y": null,
       "padding": null,
       "right": null,
       "top": null,
       "visibility": null,
       "width": null
      }
     },
     "8cfbf307d13940009b2645fa21b17d34": {
      "model_module": "@jupyter-widgets/controls",
      "model_module_version": "1.5.0",
      "model_name": "HTMLModel",
      "state": {
       "_dom_classes": [],
       "_model_module": "@jupyter-widgets/controls",
       "_model_module_version": "1.5.0",
       "_model_name": "HTMLModel",
       "_view_count": null,
       "_view_module": "@jupyter-widgets/controls",
       "_view_module_version": "1.5.0",
       "_view_name": "HTMLView",
       "description": "",
       "description_tooltip": null,
       "layout": "IPY_MODEL_00d028d7b5644e989d37307ec96a801b",
       "placeholder": "​",
       "style": "IPY_MODEL_083d6854dd2f489881fd2a62b6523370",
       "value": "Downloading: 100%"
      }
     },
     "90d1018a3e4844f693788a1e1b700708": {
      "model_module": "@jupyter-widgets/controls",
      "model_module_version": "1.5.0",
      "model_name": "HTMLModel",
      "state": {
       "_dom_classes": [],
       "_model_module": "@jupyter-widgets/controls",
       "_model_module_version": "1.5.0",
       "_model_name": "HTMLModel",
       "_view_count": null,
       "_view_module": "@jupyter-widgets/controls",
       "_view_module_version": "1.5.0",
       "_view_name": "HTMLView",
       "description": "",
       "description_tooltip": null,
       "layout": "IPY_MODEL_6645ee8218644b129cae1334df62d959",
       "placeholder": "​",
       "style": "IPY_MODEL_af2a2081b65b4cc6bd82df46e9c42038",
       "value": "Downloading: 100%"
      }
     },
     "91fc9d4b05a14c6b8ef55f17c0af8429": {
      "model_module": "@jupyter-widgets/controls",
      "model_module_version": "1.5.0",
      "model_name": "HTMLModel",
      "state": {
       "_dom_classes": [],
       "_model_module": "@jupyter-widgets/controls",
       "_model_module_version": "1.5.0",
       "_model_name": "HTMLModel",
       "_view_count": null,
       "_view_module": "@jupyter-widgets/controls",
       "_view_module_version": "1.5.0",
       "_view_name": "HTMLView",
       "description": "",
       "description_tooltip": null,
       "layout": "IPY_MODEL_c9563351bca14ebd86305b21baffbe7c",
       "placeholder": "​",
       "style": "IPY_MODEL_aa3ac387b8544136b95512f0465b8248",
       "value": "Downloading: 100%"
      }
     },
     "92abb5265262418d85e671e10b333ca0": {
      "model_module": "@jupyter-widgets/base",
      "model_module_version": "1.2.0",
      "model_name": "LayoutModel",
      "state": {
       "_model_module": "@jupyter-widgets/base",
       "_model_module_version": "1.2.0",
       "_model_name": "LayoutModel",
       "_view_count": null,
       "_view_module": "@jupyter-widgets/base",
       "_view_module_version": "1.2.0",
       "_view_name": "LayoutView",
       "align_content": null,
       "align_items": null,
       "align_self": null,
       "border": null,
       "bottom": null,
       "display": null,
       "flex": null,
       "flex_flow": null,
       "grid_area": null,
       "grid_auto_columns": null,
       "grid_auto_flow": null,
       "grid_auto_rows": null,
       "grid_column": null,
       "grid_gap": null,
       "grid_row": null,
       "grid_template_areas": null,
       "grid_template_columns": null,
       "grid_template_rows": null,
       "height": null,
       "justify_content": null,
       "justify_items": null,
       "left": null,
       "margin": null,
       "max_height": null,
       "max_width": null,
       "min_height": null,
       "min_width": null,
       "object_fit": null,
       "object_position": null,
       "order": null,
       "overflow": null,
       "overflow_x": null,
       "overflow_y": null,
       "padding": null,
       "right": null,
       "top": null,
       "visibility": null,
       "width": null
      }
     },
     "95ce0e1e683046afb94c12efdcd87ce0": {
      "model_module": "@jupyter-widgets/base",
      "model_module_version": "1.2.0",
      "model_name": "LayoutModel",
      "state": {
       "_model_module": "@jupyter-widgets/base",
       "_model_module_version": "1.2.0",
       "_model_name": "LayoutModel",
       "_view_count": null,
       "_view_module": "@jupyter-widgets/base",
       "_view_module_version": "1.2.0",
       "_view_name": "LayoutView",
       "align_content": null,
       "align_items": null,
       "align_self": null,
       "border": null,
       "bottom": null,
       "display": null,
       "flex": null,
       "flex_flow": null,
       "grid_area": null,
       "grid_auto_columns": null,
       "grid_auto_flow": null,
       "grid_auto_rows": null,
       "grid_column": null,
       "grid_gap": null,
       "grid_row": null,
       "grid_template_areas": null,
       "grid_template_columns": null,
       "grid_template_rows": null,
       "height": null,
       "justify_content": null,
       "justify_items": null,
       "left": null,
       "margin": null,
       "max_height": null,
       "max_width": null,
       "min_height": null,
       "min_width": null,
       "object_fit": null,
       "object_position": null,
       "order": null,
       "overflow": null,
       "overflow_x": null,
       "overflow_y": null,
       "padding": null,
       "right": null,
       "top": null,
       "visibility": null,
       "width": null
      }
     },
     "9a028d69cca94e31b5fe44f7cfe8ecfb": {
      "model_module": "@jupyter-widgets/controls",
      "model_module_version": "1.5.0",
      "model_name": "ProgressStyleModel",
      "state": {
       "_model_module": "@jupyter-widgets/controls",
       "_model_module_version": "1.5.0",
       "_model_name": "ProgressStyleModel",
       "_view_count": null,
       "_view_module": "@jupyter-widgets/base",
       "_view_module_version": "1.2.0",
       "_view_name": "StyleView",
       "bar_color": null,
       "description_width": ""
      }
     },
     "9e66fd2a4b054714b2b104f31dbd9efd": {
      "model_module": "@jupyter-widgets/controls",
      "model_module_version": "1.5.0",
      "model_name": "HTMLModel",
      "state": {
       "_dom_classes": [],
       "_model_module": "@jupyter-widgets/controls",
       "_model_module_version": "1.5.0",
       "_model_name": "HTMLModel",
       "_view_count": null,
       "_view_module": "@jupyter-widgets/controls",
       "_view_module_version": "1.5.0",
       "_view_name": "HTMLView",
       "description": "",
       "description_tooltip": null,
       "layout": "IPY_MODEL_2d8c1362f3ec4c3e8ab8824085a8e6a3",
       "placeholder": "​",
       "style": "IPY_MODEL_b651588471484fc7a918ee3c4fe0f51e",
       "value": " 385/385 [00:00&lt;00:00, 10.1kB/s]"
      }
     },
     "a3ad2f7742ee450c92a0b51be0000cd7": {
      "model_module": "@jupyter-widgets/controls",
      "model_module_version": "1.5.0",
      "model_name": "DescriptionStyleModel",
      "state": {
       "_model_module": "@jupyter-widgets/controls",
       "_model_module_version": "1.5.0",
       "_model_name": "DescriptionStyleModel",
       "_view_count": null,
       "_view_module": "@jupyter-widgets/base",
       "_view_module_version": "1.2.0",
       "_view_name": "StyleView",
       "description_width": ""
      }
     },
     "a5aa6980c8d44b9da23620c52d2142e2": {
      "model_module": "@jupyter-widgets/controls",
      "model_module_version": "1.5.0",
      "model_name": "HTMLModel",
      "state": {
       "_dom_classes": [],
       "_model_module": "@jupyter-widgets/controls",
       "_model_module_version": "1.5.0",
       "_model_name": "HTMLModel",
       "_view_count": null,
       "_view_module": "@jupyter-widgets/controls",
       "_view_module_version": "1.5.0",
       "_view_name": "HTMLView",
       "description": "",
       "description_tooltip": null,
       "layout": "IPY_MODEL_5a8a5e6ea48942daa4012f3077b62221",
       "placeholder": "​",
       "style": "IPY_MODEL_58dd96ec545b45cd9f9b7a8408b523f3",
       "value": "Downloading: 100%"
      }
     },
     "a76a5bbf93ce4becb2504500c21d5285": {
      "model_module": "@jupyter-widgets/controls",
      "model_module_version": "1.5.0",
      "model_name": "HTMLModel",
      "state": {
       "_dom_classes": [],
       "_model_module": "@jupyter-widgets/controls",
       "_model_module_version": "1.5.0",
       "_model_name": "HTMLModel",
       "_view_count": null,
       "_view_module": "@jupyter-widgets/controls",
       "_view_module_version": "1.5.0",
       "_view_name": "HTMLView",
       "description": "",
       "description_tooltip": null,
       "layout": "IPY_MODEL_e6752285eb6647f0ad8b792313068dec",
       "placeholder": "​",
       "style": "IPY_MODEL_a3ad2f7742ee450c92a0b51be0000cd7",
       "value": " 226k/226k [00:00&lt;00:00, 317kB/s]"
      }
     },
     "a854900ecc71455380fdb23bbc951c71": {
      "model_module": "@jupyter-widgets/base",
      "model_module_version": "1.2.0",
      "model_name": "LayoutModel",
      "state": {
       "_model_module": "@jupyter-widgets/base",
       "_model_module_version": "1.2.0",
       "_model_name": "LayoutModel",
       "_view_count": null,
       "_view_module": "@jupyter-widgets/base",
       "_view_module_version": "1.2.0",
       "_view_name": "LayoutView",
       "align_content": null,
       "align_items": null,
       "align_self": null,
       "border": null,
       "bottom": null,
       "display": null,
       "flex": null,
       "flex_flow": null,
       "grid_area": null,
       "grid_auto_columns": null,
       "grid_auto_flow": null,
       "grid_auto_rows": null,
       "grid_column": null,
       "grid_gap": null,
       "grid_row": null,
       "grid_template_areas": null,
       "grid_template_columns": null,
       "grid_template_rows": null,
       "height": null,
       "justify_content": null,
       "justify_items": null,
       "left": null,
       "margin": null,
       "max_height": null,
       "max_width": null,
       "min_height": null,
       "min_width": null,
       "object_fit": null,
       "object_position": null,
       "order": null,
       "overflow": null,
       "overflow_x": null,
       "overflow_y": null,
       "padding": null,
       "right": null,
       "top": null,
       "visibility": null,
       "width": null
      }
     },
     "aa3ac387b8544136b95512f0465b8248": {
      "model_module": "@jupyter-widgets/controls",
      "model_module_version": "1.5.0",
      "model_name": "DescriptionStyleModel",
      "state": {
       "_model_module": "@jupyter-widgets/controls",
       "_model_module_version": "1.5.0",
       "_model_name": "DescriptionStyleModel",
       "_view_count": null,
       "_view_module": "@jupyter-widgets/base",
       "_view_module_version": "1.2.0",
       "_view_name": "StyleView",
       "description_width": ""
      }
     },
     "af2a2081b65b4cc6bd82df46e9c42038": {
      "model_module": "@jupyter-widgets/controls",
      "model_module_version": "1.5.0",
      "model_name": "DescriptionStyleModel",
      "state": {
       "_model_module": "@jupyter-widgets/controls",
       "_model_module_version": "1.5.0",
       "_model_name": "DescriptionStyleModel",
       "_view_count": null,
       "_view_module": "@jupyter-widgets/base",
       "_view_module_version": "1.2.0",
       "_view_name": "StyleView",
       "description_width": ""
      }
     },
     "b3a024ca8fe54b59ac92c56274135ed0": {
      "model_module": "@jupyter-widgets/controls",
      "model_module_version": "1.5.0",
      "model_name": "HTMLModel",
      "state": {
       "_dom_classes": [],
       "_model_module": "@jupyter-widgets/controls",
       "_model_module_version": "1.5.0",
       "_model_name": "HTMLModel",
       "_view_count": null,
       "_view_module": "@jupyter-widgets/controls",
       "_view_module_version": "1.5.0",
       "_view_name": "HTMLView",
       "description": "",
       "description_tooltip": null,
       "layout": "IPY_MODEL_dbfdf980462f40b2b0b35840943c5df1",
       "placeholder": "​",
       "style": "IPY_MODEL_47674cefae7e447c84edcef90cb53b9b",
       "value": "Downloading: 100%"
      }
     },
     "b3c8b9e4d00544c09d00072282120c72": {
      "model_module": "@jupyter-widgets/base",
      "model_module_version": "1.2.0",
      "model_name": "LayoutModel",
      "state": {
       "_model_module": "@jupyter-widgets/base",
       "_model_module_version": "1.2.0",
       "_model_name": "LayoutModel",
       "_view_count": null,
       "_view_module": "@jupyter-widgets/base",
       "_view_module_version": "1.2.0",
       "_view_name": "LayoutView",
       "align_content": null,
       "align_items": null,
       "align_self": null,
       "border": null,
       "bottom": null,
       "display": null,
       "flex": null,
       "flex_flow": null,
       "grid_area": null,
       "grid_auto_columns": null,
       "grid_auto_flow": null,
       "grid_auto_rows": null,
       "grid_column": null,
       "grid_gap": null,
       "grid_row": null,
       "grid_template_areas": null,
       "grid_template_columns": null,
       "grid_template_rows": null,
       "height": null,
       "justify_content": null,
       "justify_items": null,
       "left": null,
       "margin": null,
       "max_height": null,
       "max_width": null,
       "min_height": null,
       "min_width": null,
       "object_fit": null,
       "object_position": null,
       "order": null,
       "overflow": null,
       "overflow_x": null,
       "overflow_y": null,
       "padding": null,
       "right": null,
       "top": null,
       "visibility": null,
       "width": null
      }
     },
     "b407a5d5892a46118c54c30e32fd390c": {
      "model_module": "@jupyter-widgets/controls",
      "model_module_version": "1.5.0",
      "model_name": "DescriptionStyleModel",
      "state": {
       "_model_module": "@jupyter-widgets/controls",
       "_model_module_version": "1.5.0",
       "_model_name": "DescriptionStyleModel",
       "_view_count": null,
       "_view_module": "@jupyter-widgets/base",
       "_view_module_version": "1.2.0",
       "_view_name": "StyleView",
       "description_width": ""
      }
     },
     "b4399b60cb284d91bbead5fe2c20341a": {
      "model_module": "@jupyter-widgets/controls",
      "model_module_version": "1.5.0",
      "model_name": "ProgressStyleModel",
      "state": {
       "_model_module": "@jupyter-widgets/controls",
       "_model_module_version": "1.5.0",
       "_model_name": "ProgressStyleModel",
       "_view_count": null,
       "_view_module": "@jupyter-widgets/base",
       "_view_module_version": "1.2.0",
       "_view_name": "StyleView",
       "bar_color": null,
       "description_width": ""
      }
     },
     "b651588471484fc7a918ee3c4fe0f51e": {
      "model_module": "@jupyter-widgets/controls",
      "model_module_version": "1.5.0",
      "model_name": "DescriptionStyleModel",
      "state": {
       "_model_module": "@jupyter-widgets/controls",
       "_model_module_version": "1.5.0",
       "_model_name": "DescriptionStyleModel",
       "_view_count": null,
       "_view_module": "@jupyter-widgets/base",
       "_view_module_version": "1.2.0",
       "_view_name": "StyleView",
       "description_width": ""
      }
     },
     "b79ccbedb27a43219302dca42d45dbef": {
      "model_module": "@jupyter-widgets/controls",
      "model_module_version": "1.5.0",
      "model_name": "HTMLModel",
      "state": {
       "_dom_classes": [],
       "_model_module": "@jupyter-widgets/controls",
       "_model_module_version": "1.5.0",
       "_model_name": "HTMLModel",
       "_view_count": null,
       "_view_module": "@jupyter-widgets/controls",
       "_view_module_version": "1.5.0",
       "_view_name": "HTMLView",
       "description": "",
       "description_tooltip": null,
       "layout": "IPY_MODEL_68ac8142401b4887b702a3f5bba3e41f",
       "placeholder": "​",
       "style": "IPY_MODEL_4a1da2d0efe54b6aa2db8be5d7155425",
       "value": " 570/570 [00:00&lt;00:00, 18.2kB/s]"
      }
     },
     "b94ccea05f414f4d8067c85398984f65": {
      "model_module": "@jupyter-widgets/controls",
      "model_module_version": "1.5.0",
      "model_name": "ProgressStyleModel",
      "state": {
       "_model_module": "@jupyter-widgets/controls",
       "_model_module_version": "1.5.0",
       "_model_name": "ProgressStyleModel",
       "_view_count": null,
       "_view_module": "@jupyter-widgets/base",
       "_view_module_version": "1.2.0",
       "_view_name": "StyleView",
       "bar_color": null,
       "description_width": ""
      }
     },
     "bcb1b8b280864d9bb0c2b6d72bc97d0b": {
      "model_module": "@jupyter-widgets/controls",
      "model_module_version": "1.5.0",
      "model_name": "HTMLModel",
      "state": {
       "_dom_classes": [],
       "_model_module": "@jupyter-widgets/controls",
       "_model_module_version": "1.5.0",
       "_model_name": "HTMLModel",
       "_view_count": null,
       "_view_module": "@jupyter-widgets/controls",
       "_view_module_version": "1.5.0",
       "_view_name": "HTMLView",
       "description": "",
       "description_tooltip": null,
       "layout": "IPY_MODEL_e3b09e5c74c142aa90cb05202f35064c",
       "placeholder": "​",
       "style": "IPY_MODEL_4070214a942146d7b25dd6187a4bdd51",
       "value": " 28.0/28.0 [00:00&lt;00:00, 850B/s]"
      }
     },
     "c0ab119ccb3d4d33942967e1d9d0c29a": {
      "model_module": "@jupyter-widgets/base",
      "model_module_version": "1.2.0",
      "model_name": "LayoutModel",
      "state": {
       "_model_module": "@jupyter-widgets/base",
       "_model_module_version": "1.2.0",
       "_model_name": "LayoutModel",
       "_view_count": null,
       "_view_module": "@jupyter-widgets/base",
       "_view_module_version": "1.2.0",
       "_view_name": "LayoutView",
       "align_content": null,
       "align_items": null,
       "align_self": null,
       "border": null,
       "bottom": null,
       "display": null,
       "flex": null,
       "flex_flow": null,
       "grid_area": null,
       "grid_auto_columns": null,
       "grid_auto_flow": null,
       "grid_auto_rows": null,
       "grid_column": null,
       "grid_gap": null,
       "grid_row": null,
       "grid_template_areas": null,
       "grid_template_columns": null,
       "grid_template_rows": null,
       "height": null,
       "justify_content": null,
       "justify_items": null,
       "left": null,
       "margin": null,
       "max_height": null,
       "max_width": null,
       "min_height": null,
       "min_width": null,
       "object_fit": null,
       "object_position": null,
       "order": null,
       "overflow": null,
       "overflow_x": null,
       "overflow_y": null,
       "padding": null,
       "right": null,
       "top": null,
       "visibility": null,
       "width": null
      }
     },
     "c0ab4d6fabe64a13bdadec45858b412f": {
      "model_module": "@jupyter-widgets/controls",
      "model_module_version": "1.5.0",
      "model_name": "ProgressStyleModel",
      "state": {
       "_model_module": "@jupyter-widgets/controls",
       "_model_module_version": "1.5.0",
       "_model_name": "ProgressStyleModel",
       "_view_count": null,
       "_view_module": "@jupyter-widgets/base",
       "_view_module_version": "1.2.0",
       "_view_name": "StyleView",
       "bar_color": null,
       "description_width": ""
      }
     },
     "c2653b062d644e7bbc2c4fd530c0717f": {
      "model_module": "@jupyter-widgets/controls",
      "model_module_version": "1.5.0",
      "model_name": "FloatProgressModel",
      "state": {
       "_dom_classes": [],
       "_model_module": "@jupyter-widgets/controls",
       "_model_module_version": "1.5.0",
       "_model_name": "FloatProgressModel",
       "_view_count": null,
       "_view_module": "@jupyter-widgets/controls",
       "_view_module_version": "1.5.0",
       "_view_name": "ProgressView",
       "bar_style": "success",
       "description": "",
       "description_tooltip": null,
       "layout": "IPY_MODEL_ebe7291b57964fd681851ba52c56eb0c",
       "max": 570.0,
       "min": 0.0,
       "orientation": "horizontal",
       "style": "IPY_MODEL_c0ab4d6fabe64a13bdadec45858b412f",
       "value": 570.0
      }
     },
     "c28e1c4c38624dce9b96e3f14d6d2b06": {
      "model_module": "@jupyter-widgets/base",
      "model_module_version": "1.2.0",
      "model_name": "LayoutModel",
      "state": {
       "_model_module": "@jupyter-widgets/base",
       "_model_module_version": "1.2.0",
       "_model_name": "LayoutModel",
       "_view_count": null,
       "_view_module": "@jupyter-widgets/base",
       "_view_module_version": "1.2.0",
       "_view_name": "LayoutView",
       "align_content": null,
       "align_items": null,
       "align_self": null,
       "border": null,
       "bottom": null,
       "display": null,
       "flex": null,
       "flex_flow": null,
       "grid_area": null,
       "grid_auto_columns": null,
       "grid_auto_flow": null,
       "grid_auto_rows": null,
       "grid_column": null,
       "grid_gap": null,
       "grid_row": null,
       "grid_template_areas": null,
       "grid_template_columns": null,
       "grid_template_rows": null,
       "height": null,
       "justify_content": null,
       "justify_items": null,
       "left": null,
       "margin": null,
       "max_height": null,
       "max_width": null,
       "min_height": null,
       "min_width": null,
       "object_fit": null,
       "object_position": null,
       "order": null,
       "overflow": null,
       "overflow_x": null,
       "overflow_y": null,
       "padding": null,
       "right": null,
       "top": null,
       "visibility": null,
       "width": null
      }
     },
     "c46860bd61de4d01bcf4adb774f261b1": {
      "model_module": "@jupyter-widgets/controls",
      "model_module_version": "1.5.0",
      "model_name": "DescriptionStyleModel",
      "state": {
       "_model_module": "@jupyter-widgets/controls",
       "_model_module_version": "1.5.0",
       "_model_name": "DescriptionStyleModel",
       "_view_count": null,
       "_view_module": "@jupyter-widgets/base",
       "_view_module_version": "1.2.0",
       "_view_name": "StyleView",
       "description_width": ""
      }
     },
     "c6986d6885a841d2b1763b6b6779fa6a": {
      "model_module": "@jupyter-widgets/controls",
      "model_module_version": "1.5.0",
      "model_name": "DescriptionStyleModel",
      "state": {
       "_model_module": "@jupyter-widgets/controls",
       "_model_module_version": "1.5.0",
       "_model_name": "DescriptionStyleModel",
       "_view_count": null,
       "_view_module": "@jupyter-widgets/base",
       "_view_module_version": "1.2.0",
       "_view_name": "StyleView",
       "description_width": ""
      }
     },
     "c9563351bca14ebd86305b21baffbe7c": {
      "model_module": "@jupyter-widgets/base",
      "model_module_version": "1.2.0",
      "model_name": "LayoutModel",
      "state": {
       "_model_module": "@jupyter-widgets/base",
       "_model_module_version": "1.2.0",
       "_model_name": "LayoutModel",
       "_view_count": null,
       "_view_module": "@jupyter-widgets/base",
       "_view_module_version": "1.2.0",
       "_view_name": "LayoutView",
       "align_content": null,
       "align_items": null,
       "align_self": null,
       "border": null,
       "bottom": null,
       "display": null,
       "flex": null,
       "flex_flow": null,
       "grid_area": null,
       "grid_auto_columns": null,
       "grid_auto_flow": null,
       "grid_auto_rows": null,
       "grid_column": null,
       "grid_gap": null,
       "grid_row": null,
       "grid_template_areas": null,
       "grid_template_columns": null,
       "grid_template_rows": null,
       "height": null,
       "justify_content": null,
       "justify_items": null,
       "left": null,
       "margin": null,
       "max_height": null,
       "max_width": null,
       "min_height": null,
       "min_width": null,
       "object_fit": null,
       "object_position": null,
       "order": null,
       "overflow": null,
       "overflow_x": null,
       "overflow_y": null,
       "padding": null,
       "right": null,
       "top": null,
       "visibility": null,
       "width": null
      }
     },
     "cbada0a264704f21a164ca3a4c201ef1": {
      "model_module": "@jupyter-widgets/controls",
      "model_module_version": "1.5.0",
      "model_name": "HTMLModel",
      "state": {
       "_dom_classes": [],
       "_model_module": "@jupyter-widgets/controls",
       "_model_module_version": "1.5.0",
       "_model_name": "HTMLModel",
       "_view_count": null,
       "_view_module": "@jupyter-widgets/controls",
       "_view_module_version": "1.5.0",
       "_view_name": "HTMLView",
       "description": "",
       "description_tooltip": null,
       "layout": "IPY_MODEL_c28e1c4c38624dce9b96e3f14d6d2b06",
       "placeholder": "​",
       "style": "IPY_MODEL_7d50f91611ed4b77a4767f33b8353e3a",
       "value": " 455k/455k [00:00&lt;00:00, 651kB/s]"
      }
     },
     "cf1cf7a5dd804f90978588283a1c8e21": {
      "model_module": "@jupyter-widgets/controls",
      "model_module_version": "1.5.0",
      "model_name": "ProgressStyleModel",
      "state": {
       "_model_module": "@jupyter-widgets/controls",
       "_model_module_version": "1.5.0",
       "_model_name": "ProgressStyleModel",
       "_view_count": null,
       "_view_module": "@jupyter-widgets/base",
       "_view_module_version": "1.2.0",
       "_view_name": "StyleView",
       "bar_color": null,
       "description_width": ""
      }
     },
     "d2c3a9b2d8264fffa3d8a35057abfbb5": {
      "model_module": "@jupyter-widgets/base",
      "model_module_version": "1.2.0",
      "model_name": "LayoutModel",
      "state": {
       "_model_module": "@jupyter-widgets/base",
       "_model_module_version": "1.2.0",
       "_model_name": "LayoutModel",
       "_view_count": null,
       "_view_module": "@jupyter-widgets/base",
       "_view_module_version": "1.2.0",
       "_view_name": "LayoutView",
       "align_content": null,
       "align_items": null,
       "align_self": null,
       "border": null,
       "bottom": null,
       "display": null,
       "flex": null,
       "flex_flow": null,
       "grid_area": null,
       "grid_auto_columns": null,
       "grid_auto_flow": null,
       "grid_auto_rows": null,
       "grid_column": null,
       "grid_gap": null,
       "grid_row": null,
       "grid_template_areas": null,
       "grid_template_columns": null,
       "grid_template_rows": null,
       "height": null,
       "justify_content": null,
       "justify_items": null,
       "left": null,
       "margin": null,
       "max_height": null,
       "max_width": null,
       "min_height": null,
       "min_width": null,
       "object_fit": null,
       "object_position": null,
       "order": null,
       "overflow": null,
       "overflow_x": null,
       "overflow_y": null,
       "padding": null,
       "right": null,
       "top": null,
       "visibility": null,
       "width": null
      }
     },
     "d97fc17ddf4a42e8965b68fb48637ac6": {
      "model_module": "@jupyter-widgets/controls",
      "model_module_version": "1.5.0",
      "model_name": "HBoxModel",
      "state": {
       "_dom_classes": [],
       "_model_module": "@jupyter-widgets/controls",
       "_model_module_version": "1.5.0",
       "_model_name": "HBoxModel",
       "_view_count": null,
       "_view_module": "@jupyter-widgets/controls",
       "_view_module_version": "1.5.0",
       "_view_name": "HBoxView",
       "box_style": "",
       "children": [
        "IPY_MODEL_2f25bc7f38184eeda97d2d0d8343776e",
        "IPY_MODEL_6f7c537ca5b745df8a12fa150d616e39",
        "IPY_MODEL_a76a5bbf93ce4becb2504500c21d5285"
       ],
       "layout": "IPY_MODEL_55e5556fa1124d7cb55d44728af8a96e"
      }
     },
     "d9f70c28ef9746e8827163fdeac899c8": {
      "model_module": "@jupyter-widgets/controls",
      "model_module_version": "1.5.0",
      "model_name": "HTMLModel",
      "state": {
       "_dom_classes": [],
       "_model_module": "@jupyter-widgets/controls",
       "_model_module_version": "1.5.0",
       "_model_name": "HTMLModel",
       "_view_count": null,
       "_view_module": "@jupyter-widgets/controls",
       "_view_module_version": "1.5.0",
       "_view_name": "HTMLView",
       "description": "",
       "description_tooltip": null,
       "layout": "IPY_MODEL_721193f9877b423fbe686b0d3805f7b0",
       "placeholder": "​",
       "style": "IPY_MODEL_0000618b86f74bae9e7d46e2797a80ba",
       "value": " 446k/446k [00:00&lt;00:00, 606kB/s]"
      }
     },
     "dbfdf980462f40b2b0b35840943c5df1": {
      "model_module": "@jupyter-widgets/base",
      "model_module_version": "1.2.0",
      "model_name": "LayoutModel",
      "state": {
       "_model_module": "@jupyter-widgets/base",
       "_model_module_version": "1.2.0",
       "_model_name": "LayoutModel",
       "_view_count": null,
       "_view_module": "@jupyter-widgets/base",
       "_view_module_version": "1.2.0",
       "_view_name": "LayoutView",
       "align_content": null,
       "align_items": null,
       "align_self": null,
       "border": null,
       "bottom": null,
       "display": null,
       "flex": null,
       "flex_flow": null,
       "grid_area": null,
       "grid_auto_columns": null,
       "grid_auto_flow": null,
       "grid_auto_rows": null,
       "grid_column": null,
       "grid_gap": null,
       "grid_row": null,
       "grid_template_areas": null,
       "grid_template_columns": null,
       "grid_template_rows": null,
       "height": null,
       "justify_content": null,
       "justify_items": null,
       "left": null,
       "margin": null,
       "max_height": null,
       "max_width": null,
       "min_height": null,
       "min_width": null,
       "object_fit": null,
       "object_position": null,
       "order": null,
       "overflow": null,
       "overflow_x": null,
       "overflow_y": null,
       "padding": null,
       "right": null,
       "top": null,
       "visibility": null,
       "width": null
      }
     },
     "e0b7976572f6407cb1b3c47110e3fc2f": {
      "model_module": "@jupyter-widgets/controls",
      "model_module_version": "1.5.0",
      "model_name": "HBoxModel",
      "state": {
       "_dom_classes": [],
       "_model_module": "@jupyter-widgets/controls",
       "_model_module_version": "1.5.0",
       "_model_name": "HBoxModel",
       "_view_count": null,
       "_view_module": "@jupyter-widgets/controls",
       "_view_module_version": "1.5.0",
       "_view_name": "HBoxView",
       "box_style": "",
       "children": [
        "IPY_MODEL_1e8fdaa7b15745ffadd690f7ab2a8db5",
        "IPY_MODEL_c2653b062d644e7bbc2c4fd530c0717f",
        "IPY_MODEL_b79ccbedb27a43219302dca42d45dbef"
       ],
       "layout": "IPY_MODEL_95ce0e1e683046afb94c12efdcd87ce0"
      }
     },
     "e14b4d5fc83d4d5082a06f714efbb648": {
      "model_module": "@jupyter-widgets/controls",
      "model_module_version": "1.5.0",
      "model_name": "FloatProgressModel",
      "state": {
       "_dom_classes": [],
       "_model_module": "@jupyter-widgets/controls",
       "_model_module_version": "1.5.0",
       "_model_name": "FloatProgressModel",
       "_view_count": null,
       "_view_module": "@jupyter-widgets/controls",
       "_view_module_version": "1.5.0",
       "_view_name": "ProgressView",
       "bar_style": "success",
       "description": "",
       "description_tooltip": null,
       "layout": "IPY_MODEL_2f7ac7dd1b9b40b89502fc3e1ee27710",
       "max": 28.0,
       "min": 0.0,
       "orientation": "horizontal",
       "style": "IPY_MODEL_ecc35993fae24faca598c3472e7e0906",
       "value": 28.0
      }
     },
     "e3b09e5c74c142aa90cb05202f35064c": {
      "model_module": "@jupyter-widgets/base",
      "model_module_version": "1.2.0",
      "model_name": "LayoutModel",
      "state": {
       "_model_module": "@jupyter-widgets/base",
       "_model_module_version": "1.2.0",
       "_model_name": "LayoutModel",
       "_view_count": null,
       "_view_module": "@jupyter-widgets/base",
       "_view_module_version": "1.2.0",
       "_view_name": "LayoutView",
       "align_content": null,
       "align_items": null,
       "align_self": null,
       "border": null,
       "bottom": null,
       "display": null,
       "flex": null,
       "flex_flow": null,
       "grid_area": null,
       "grid_auto_columns": null,
       "grid_auto_flow": null,
       "grid_auto_rows": null,
       "grid_column": null,
       "grid_gap": null,
       "grid_row": null,
       "grid_template_areas": null,
       "grid_template_columns": null,
       "grid_template_rows": null,
       "height": null,
       "justify_content": null,
       "justify_items": null,
       "left": null,
       "margin": null,
       "max_height": null,
       "max_width": null,
       "min_height": null,
       "min_width": null,
       "object_fit": null,
       "object_position": null,
       "order": null,
       "overflow": null,
       "overflow_x": null,
       "overflow_y": null,
       "padding": null,
       "right": null,
       "top": null,
       "visibility": null,
       "width": null
      }
     },
     "e54451fe64c543288bd918cb35fdc506": {
      "model_module": "@jupyter-widgets/base",
      "model_module_version": "1.2.0",
      "model_name": "LayoutModel",
      "state": {
       "_model_module": "@jupyter-widgets/base",
       "_model_module_version": "1.2.0",
       "_model_name": "LayoutModel",
       "_view_count": null,
       "_view_module": "@jupyter-widgets/base",
       "_view_module_version": "1.2.0",
       "_view_name": "LayoutView",
       "align_content": null,
       "align_items": null,
       "align_self": null,
       "border": null,
       "bottom": null,
       "display": null,
       "flex": null,
       "flex_flow": null,
       "grid_area": null,
       "grid_auto_columns": null,
       "grid_auto_flow": null,
       "grid_auto_rows": null,
       "grid_column": null,
       "grid_gap": null,
       "grid_row": null,
       "grid_template_areas": null,
       "grid_template_columns": null,
       "grid_template_rows": null,
       "height": null,
       "justify_content": null,
       "justify_items": null,
       "left": null,
       "margin": null,
       "max_height": null,
       "max_width": null,
       "min_height": null,
       "min_width": null,
       "object_fit": null,
       "object_position": null,
       "order": null,
       "overflow": null,
       "overflow_x": null,
       "overflow_y": null,
       "padding": null,
       "right": null,
       "top": null,
       "visibility": null,
       "width": null
      }
     },
     "e6752285eb6647f0ad8b792313068dec": {
      "model_module": "@jupyter-widgets/base",
      "model_module_version": "1.2.0",
      "model_name": "LayoutModel",
      "state": {
       "_model_module": "@jupyter-widgets/base",
       "_model_module_version": "1.2.0",
       "_model_name": "LayoutModel",
       "_view_count": null,
       "_view_module": "@jupyter-widgets/base",
       "_view_module_version": "1.2.0",
       "_view_name": "LayoutView",
       "align_content": null,
       "align_items": null,
       "align_self": null,
       "border": null,
       "bottom": null,
       "display": null,
       "flex": null,
       "flex_flow": null,
       "grid_area": null,
       "grid_auto_columns": null,
       "grid_auto_flow": null,
       "grid_auto_rows": null,
       "grid_column": null,
       "grid_gap": null,
       "grid_row": null,
       "grid_template_areas": null,
       "grid_template_columns": null,
       "grid_template_rows": null,
       "height": null,
       "justify_content": null,
       "justify_items": null,
       "left": null,
       "margin": null,
       "max_height": null,
       "max_width": null,
       "min_height": null,
       "min_width": null,
       "object_fit": null,
       "object_position": null,
       "order": null,
       "overflow": null,
       "overflow_x": null,
       "overflow_y": null,
       "padding": null,
       "right": null,
       "top": null,
       "visibility": null,
       "width": null
      }
     },
     "e6d549e92c084ca1a2f75757697dcf85": {
      "model_module": "@jupyter-widgets/base",
      "model_module_version": "1.2.0",
      "model_name": "LayoutModel",
      "state": {
       "_model_module": "@jupyter-widgets/base",
       "_model_module_version": "1.2.0",
       "_model_name": "LayoutModel",
       "_view_count": null,
       "_view_module": "@jupyter-widgets/base",
       "_view_module_version": "1.2.0",
       "_view_name": "LayoutView",
       "align_content": null,
       "align_items": null,
       "align_self": null,
       "border": null,
       "bottom": null,
       "display": null,
       "flex": null,
       "flex_flow": null,
       "grid_area": null,
       "grid_auto_columns": null,
       "grid_auto_flow": null,
       "grid_auto_rows": null,
       "grid_column": null,
       "grid_gap": null,
       "grid_row": null,
       "grid_template_areas": null,
       "grid_template_columns": null,
       "grid_template_rows": null,
       "height": null,
       "justify_content": null,
       "justify_items": null,
       "left": null,
       "margin": null,
       "max_height": null,
       "max_width": null,
       "min_height": null,
       "min_width": null,
       "object_fit": null,
       "object_position": null,
       "order": null,
       "overflow": null,
       "overflow_x": null,
       "overflow_y": null,
       "padding": null,
       "right": null,
       "top": null,
       "visibility": null,
       "width": null
      }
     },
     "e8d75a0053ff40a49ca7f95a1f8b6e65": {
      "model_module": "@jupyter-widgets/controls",
      "model_module_version": "1.5.0",
      "model_name": "DescriptionStyleModel",
      "state": {
       "_model_module": "@jupyter-widgets/controls",
       "_model_module_version": "1.5.0",
       "_model_name": "DescriptionStyleModel",
       "_view_count": null,
       "_view_module": "@jupyter-widgets/base",
       "_view_module_version": "1.2.0",
       "_view_name": "StyleView",
       "description_width": ""
      }
     },
     "e8ea5f48e11a4701b54b2831a7ab4048": {
      "model_module": "@jupyter-widgets/base",
      "model_module_version": "1.2.0",
      "model_name": "LayoutModel",
      "state": {
       "_model_module": "@jupyter-widgets/base",
       "_model_module_version": "1.2.0",
       "_model_name": "LayoutModel",
       "_view_count": null,
       "_view_module": "@jupyter-widgets/base",
       "_view_module_version": "1.2.0",
       "_view_name": "LayoutView",
       "align_content": null,
       "align_items": null,
       "align_self": null,
       "border": null,
       "bottom": null,
       "display": null,
       "flex": null,
       "flex_flow": null,
       "grid_area": null,
       "grid_auto_columns": null,
       "grid_auto_flow": null,
       "grid_auto_rows": null,
       "grid_column": null,
       "grid_gap": null,
       "grid_row": null,
       "grid_template_areas": null,
       "grid_template_columns": null,
       "grid_template_rows": null,
       "height": null,
       "justify_content": null,
       "justify_items": null,
       "left": null,
       "margin": null,
       "max_height": null,
       "max_width": null,
       "min_height": null,
       "min_width": null,
       "object_fit": null,
       "object_position": null,
       "order": null,
       "overflow": null,
       "overflow_x": null,
       "overflow_y": null,
       "padding": null,
       "right": null,
       "top": null,
       "visibility": null,
       "width": null
      }
     },
     "ebe7291b57964fd681851ba52c56eb0c": {
      "model_module": "@jupyter-widgets/base",
      "model_module_version": "1.2.0",
      "model_name": "LayoutModel",
      "state": {
       "_model_module": "@jupyter-widgets/base",
       "_model_module_version": "1.2.0",
       "_model_name": "LayoutModel",
       "_view_count": null,
       "_view_module": "@jupyter-widgets/base",
       "_view_module_version": "1.2.0",
       "_view_name": "LayoutView",
       "align_content": null,
       "align_items": null,
       "align_self": null,
       "border": null,
       "bottom": null,
       "display": null,
       "flex": null,
       "flex_flow": null,
       "grid_area": null,
       "grid_auto_columns": null,
       "grid_auto_flow": null,
       "grid_auto_rows": null,
       "grid_column": null,
       "grid_gap": null,
       "grid_row": null,
       "grid_template_areas": null,
       "grid_template_columns": null,
       "grid_template_rows": null,
       "height": null,
       "justify_content": null,
       "justify_items": null,
       "left": null,
       "margin": null,
       "max_height": null,
       "max_width": null,
       "min_height": null,
       "min_width": null,
       "object_fit": null,
       "object_position": null,
       "order": null,
       "overflow": null,
       "overflow_x": null,
       "overflow_y": null,
       "padding": null,
       "right": null,
       "top": null,
       "visibility": null,
       "width": null
      }
     },
     "ecc35993fae24faca598c3472e7e0906": {
      "model_module": "@jupyter-widgets/controls",
      "model_module_version": "1.5.0",
      "model_name": "ProgressStyleModel",
      "state": {
       "_model_module": "@jupyter-widgets/controls",
       "_model_module_version": "1.5.0",
       "_model_name": "ProgressStyleModel",
       "_view_count": null,
       "_view_module": "@jupyter-widgets/base",
       "_view_module_version": "1.2.0",
       "_view_name": "StyleView",
       "bar_color": null,
       "description_width": ""
      }
     },
     "ee0b41f721ae4a6a92d995ebd7ad3c96": {
      "model_module": "@jupyter-widgets/base",
      "model_module_version": "1.2.0",
      "model_name": "LayoutModel",
      "state": {
       "_model_module": "@jupyter-widgets/base",
       "_model_module_version": "1.2.0",
       "_model_name": "LayoutModel",
       "_view_count": null,
       "_view_module": "@jupyter-widgets/base",
       "_view_module_version": "1.2.0",
       "_view_name": "LayoutView",
       "align_content": null,
       "align_items": null,
       "align_self": null,
       "border": null,
       "bottom": null,
       "display": null,
       "flex": null,
       "flex_flow": null,
       "grid_area": null,
       "grid_auto_columns": null,
       "grid_auto_flow": null,
       "grid_auto_rows": null,
       "grid_column": null,
       "grid_gap": null,
       "grid_row": null,
       "grid_template_areas": null,
       "grid_template_columns": null,
       "grid_template_rows": null,
       "height": null,
       "justify_content": null,
       "justify_items": null,
       "left": null,
       "margin": null,
       "max_height": null,
       "max_width": null,
       "min_height": null,
       "min_width": null,
       "object_fit": null,
       "object_position": null,
       "order": null,
       "overflow": null,
       "overflow_x": null,
       "overflow_y": null,
       "padding": null,
       "right": null,
       "top": null,
       "visibility": null,
       "width": null
      }
     },
     "f7b3f4860f9341f9a411e0e7f0da6aec": {
      "model_module": "@jupyter-widgets/base",
      "model_module_version": "1.2.0",
      "model_name": "LayoutModel",
      "state": {
       "_model_module": "@jupyter-widgets/base",
       "_model_module_version": "1.2.0",
       "_model_name": "LayoutModel",
       "_view_count": null,
       "_view_module": "@jupyter-widgets/base",
       "_view_module_version": "1.2.0",
       "_view_name": "LayoutView",
       "align_content": null,
       "align_items": null,
       "align_self": null,
       "border": null,
       "bottom": null,
       "display": null,
       "flex": null,
       "flex_flow": null,
       "grid_area": null,
       "grid_auto_columns": null,
       "grid_auto_flow": null,
       "grid_auto_rows": null,
       "grid_column": null,
       "grid_gap": null,
       "grid_row": null,
       "grid_template_areas": null,
       "grid_template_columns": null,
       "grid_template_rows": null,
       "height": null,
       "justify_content": null,
       "justify_items": null,
       "left": null,
       "margin": null,
       "max_height": null,
       "max_width": null,
       "min_height": null,
       "min_width": null,
       "object_fit": null,
       "object_position": null,
       "order": null,
       "overflow": null,
       "overflow_x": null,
       "overflow_y": null,
       "padding": null,
       "right": null,
       "top": null,
       "visibility": null,
       "width": null
      }
     },
     "fe3242ec857c4c51b77bbd4da7da72c6": {
      "model_module": "@jupyter-widgets/controls",
      "model_module_version": "1.5.0",
      "model_name": "HBoxModel",
      "state": {
       "_dom_classes": [],
       "_model_module": "@jupyter-widgets/controls",
       "_model_module_version": "1.5.0",
       "_model_name": "HBoxModel",
       "_view_count": null,
       "_view_module": "@jupyter-widgets/controls",
       "_view_module_version": "1.5.0",
       "_view_name": "HBoxView",
       "box_style": "",
       "children": [
        "IPY_MODEL_91fc9d4b05a14c6b8ef55f17c0af8429",
        "IPY_MODEL_19943c202c5847db860fca87914c83b1",
        "IPY_MODEL_7c1e717ea37c442ba20270dffe744512"
       ],
       "layout": "IPY_MODEL_373174ae5bf448fd9dafed46b4730940"
      }
     }
    },
    "version_major": 2,
    "version_minor": 0
   }
  }
 },
 "nbformat": 4,
 "nbformat_minor": 5
}
